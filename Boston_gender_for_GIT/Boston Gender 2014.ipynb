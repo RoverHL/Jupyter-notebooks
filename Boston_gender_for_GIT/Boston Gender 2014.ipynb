{
 "cells": [
  {
   "cell_type": "markdown",
   "metadata": {},
   "source": [
    "## Boston Gender with Python!!! and machine learning!!!\n"
   ]
  },
  {
   "cell_type": "code",
   "execution_count": 1,
   "metadata": {
    "collapsed": true
   },
   "outputs": [],
   "source": [
    "import pandas as pd\n",
    "import matplotlib.pyplot as plt\n",
    "import math\n",
    "import numpy as np\n",
    "import csv\n",
    "import numpy as np\n",
    "import random\n",
    "import scipy.stats as ss\n",
    "import matplotlib.pyplot as plt\n",
    "\n"
   ]
  },
  {
   "cell_type": "code",
   "execution_count": 2,
   "metadata": {},
   "outputs": [
    {
     "name": "stdout",
     "output_type": "stream",
     "text": [
      "male\n",
      "female\n",
      "andy\n"
     ]
    }
   ],
   "source": [
    "#from https://pypi.python.org/pypi/gender-guesser/0.4.0\n",
    "#uses python 3 \n",
    "\n",
    "import gender_guesser.detector as gender\n",
    "d = gender.Detector()\n",
    "print(d.get_gender(u\"Bob\"))\n",
    "\n",
    "print(d.get_gender(u\"Sally\"))\n",
    "\n",
    "print(d.get_gender(u\"Pauley\")) # should be androgynous\n"
   ]
  },
  {
   "cell_type": "code",
   "execution_count": 3,
   "metadata": {
    "collapsed": true
   },
   "outputs": [],
   "source": [
    "#import the csv i downloaded from the website with the names -- could robotize this later..\n",
    "# they have an API https://data.cityofboston.gov/Finance/Employee-Earnings-Report-2015/ah28-sywy\n",
    "#pay_2016 = pd.read_csv(\"Employee_Earnings_Report_2016.csv\")\n",
    "\n",
    "#pay_2015 = pd.read_csv(\"Employee_Earnings_Report_2015.csv\")\n",
    "pay_2014 = pd.read_csv(\"Employee_Earnings_Report_2014.csv\")\n",
    "#pay_2016.head()"
   ]
  },
  {
   "cell_type": "code",
   "execution_count": 4,
   "metadata": {},
   "outputs": [
    {
     "name": "stdout",
     "output_type": "stream",
     "text": [
      "<class 'pandas.core.frame.DataFrame'>\n",
      "RangeIndex: 22233 entries, 0 to 22232\n",
      "Data columns (total 12 columns):\n",
      "NAME               22233 non-null object\n",
      "TITLE              22233 non-null object\n",
      "DEPARTMENT NAME    22233 non-null object\n",
      "REGULAR            22233 non-null object\n",
      "RETRO              22233 non-null object\n",
      "OTHER              22233 non-null object\n",
      "OVERTIME           22233 non-null object\n",
      "INJURED            22233 non-null object\n",
      "DETAIL             22233 non-null object\n",
      "QUINN              22233 non-null object\n",
      "TOTAL EARNINGS     22233 non-null object\n",
      "ZIP                22231 non-null object\n",
      "dtypes: object(12)\n",
      "memory usage: 2.0+ MB\n"
     ]
    }
   ],
   "source": [
    "#pay_2016.info()\n",
    "pay_2014.info()"
   ]
  },
  {
   "cell_type": "code",
   "execution_count": 5,
   "metadata": {},
   "outputs": [
    {
     "data": {
      "text/html": [
       "<div>\n",
       "<table border=\"1\" class=\"dataframe\">\n",
       "  <thead>\n",
       "    <tr style=\"text-align: right;\">\n",
       "      <th></th>\n",
       "      <th>NAME</th>\n",
       "      <th>TITLE</th>\n",
       "      <th>DEPARTMENT NAME</th>\n",
       "      <th>REGULAR</th>\n",
       "      <th>RETRO</th>\n",
       "      <th>OTHER</th>\n",
       "      <th>OVERTIME</th>\n",
       "      <th>INJURED</th>\n",
       "      <th>DETAIL</th>\n",
       "      <th>QUINN</th>\n",
       "      <th>TOTAL EARNINGS</th>\n",
       "      <th>ZIP</th>\n",
       "    </tr>\n",
       "  </thead>\n",
       "  <tbody>\n",
       "    <tr>\n",
       "      <th>0</th>\n",
       "      <td>Adario,Anthony J</td>\n",
       "      <td>Supvising Claims Agent (Asd)</td>\n",
       "      <td>ASD Human Resources</td>\n",
       "      <td>$98538.32</td>\n",
       "      <td>$0.00</td>\n",
       "      <td>$1842.87</td>\n",
       "      <td>$0.00</td>\n",
       "      <td>$0.00</td>\n",
       "      <td>$0.00</td>\n",
       "      <td>$0.00</td>\n",
       "      <td>$100381.19</td>\n",
       "      <td>02132</td>\n",
       "    </tr>\n",
       "    <tr>\n",
       "      <th>1</th>\n",
       "      <td>Baker,Katherine E.</td>\n",
       "      <td>Nurse Case Manager</td>\n",
       "      <td>ASD Human Resources</td>\n",
       "      <td>$83942.21</td>\n",
       "      <td>$0.00</td>\n",
       "      <td>$225.00</td>\n",
       "      <td>$0.00</td>\n",
       "      <td>$0.00</td>\n",
       "      <td>$0.00</td>\n",
       "      <td>$0.00</td>\n",
       "      <td>$84167.21</td>\n",
       "      <td>02136</td>\n",
       "    </tr>\n",
       "    <tr>\n",
       "      <th>2</th>\n",
       "      <td>Braga,Ann Hess</td>\n",
       "      <td>HumanResourcesComplianceOffcr</td>\n",
       "      <td>ASD Human Resources</td>\n",
       "      <td>$98538.34</td>\n",
       "      <td>$0.00</td>\n",
       "      <td>$0.00</td>\n",
       "      <td>$0.00</td>\n",
       "      <td>$0.00</td>\n",
       "      <td>$0.00</td>\n",
       "      <td>$0.00</td>\n",
       "      <td>$98538.34</td>\n",
       "      <td>02126</td>\n",
       "    </tr>\n",
       "    <tr>\n",
       "      <th>3</th>\n",
       "      <td>Calobrisi,Jane Ellen</td>\n",
       "      <td>Personnel Analyst</td>\n",
       "      <td>ASD Human Resources</td>\n",
       "      <td>$70073.81</td>\n",
       "      <td>$0.00</td>\n",
       "      <td>$225.00</td>\n",
       "      <td>$0.00</td>\n",
       "      <td>$0.00</td>\n",
       "      <td>$0.00</td>\n",
       "      <td>$0.00</td>\n",
       "      <td>$70298.81</td>\n",
       "      <td>02090</td>\n",
       "    </tr>\n",
       "    <tr>\n",
       "      <th>4</th>\n",
       "      <td>Castillo-Cook,Wendolyn M.</td>\n",
       "      <td>Alcholism Coord I</td>\n",
       "      <td>ASD Human Resources</td>\n",
       "      <td>$79253.11</td>\n",
       "      <td>$0.00</td>\n",
       "      <td>$0.00</td>\n",
       "      <td>$0.00</td>\n",
       "      <td>$0.00</td>\n",
       "      <td>$0.00</td>\n",
       "      <td>$0.00</td>\n",
       "      <td>$79253.11</td>\n",
       "      <td>02121</td>\n",
       "    </tr>\n",
       "    <tr>\n",
       "      <th>5</th>\n",
       "      <td>Curran,Liam Patrick</td>\n",
       "      <td>Asst Corp Counsel III</td>\n",
       "      <td>ASD Human Resources</td>\n",
       "      <td>$69266.69</td>\n",
       "      <td>$0.00</td>\n",
       "      <td>$0.00</td>\n",
       "      <td>$0.00</td>\n",
       "      <td>$0.00</td>\n",
       "      <td>$0.00</td>\n",
       "      <td>$0.00</td>\n",
       "      <td>$69266.69</td>\n",
       "      <td>02122</td>\n",
       "    </tr>\n",
       "    <tr>\n",
       "      <th>6</th>\n",
       "      <td>De Jesus,Winnie Yam</td>\n",
       "      <td>Affirm Action Monitor</td>\n",
       "      <td>ASD Human Resources</td>\n",
       "      <td>$42061.21</td>\n",
       "      <td>$0.00</td>\n",
       "      <td>$487.21</td>\n",
       "      <td>$0.00</td>\n",
       "      <td>$0.00</td>\n",
       "      <td>$0.00</td>\n",
       "      <td>$0.00</td>\n",
       "      <td>$42548.42</td>\n",
       "      <td>02458</td>\n",
       "    </tr>\n",
       "    <tr>\n",
       "      <th>7</th>\n",
       "      <td>Donnelly,Jennifer P.</td>\n",
       "      <td>Prin Clerk</td>\n",
       "      <td>ASD Human Resources</td>\n",
       "      <td>$44080.61</td>\n",
       "      <td>$0.00</td>\n",
       "      <td>$300.00</td>\n",
       "      <td>$0.00</td>\n",
       "      <td>$0.00</td>\n",
       "      <td>$0.00</td>\n",
       "      <td>$0.00</td>\n",
       "      <td>$44380.61</td>\n",
       "      <td>02129</td>\n",
       "    </tr>\n",
       "    <tr>\n",
       "      <th>8</th>\n",
       "      <td>Donovan,Carol Anne</td>\n",
       "      <td>Prin Admin Analyst</td>\n",
       "      <td>ASD Human Resources</td>\n",
       "      <td>$73547.25</td>\n",
       "      <td>$0.00</td>\n",
       "      <td>$0.00</td>\n",
       "      <td>$0.00</td>\n",
       "      <td>$0.00</td>\n",
       "      <td>$0.00</td>\n",
       "      <td>$0.00</td>\n",
       "      <td>$73547.25</td>\n",
       "      <td>02127</td>\n",
       "    </tr>\n",
       "    <tr>\n",
       "      <th>9</th>\n",
       "      <td>Donovan,John J</td>\n",
       "      <td>Exec Asst (EAP/OHR)</td>\n",
       "      <td>ASD Human Resources</td>\n",
       "      <td>$15019.39</td>\n",
       "      <td>$0.00</td>\n",
       "      <td>$10250.05</td>\n",
       "      <td>$0.00</td>\n",
       "      <td>$0.00</td>\n",
       "      <td>$0.00</td>\n",
       "      <td>$0.00</td>\n",
       "      <td>$25269.44</td>\n",
       "      <td>02132</td>\n",
       "    </tr>\n",
       "  </tbody>\n",
       "</table>\n",
       "</div>"
      ],
      "text/plain": [
       "                        NAME                          TITLE  \\\n",
       "0           Adario,Anthony J   Supvising Claims Agent (Asd)   \n",
       "1         Baker,Katherine E.             Nurse Case Manager   \n",
       "2             Braga,Ann Hess  HumanResourcesComplianceOffcr   \n",
       "3       Calobrisi,Jane Ellen              Personnel Analyst   \n",
       "4  Castillo-Cook,Wendolyn M.              Alcholism Coord I   \n",
       "5        Curran,Liam Patrick          Asst Corp Counsel III   \n",
       "6        De Jesus,Winnie Yam          Affirm Action Monitor   \n",
       "7       Donnelly,Jennifer P.                     Prin Clerk   \n",
       "8         Donovan,Carol Anne             Prin Admin Analyst   \n",
       "9             Donovan,John J            Exec Asst (EAP/OHR)   \n",
       "\n",
       "       DEPARTMENT NAME    REGULAR  RETRO      OTHER OVERTIME INJURED DETAIL  \\\n",
       "0  ASD Human Resources  $98538.32  $0.00   $1842.87    $0.00   $0.00  $0.00   \n",
       "1  ASD Human Resources  $83942.21  $0.00    $225.00    $0.00   $0.00  $0.00   \n",
       "2  ASD Human Resources  $98538.34  $0.00      $0.00    $0.00   $0.00  $0.00   \n",
       "3  ASD Human Resources  $70073.81  $0.00    $225.00    $0.00   $0.00  $0.00   \n",
       "4  ASD Human Resources  $79253.11  $0.00      $0.00    $0.00   $0.00  $0.00   \n",
       "5  ASD Human Resources  $69266.69  $0.00      $0.00    $0.00   $0.00  $0.00   \n",
       "6  ASD Human Resources  $42061.21  $0.00    $487.21    $0.00   $0.00  $0.00   \n",
       "7  ASD Human Resources  $44080.61  $0.00    $300.00    $0.00   $0.00  $0.00   \n",
       "8  ASD Human Resources  $73547.25  $0.00      $0.00    $0.00   $0.00  $0.00   \n",
       "9  ASD Human Resources  $15019.39  $0.00  $10250.05    $0.00   $0.00  $0.00   \n",
       "\n",
       "   QUINN TOTAL EARNINGS    ZIP  \n",
       "0  $0.00     $100381.19  02132  \n",
       "1  $0.00      $84167.21  02136  \n",
       "2  $0.00      $98538.34  02126  \n",
       "3  $0.00      $70298.81  02090  \n",
       "4  $0.00      $79253.11  02121  \n",
       "5  $0.00      $69266.69  02122  \n",
       "6  $0.00      $42548.42  02458  \n",
       "7  $0.00      $44380.61  02129  \n",
       "8  $0.00      $73547.25  02127  \n",
       "9  $0.00      $25269.44  02132  "
      ]
     },
     "execution_count": 5,
     "metadata": {},
     "output_type": "execute_result"
    }
   ],
   "source": [
    "pay_2014.head(10)\n",
    "#pay_2015.head(10)"
   ]
  },
  {
   "cell_type": "markdown",
   "metadata": {},
   "source": [
    "what would I like to do now? for the graphic, I need to genderize, and then pick the top 100 people by pay.\n",
    "the genderizer uses first name,so I need to make a column of first names..Ill start with the 2016 data set and aim to have this done soon to update my graphic...\n",
    "...Ill have to experiment a bit with the genderizer so will pull out 20 names to test them.."
   ]
  },
  {
   "cell_type": "code",
   "execution_count": 6,
   "metadata": {
    "collapsed": true
   },
   "outputs": [],
   "source": [
    "#d_2016 = pay_2016 #copying the dataset to avoid changes\n",
    "#d_2015 = pay_2015\n",
    "d_2014 = pay_2014\n",
    "\n",
    "\n",
    "#d_2016['regular'] = (d_2016['REGULAR'].replace( '[\\$,)]','', regex=True ).astype(float))\n",
    "#d_2016 = d_2016.rename(columns = {\n",
    "#'REGULAR':\"regular\",\n",
    "#\"RETRO\": \"retro\",})\n",
    "                       \n",
    "                       \n",
    "#d_2016.head()\n",
    "#d_2015.head()"
   ]
  },
  {
   "cell_type": "code",
   "execution_count": 7,
   "metadata": {},
   "outputs": [
    {
     "data": {
      "text/html": [
       "<div>\n",
       "<table border=\"1\" class=\"dataframe\">\n",
       "  <thead>\n",
       "    <tr style=\"text-align: right;\">\n",
       "      <th></th>\n",
       "      <th>name</th>\n",
       "      <th>title</th>\n",
       "      <th>DEPARTMENT NAME</th>\n",
       "      <th>salary</th>\n",
       "      <th>retroactive</th>\n",
       "      <th>other</th>\n",
       "      <th>overtime</th>\n",
       "      <th>injured</th>\n",
       "      <th>detail</th>\n",
       "      <th>QUINN</th>\n",
       "      <th>totalSalary</th>\n",
       "      <th>ZIP</th>\n",
       "    </tr>\n",
       "  </thead>\n",
       "  <tbody>\n",
       "    <tr>\n",
       "      <th>0</th>\n",
       "      <td>Adario,Anthony J</td>\n",
       "      <td>Supvising Claims Agent (Asd)</td>\n",
       "      <td>ASD Human Resources</td>\n",
       "      <td>98538.0</td>\n",
       "      <td>0.0</td>\n",
       "      <td>1843.0</td>\n",
       "      <td>0.0</td>\n",
       "      <td>0.0</td>\n",
       "      <td>0.0</td>\n",
       "      <td>0.0</td>\n",
       "      <td>100381.0</td>\n",
       "      <td>02132</td>\n",
       "    </tr>\n",
       "    <tr>\n",
       "      <th>1</th>\n",
       "      <td>Baker,Katherine E.</td>\n",
       "      <td>Nurse Case Manager</td>\n",
       "      <td>ASD Human Resources</td>\n",
       "      <td>83942.0</td>\n",
       "      <td>0.0</td>\n",
       "      <td>225.0</td>\n",
       "      <td>0.0</td>\n",
       "      <td>0.0</td>\n",
       "      <td>0.0</td>\n",
       "      <td>0.0</td>\n",
       "      <td>84167.0</td>\n",
       "      <td>02136</td>\n",
       "    </tr>\n",
       "    <tr>\n",
       "      <th>2</th>\n",
       "      <td>Braga,Ann Hess</td>\n",
       "      <td>HumanResourcesComplianceOffcr</td>\n",
       "      <td>ASD Human Resources</td>\n",
       "      <td>98538.0</td>\n",
       "      <td>0.0</td>\n",
       "      <td>0.0</td>\n",
       "      <td>0.0</td>\n",
       "      <td>0.0</td>\n",
       "      <td>0.0</td>\n",
       "      <td>0.0</td>\n",
       "      <td>98538.0</td>\n",
       "      <td>02126</td>\n",
       "    </tr>\n",
       "    <tr>\n",
       "      <th>3</th>\n",
       "      <td>Calobrisi,Jane Ellen</td>\n",
       "      <td>Personnel Analyst</td>\n",
       "      <td>ASD Human Resources</td>\n",
       "      <td>70074.0</td>\n",
       "      <td>0.0</td>\n",
       "      <td>225.0</td>\n",
       "      <td>0.0</td>\n",
       "      <td>0.0</td>\n",
       "      <td>0.0</td>\n",
       "      <td>0.0</td>\n",
       "      <td>70299.0</td>\n",
       "      <td>02090</td>\n",
       "    </tr>\n",
       "    <tr>\n",
       "      <th>4</th>\n",
       "      <td>Castillo-Cook,Wendolyn M.</td>\n",
       "      <td>Alcholism Coord I</td>\n",
       "      <td>ASD Human Resources</td>\n",
       "      <td>79253.0</td>\n",
       "      <td>0.0</td>\n",
       "      <td>0.0</td>\n",
       "      <td>0.0</td>\n",
       "      <td>0.0</td>\n",
       "      <td>0.0</td>\n",
       "      <td>0.0</td>\n",
       "      <td>79253.0</td>\n",
       "      <td>02121</td>\n",
       "    </tr>\n",
       "  </tbody>\n",
       "</table>\n",
       "</div>"
      ],
      "text/plain": [
       "                        name                          title  \\\n",
       "0           Adario,Anthony J   Supvising Claims Agent (Asd)   \n",
       "1         Baker,Katherine E.             Nurse Case Manager   \n",
       "2             Braga,Ann Hess  HumanResourcesComplianceOffcr   \n",
       "3       Calobrisi,Jane Ellen              Personnel Analyst   \n",
       "4  Castillo-Cook,Wendolyn M.              Alcholism Coord I   \n",
       "\n",
       "       DEPARTMENT NAME   salary  retroactive   other  overtime  injured  \\\n",
       "0  ASD Human Resources  98538.0          0.0  1843.0       0.0      0.0   \n",
       "1  ASD Human Resources  83942.0          0.0   225.0       0.0      0.0   \n",
       "2  ASD Human Resources  98538.0          0.0     0.0       0.0      0.0   \n",
       "3  ASD Human Resources  70074.0          0.0   225.0       0.0      0.0   \n",
       "4  ASD Human Resources  79253.0          0.0     0.0       0.0      0.0   \n",
       "\n",
       "   detail  QUINN  totalSalary    ZIP  \n",
       "0     0.0    0.0     100381.0  02132  \n",
       "1     0.0    0.0      84167.0  02136  \n",
       "2     0.0    0.0      98538.0  02126  \n",
       "3     0.0    0.0      70299.0  02090  \n",
       "4     0.0    0.0      79253.0  02121  "
      ]
     },
     "execution_count": 7,
     "metadata": {},
     "output_type": "execute_result"
    }
   ],
   "source": [
    "#do I need to make sure other stuff is string?\n",
    "\n",
    "d_2014['REGULAR'] = (d_2014['REGULAR'].replace( '[\\$,)]','', regex=True ).astype(float)).round()\n",
    "d_2014['RETRO'] = (d_2014['RETRO'].replace( '[\\$,)]','', regex=True ).astype(float)).round()\n",
    "d_2014['OTHER'] = (d_2014['OTHER'].replace( '[\\$,)]','', regex=True ).astype(float)).round()\n",
    "d_2014['OVERTIME'] = (d_2014['OVERTIME'].replace( '[\\$,)]','', regex=True ).astype(float)).round()\n",
    "d_2014['INJURED'] = (d_2014['INJURED'].replace( '[\\$,)]','', regex=True ).astype(float)).round()\n",
    "#in 2015 its detailS vs 2014,2016 detail \n",
    "d_2014['DETAIL'] = (d_2014['DETAIL'].replace( '[\\$,)]','', regex=True ).astype(float)).round()\n",
    "#2014 its just Quinn, not quinn/edu has in 2015 2016\n",
    "d_2014['QUINN'] = (d_2014['QUINN'].replace( '[\\$,)]','', regex=True ).astype(float)).round()\n",
    "d_2014['TOTAL EARNINGS'] = (d_2014['TOTAL EARNINGS'].replace( '[\\$,)]','', regex=True ).astype(float)).round()\n",
    "\n",
    "\n",
    "d_2014.head()\n",
    "\n",
    "d_2014 = d_2014.rename(columns = {\n",
    "'REGULAR':\"salary\",\n",
    "'RETRO':\"retroactive\",\n",
    "'OTHER':'other',\n",
    "'OVERTIME':'overtime',\n",
    "'DETAIL':'detail',\n",
    "'INJURED':'injured',\n",
    "'QUINN/EDUCATION INCENTIVE':'quinn_education_incentive',\n",
    "'TOTAL EARNINGS':'totalSalary',\n",
    "'NAME':'name',\n",
    "\"DEPARTMENT_NAME\" : \"dept\",\n",
    "\"TITLE\" : \"title\",\n",
    "\"POSTAL\" : \"zip_code\",\n",
    "    \n",
    "    \n",
    "})\n",
    "d_2014.head()\n",
    "\n",
    "\n",
    "#the csv used for d3(v3) jsI want to update has this: columns are name, \n",
    "#firstName, dept, salary, totalSalary(still has $), gender -- is just F or M \n",
    "\n"
   ]
  },
  {
   "cell_type": "markdown",
   "metadata": {},
   "source": [
    "Round salaries to nearest dollar\n"
   ]
  },
  {
   "cell_type": "code",
   "execution_count": 8,
   "metadata": {},
   "outputs": [
    {
     "data": {
      "text/plain": [
       "4"
      ]
     },
     "execution_count": 8,
     "metadata": {},
     "output_type": "execute_result"
    }
   ],
   "source": [
    "import math\n",
    "h = int(round(4.2))\n",
    "h"
   ]
  },
  {
   "cell_type": "markdown",
   "metadata": {},
   "source": [
    "### I ll split on the names\n",
    "and now can see that there are some middle names \n",
    "so I'm going to use Regex to clean a bit..\n",
    "if there is a Capitalized letter with nothing after, or a capitalized letter with a period, I want to split it, but otherwise Ill keep the two names, don't know how genderizer will handle them but well see.."
   ]
  },
  {
   "cell_type": "markdown",
   "metadata": {},
   "source": [
    "\n",
    "had to do the splitting off of first name in two steps that probably should be one so can review later..below might help\n",
    "\n",
    "#see this\n",
    "#https://stackoverflow.com/questions/29585106/pandas-how-to-split-twice-a-given-field\n",
    " #try this:\n",
    "trimmed_list = [i.replace('.', ',').split(',') for i in sbj[0].tolist() if i != \"\"]\n",
    "item_list = [item.strip(whitespace) for item in itertools.chain(*trimmed_list)]\n",
    "item_count = Counter(item_list)\n"
   ]
  },
  {
   "cell_type": "code",
   "execution_count": 9,
   "metadata": {},
   "outputs": [
    {
     "data": {
      "text/plain": [
       "['Anthony',\n",
       " 'Katherine',\n",
       " 'Ann',\n",
       " 'Jane',\n",
       " 'Wendolyn',\n",
       " 'Liam',\n",
       " 'Winnie',\n",
       " 'Jennifer',\n",
       " 'Carol',\n",
       " 'John',\n",
       " 'Kimberly',\n",
       " 'Irene',\n",
       " 'Frank',\n",
       " 'Teresia',\n",
       " 'Xing-Bing',\n",
       " 'Michael',\n",
       " 'Allison',\n",
       " 'Kathleen',\n",
       " 'Celiana',\n",
       " 'Sheila',\n",
       " 'Jacqueline',\n",
       " 'William',\n",
       " 'Bernard',\n",
       " 'Diane',\n",
       " 'Winnie',\n",
       " 'Vivian',\n",
       " 'Leah',\n",
       " 'Jean',\n",
       " 'Laura',\n",
       " 'Darius',\n",
       " 'Kathyria',\n",
       " 'Linda',\n",
       " 'Carla',\n",
       " 'Alexandra',\n",
       " 'David',\n",
       " 'Michele',\n",
       " 'Joann',\n",
       " 'Jessica',\n",
       " 'Lisa',\n",
       " 'Ramona',\n",
       " 'Arthenis',\n",
       " 'Audrey',\n",
       " 'Roger',\n",
       " 'Maryellen',\n",
       " 'Jennifer',\n",
       " 'Joan',\n",
       " 'John',\n",
       " 'Patricia',\n",
       " 'Dana',\n",
       " 'Tina',\n",
       " 'Jennifer',\n",
       " 'Michael',\n",
       " 'Barbara',\n",
       " 'Miriam',\n",
       " 'James',\n",
       " 'Christopher',\n",
       " 'Kaitlin',\n",
       " 'Inez',\n",
       " 'Kathryn',\n",
       " 'Kathleen',\n",
       " 'Dina',\n",
       " 'Ramon',\n",
       " 'James',\n",
       " 'Timothy',\n",
       " 'Johanna',\n",
       " 'Carol',\n",
       " 'Jacquelyn',\n",
       " 'Karen',\n",
       " 'Deborah',\n",
       " 'Stephen',\n",
       " 'Lynda',\n",
       " 'Liliana',\n",
       " 'John',\n",
       " 'Ellen',\n",
       " 'Era',\n",
       " 'James',\n",
       " 'Sheila',\n",
       " 'Mary',\n",
       " 'Joseph',\n",
       " 'Joanne',\n",
       " 'Michael',\n",
       " 'Edward',\n",
       " 'Marianne',\n",
       " 'Anthony',\n",
       " 'Gerard',\n",
       " 'Abigail',\n",
       " 'Anna',\n",
       " 'Paul',\n",
       " 'James',\n",
       " 'Ahsan',\n",
       " 'Geneen',\n",
       " 'Robert',\n",
       " 'Paul',\n",
       " 'Jessica',\n",
       " 'Restilda',\n",
       " 'Andrea',\n",
       " 'Jeffrey',\n",
       " 'Alice',\n",
       " 'David',\n",
       " 'Steven',\n",
       " 'Gerard',\n",
       " 'Joey',\n",
       " 'Michael',\n",
       " 'Kevin',\n",
       " 'Erik',\n",
       " 'Paul',\n",
       " 'Francis',\n",
       " 'Barry',\n",
       " 'Brian',\n",
       " 'Jian',\n",
       " 'Gerald',\n",
       " 'Arlene',\n",
       " 'Chen',\n",
       " 'Robert',\n",
       " 'Paul',\n",
       " 'Paul',\n",
       " 'John',\n",
       " 'Yvonne',\n",
       " 'Winifred',\n",
       " 'Lisa',\n",
       " 'Michael',\n",
       " 'Cai',\n",
       " 'Kidani',\n",
       " 'Luis',\n",
       " 'Roy',\n",
       " 'Tracey',\n",
       " 'Jennifer',\n",
       " 'Nicholas',\n",
       " 'Thomas',\n",
       " 'Michele',\n",
       " 'John',\n",
       " 'Raymond',\n",
       " 'Rudolph',\n",
       " 'Damian',\n",
       " 'Arlene',\n",
       " 'Deborah',\n",
       " 'Laura',\n",
       " 'Gerald',\n",
       " 'Quiana',\n",
       " 'Charles',\n",
       " 'Jonathan',\n",
       " 'Arion',\n",
       " 'Emmanuel',\n",
       " 'Quyen',\n",
       " 'Jocelyn',\n",
       " 'Matthew',\n",
       " 'Edem',\n",
       " 'Ivelinda',\n",
       " 'Bryan',\n",
       " 'James',\n",
       " 'Francis',\n",
       " 'Gerald',\n",
       " 'Phuong',\n",
       " 'Darlene',\n",
       " 'Darlene',\n",
       " 'Constance',\n",
       " 'Karen',\n",
       " 'Curtis',\n",
       " 'Laura',\n",
       " 'William',\n",
       " 'Vivian',\n",
       " 'Irina',\n",
       " 'Maureen',\n",
       " 'David',\n",
       " 'James',\n",
       " 'Xing',\n",
       " 'Gloria',\n",
       " 'Patricia',\n",
       " 'Nicolette',\n",
       " 'Frederick',\n",
       " 'Patrick',\n",
       " 'Ellen',\n",
       " 'Donna',\n",
       " 'Heriberto',\n",
       " 'David',\n",
       " 'Garth',\n",
       " 'Gerard',\n",
       " 'Tuyen',\n",
       " 'Sandra',\n",
       " 'Natalie',\n",
       " 'Cara',\n",
       " 'Listra',\n",
       " 'Ronald',\n",
       " 'Craig',\n",
       " 'Alicia',\n",
       " 'Janet',\n",
       " 'Martin',\n",
       " 'Anthony',\n",
       " 'Kevin',\n",
       " 'Christine',\n",
       " 'Sylvia',\n",
       " 'Earl',\n",
       " 'Aaron',\n",
       " 'Arlande',\n",
       " 'Dino',\n",
       " 'Kevin',\n",
       " 'Leo',\n",
       " 'John',\n",
       " 'Deborah',\n",
       " 'Sherrie',\n",
       " 'Theresa',\n",
       " 'Grace',\n",
       " 'John',\n",
       " 'Vanessa',\n",
       " 'Brendan',\n",
       " 'Thomas',\n",
       " 'Gayle',\n",
       " 'Hinlan',\n",
       " 'Faye',\n",
       " 'Prema',\n",
       " 'Natoya',\n",
       " 'Michelle',\n",
       " 'Dennis',\n",
       " 'Mattie',\n",
       " 'Margaret',\n",
       " 'Souleymane',\n",
       " 'Christina',\n",
       " 'Sally',\n",
       " 'Kourtney',\n",
       " 'Allen',\n",
       " 'Sinthia',\n",
       " 'James',\n",
       " 'Jeffrey',\n",
       " 'Jill',\n",
       " 'Kelli',\n",
       " 'Traci',\n",
       " 'Licia',\n",
       " 'Nelida',\n",
       " 'Nelly',\n",
       " 'Medina',\n",
       " 'MaryAnn',\n",
       " 'Hazel',\n",
       " 'Elvira',\n",
       " 'Timothy',\n",
       " 'Chivy',\n",
       " 'Michael',\n",
       " 'Christopher',\n",
       " 'Mary',\n",
       " 'Magnolia',\n",
       " 'Raoul',\n",
       " 'Lisa',\n",
       " 'Ming',\n",
       " 'Julie',\n",
       " 'Robert',\n",
       " 'Ashley',\n",
       " 'Stanley',\n",
       " 'Paul',\n",
       " 'Nadia',\n",
       " 'Kristin',\n",
       " 'John',\n",
       " 'Ivon',\n",
       " 'Walter',\n",
       " 'Candace',\n",
       " 'Francis',\n",
       " 'Jill',\n",
       " 'Elizabeth',\n",
       " 'Sharlea',\n",
       " 'Justin',\n",
       " 'Katherine',\n",
       " 'Chelsey',\n",
       " 'Robyn',\n",
       " 'James',\n",
       " 'Alexander',\n",
       " 'Betty',\n",
       " 'Mark',\n",
       " 'Brian',\n",
       " 'Elaine',\n",
       " 'Ron',\n",
       " 'Henry',\n",
       " 'Timothy',\n",
       " 'John',\n",
       " 'Terry',\n",
       " 'Amanda',\n",
       " 'Daisy',\n",
       " 'William',\n",
       " 'Judith',\n",
       " 'Leila',\n",
       " 'Maria',\n",
       " 'Meichelle',\n",
       " 'Andreina',\n",
       " 'Michael',\n",
       " 'Lorraine',\n",
       " 'Thomas',\n",
       " 'Jacqueline',\n",
       " 'Lynnette',\n",
       " 'Amy',\n",
       " 'Brian',\n",
       " 'Augusto',\n",
       " 'Reynolds',\n",
       " 'Kamisha',\n",
       " 'Mark',\n",
       " 'William',\n",
       " 'Shaikh',\n",
       " 'Kyndal',\n",
       " 'Camilo',\n",
       " 'James',\n",
       " 'Sarah',\n",
       " 'Jared',\n",
       " 'Oluwasegun',\n",
       " 'James',\n",
       " 'Tito',\n",
       " 'Tiffany',\n",
       " 'Kerry',\n",
       " 'Brittany',\n",
       " 'Tricia',\n",
       " 'Samantha',\n",
       " 'Janet',\n",
       " 'Addison',\n",
       " 'Carolyn',\n",
       " 'Carol',\n",
       " 'Bernadette',\n",
       " 'Salvatore',\n",
       " 'Maria',\n",
       " 'Kourtney',\n",
       " 'Herby',\n",
       " 'William',\n",
       " 'Juan',\n",
       " 'William',\n",
       " 'Stephen',\n",
       " 'Timothy',\n",
       " 'Thomas',\n",
       " 'Joseph',\n",
       " 'Jennifer',\n",
       " 'Mark',\n",
       " 'Susan',\n",
       " 'Patricia',\n",
       " 'Cora',\n",
       " 'Stephen',\n",
       " 'Kara',\n",
       " 'Michael',\n",
       " 'Mary',\n",
       " 'Christine',\n",
       " 'Deborah',\n",
       " 'Matthew',\n",
       " 'Heather',\n",
       " 'Chitori',\n",
       " 'Emily',\n",
       " 'Daniel',\n",
       " 'Ayanna',\n",
       " 'Jackney',\n",
       " 'Frank',\n",
       " 'Nichelle',\n",
       " 'Allyson',\n",
       " 'Beatriz',\n",
       " 'Michael',\n",
       " 'Nichelle',\n",
       " 'Lorraine',\n",
       " 'Christina',\n",
       " 'Lisbert',\n",
       " 'Daniel',\n",
       " 'Mohona',\n",
       " 'Michael',\n",
       " 'Cedric',\n",
       " 'Vatsady',\n",
       " 'Hannah',\n",
       " 'Lincoln',\n",
       " 'Michelle',\n",
       " 'Ryan',\n",
       " 'Elizabeth',\n",
       " 'Kathleen',\n",
       " 'Paul',\n",
       " 'James',\n",
       " 'Jessica',\n",
       " 'Lori',\n",
       " 'John',\n",
       " 'Alexandra',\n",
       " 'Yuleidy',\n",
       " 'David',\n",
       " 'Ann',\n",
       " 'Joseph',\n",
       " 'Sophia',\n",
       " 'Gary',\n",
       " 'Eric',\n",
       " 'Hannah',\n",
       " 'Michelle',\n",
       " 'Charles',\n",
       " 'Kenneth',\n",
       " 'Josh',\n",
       " 'Jessika',\n",
       " 'Luis',\n",
       " 'Natasha',\n",
       " 'Stephanie',\n",
       " 'David',\n",
       " 'Corrado',\n",
       " 'Steven',\n",
       " 'Fred',\n",
       " 'Abdirashid',\n",
       " 'Ahmed',\n",
       " 'Amanda',\n",
       " 'Christopher',\n",
       " 'Geneva',\n",
       " 'William',\n",
       " 'Helen',\n",
       " 'Alexis',\n",
       " 'Christopher',\n",
       " 'Hector',\n",
       " 'Juan',\n",
       " 'Carl',\n",
       " 'Frederick',\n",
       " 'Martin',\n",
       " 'Jasmine',\n",
       " 'Malik',\n",
       " 'Elaine',\n",
       " 'Al',\n",
       " 'Rebecca',\n",
       " 'Kevin',\n",
       " 'Krishante',\n",
       " 'Felix',\n",
       " 'Ronald',\n",
       " 'Wail',\n",
       " 'Woodley',\n",
       " 'Dennis',\n",
       " 'Aaron',\n",
       " 'Jeannete',\n",
       " 'Carol',\n",
       " 'Michelle',\n",
       " 'Nicole',\n",
       " 'Dorian',\n",
       " 'Dalton',\n",
       " 'Ashley',\n",
       " 'Louis',\n",
       " 'Marlon',\n",
       " 'Kinaesiaa',\n",
       " 'Maurice',\n",
       " 'Stephen',\n",
       " 'Darryl',\n",
       " 'Elena',\n",
       " 'Michael',\n",
       " 'Samantha',\n",
       " 'Dymone',\n",
       " 'Alyson',\n",
       " 'Lorna',\n",
       " 'Rafael',\n",
       " 'Raul',\n",
       " 'Jean',\n",
       " 'Barbara',\n",
       " 'Franna',\n",
       " 'Lesley-Ann',\n",
       " 'Curtiss',\n",
       " 'Verdree',\n",
       " 'Linda',\n",
       " 'Davetta',\n",
       " 'Linda',\n",
       " 'Mark',\n",
       " 'Michael',\n",
       " 'Yolanda',\n",
       " 'Michelle',\n",
       " 'Cheryl',\n",
       " 'Chevahn',\n",
       " 'Louis',\n",
       " 'Kenyah',\n",
       " 'Larelle',\n",
       " 'Hayward',\n",
       " 'Michael',\n",
       " 'Anngeron',\n",
       " 'Erin',\n",
       " 'Mary',\n",
       " 'Dana',\n",
       " 'Sunseray',\n",
       " 'Bridget',\n",
       " 'Richard',\n",
       " 'Erika',\n",
       " 'Heidi',\n",
       " 'Susan',\n",
       " 'Christopher',\n",
       " 'Sounja',\n",
       " 'Justin',\n",
       " 'Carly',\n",
       " 'Mary',\n",
       " 'James',\n",
       " 'John',\n",
       " 'Durreem',\n",
       " 'Jennifer',\n",
       " 'Kara',\n",
       " 'Debra',\n",
       " 'Anthony',\n",
       " 'Nicholas',\n",
       " 'Cathy',\n",
       " 'Diane',\n",
       " 'Tony',\n",
       " 'Markeece',\n",
       " 'Patricia',\n",
       " 'Dane',\n",
       " 'Cheyenne',\n",
       " 'Jacqueline',\n",
       " 'Warren',\n",
       " 'Yuk',\n",
       " 'Cassandra',\n",
       " 'Robin',\n",
       " 'Rose',\n",
       " 'Cynthia',\n",
       " 'Maureen',\n",
       " 'Jennifer',\n",
       " 'Aimee',\n",
       " 'Charles',\n",
       " 'John',\n",
       " 'Cherie',\n",
       " 'Rasheem',\n",
       " 'Owen',\n",
       " 'Carmen',\n",
       " 'Jeron',\n",
       " 'Ricardo',\n",
       " 'Dewey',\n",
       " 'Dana',\n",
       " 'Justin',\n",
       " 'Kylie',\n",
       " 'Alonzo',\n",
       " 'Erin',\n",
       " 'Eileen',\n",
       " 'Carol',\n",
       " 'David',\n",
       " 'Jean',\n",
       " 'David',\n",
       " 'Domingos',\n",
       " 'Nicole',\n",
       " 'Scott',\n",
       " 'Lawrence',\n",
       " 'Kimyana',\n",
       " 'Nicole',\n",
       " 'Philip',\n",
       " 'Charles',\n",
       " 'Kathleen',\n",
       " 'Juan',\n",
       " 'Anthony',\n",
       " 'Robert',\n",
       " 'Jesse',\n",
       " 'Julie',\n",
       " 'Laurie',\n",
       " 'Evelyn',\n",
       " 'James',\n",
       " 'Jaleesa',\n",
       " 'Taylor',\n",
       " 'Anthony',\n",
       " 'Joceline',\n",
       " 'Michelle',\n",
       " 'Robert',\n",
       " 'Michael',\n",
       " 'Paul',\n",
       " 'Pedro',\n",
       " 'Haley',\n",
       " 'Rocco',\n",
       " 'Dena',\n",
       " 'Delores',\n",
       " 'Paul',\n",
       " 'Dorien',\n",
       " 'Simone',\n",
       " 'Marvin',\n",
       " 'James',\n",
       " 'Robin',\n",
       " 'Chelsea',\n",
       " 'Jose',\n",
       " 'Ramon',\n",
       " 'Marcus',\n",
       " 'Michael',\n",
       " 'Martin',\n",
       " 'Siham',\n",
       " 'Frank',\n",
       " 'Tia',\n",
       " 'Geneva',\n",
       " 'Jorge',\n",
       " 'Jose',\n",
       " 'Miranda',\n",
       " 'Ryan',\n",
       " 'Debra',\n",
       " 'Robert',\n",
       " 'Maura',\n",
       " 'Paola',\n",
       " 'Alissa',\n",
       " 'Marcilio',\n",
       " 'Bethzaida',\n",
       " 'Masika',\n",
       " 'Jamaine',\n",
       " 'Hector',\n",
       " 'Mateo',\n",
       " 'Jorge',\n",
       " 'Diane',\n",
       " 'Devin',\n",
       " 'John',\n",
       " 'Sean',\n",
       " 'Elvis',\n",
       " 'Yamalia',\n",
       " 'Ross',\n",
       " 'Lana',\n",
       " 'Monica',\n",
       " 'Beverly',\n",
       " 'Nadine',\n",
       " 'Lee',\n",
       " 'Maryann',\n",
       " 'Michael',\n",
       " 'Matthew',\n",
       " 'Patricia',\n",
       " 'Hajji',\n",
       " 'Tyrell',\n",
       " 'Timothy',\n",
       " 'KATIE',\n",
       " 'John',\n",
       " 'Sophia',\n",
       " 'Marlon',\n",
       " 'Dionne',\n",
       " 'Arthur',\n",
       " 'Edward',\n",
       " 'Grace',\n",
       " 'Carlisa',\n",
       " 'Tomika',\n",
       " 'Barbara',\n",
       " 'Rosie',\n",
       " 'Ryann',\n",
       " 'Edward',\n",
       " 'Vernessa',\n",
       " 'LeKeith',\n",
       " 'Clarke',\n",
       " 'Jermaine',\n",
       " 'Raymond',\n",
       " 'Jason',\n",
       " 'Isabel',\n",
       " 'Kate',\n",
       " 'Ninive',\n",
       " 'Victoria',\n",
       " 'Robert',\n",
       " 'Taylor',\n",
       " 'John',\n",
       " 'Diane',\n",
       " 'David',\n",
       " 'Michael',\n",
       " 'Patrick',\n",
       " 'Sandra',\n",
       " 'Anthony',\n",
       " 'Adriauna',\n",
       " 'Kimberly',\n",
       " 'Robin',\n",
       " 'Sayvonn',\n",
       " 'Ernest',\n",
       " 'Lauren',\n",
       " 'Talia',\n",
       " 'Ernest',\n",
       " 'Ralph',\n",
       " 'Christine',\n",
       " 'Andrew',\n",
       " 'Jahnee',\n",
       " 'Jamal',\n",
       " 'Jeffrey',\n",
       " 'John',\n",
       " 'Kayla',\n",
       " 'Kenneth',\n",
       " 'Lynne',\n",
       " 'Laurie',\n",
       " 'Harris',\n",
       " 'Adrean',\n",
       " 'Cynthia',\n",
       " 'Doreen',\n",
       " 'Marcelina',\n",
       " 'Lauren',\n",
       " 'Willie',\n",
       " 'Bruce',\n",
       " 'Mariellen',\n",
       " 'Najja',\n",
       " 'Michael',\n",
       " 'Varnie',\n",
       " 'Gregory',\n",
       " 'Corinne',\n",
       " 'Deven',\n",
       " 'Barbara',\n",
       " 'Patricia',\n",
       " 'Shelly',\n",
       " 'Johnnie',\n",
       " 'Queneshia',\n",
       " 'Thony',\n",
       " 'Arthur',\n",
       " 'Sakri',\n",
       " 'Charles',\n",
       " 'Lauren',\n",
       " 'Tiffany',\n",
       " 'Abdelmoula',\n",
       " 'Catherine',\n",
       " 'Ricky',\n",
       " 'Jill',\n",
       " 'Joan',\n",
       " 'Benjamin',\n",
       " 'Brian',\n",
       " 'Declan',\n",
       " 'Garrett',\n",
       " 'Bobby',\n",
       " 'Jasmine',\n",
       " 'William',\n",
       " 'Lisa',\n",
       " 'Richard',\n",
       " 'Tracey',\n",
       " 'Deanna',\n",
       " 'GuoQuan',\n",
       " 'Winston',\n",
       " 'Lauren',\n",
       " 'Helena',\n",
       " 'Tany',\n",
       " 'Evan',\n",
       " 'Courtney',\n",
       " 'Kyanna',\n",
       " 'John',\n",
       " 'Maureen',\n",
       " 'Jeff',\n",
       " 'Antonia',\n",
       " 'Robert',\n",
       " 'Judy',\n",
       " 'MacKennan',\n",
       " 'Adrian',\n",
       " 'Aaliyah',\n",
       " 'Joshua',\n",
       " 'Marissa',\n",
       " 'John',\n",
       " 'Joseph',\n",
       " 'Paul',\n",
       " 'Damien',\n",
       " 'Daniel',\n",
       " 'Chaundra',\n",
       " 'Ann',\n",
       " 'Therese',\n",
       " 'Gregory',\n",
       " 'Ann',\n",
       " 'Wilkin',\n",
       " 'Kenneth',\n",
       " 'Willie',\n",
       " 'John',\n",
       " 'Alfred',\n",
       " 'Keisha',\n",
       " 'Brian',\n",
       " 'Maryellen',\n",
       " 'Patrick',\n",
       " 'Robert',\n",
       " 'Brian',\n",
       " 'Eric',\n",
       " 'Erin',\n",
       " 'Cathleen',\n",
       " 'Anthony',\n",
       " 'David',\n",
       " 'Gina',\n",
       " 'Francisco',\n",
       " 'Danny',\n",
       " 'Lady',\n",
       " 'Judie',\n",
       " 'Stiven',\n",
       " 'Robert',\n",
       " 'Tiffany',\n",
       " 'Yamiley',\n",
       " 'Brianna',\n",
       " 'Jovany',\n",
       " 'Michael',\n",
       " 'Donna',\n",
       " 'Daniel',\n",
       " 'Jeremy',\n",
       " 'Manuel',\n",
       " 'Rodney',\n",
       " 'Gloria',\n",
       " 'Frederico',\n",
       " 'Sherike',\n",
       " 'Jason',\n",
       " 'Gloria',\n",
       " 'Susan',\n",
       " 'Gitau',\n",
       " 'Jililan',\n",
       " 'Joshua',\n",
       " 'Christian',\n",
       " 'Shereetha',\n",
       " 'Kenneth',\n",
       " 'Dawn',\n",
       " 'Aaron',\n",
       " 'Jane',\n",
       " 'Steven',\n",
       " 'Vinh',\n",
       " 'Richard',\n",
       " 'Tonya',\n",
       " 'Jovante',\n",
       " 'Akhyra',\n",
       " 'Jamar',\n",
       " 'James',\n",
       " 'Katie',\n",
       " 'Ashley',\n",
       " 'Gerald',\n",
       " 'Jeanmarie',\n",
       " 'Kevin',\n",
       " 'Enir',\n",
       " 'Edwin',\n",
       " 'John',\n",
       " 'Larisa',\n",
       " 'Khalid',\n",
       " 'Roderick',\n",
       " 'Donna',\n",
       " 'Leslee',\n",
       " 'Angel',\n",
       " 'Jennifer',\n",
       " 'George',\n",
       " 'Barbara',\n",
       " 'Charisse',\n",
       " 'Kevin',\n",
       " 'Josephine',\n",
       " 'Alejandro',\n",
       " 'Aristidez',\n",
       " 'Jerell',\n",
       " 'Lillian',\n",
       " 'Jacquiline',\n",
       " 'Rahsaan',\n",
       " 'John',\n",
       " 'Devin',\n",
       " 'Tiffany',\n",
       " 'Yves',\n",
       " 'Milagros',\n",
       " 'Sean',\n",
       " 'Aidee',\n",
       " 'Lazaro',\n",
       " 'Stephen',\n",
       " 'Rebecca',\n",
       " 'Bladimil',\n",
       " 'Andres',\n",
       " 'Sheila',\n",
       " 'Jalanna',\n",
       " 'Donna',\n",
       " 'Karen',\n",
       " 'Thomas',\n",
       " 'Leocadio',\n",
       " 'Celso',\n",
       " 'Daiquan',\n",
       " 'Tonya',\n",
       " 'Ivelise',\n",
       " 'James',\n",
       " 'Roger',\n",
       " 'Ze',\n",
       " 'Ana',\n",
       " 'Eduardo',\n",
       " 'Jesus',\n",
       " 'Jose',\n",
       " 'Allison',\n",
       " 'Bethsy',\n",
       " 'Jose',\n",
       " 'Nancy',\n",
       " 'Richard',\n",
       " 'Judith',\n",
       " 'William',\n",
       " 'Alex',\n",
       " 'Jerry',\n",
       " 'Martha',\n",
       " 'Heather',\n",
       " 'Romaine',\n",
       " 'Lisa',\n",
       " 'Rui',\n",
       " 'Edward',\n",
       " 'Valerie',\n",
       " 'Jasper',\n",
       " 'Meagan',\n",
       " 'Kimberly',\n",
       " 'Anthony',\n",
       " 'Warren',\n",
       " 'Cynthia',\n",
       " 'Laurie',\n",
       " 'Ann',\n",
       " 'Christina',\n",
       " 'Addie',\n",
       " 'Alicia',\n",
       " 'William',\n",
       " 'Willie',\n",
       " 'Zoheir',\n",
       " 'Roberta',\n",
       " 'Shaleyse',\n",
       " 'Alfred',\n",
       " 'Crystal',\n",
       " 'Jason',\n",
       " 'Maurice',\n",
       " 'Sherman',\n",
       " 'Stuart',\n",
       " 'Troy',\n",
       " 'Christopher',\n",
       " 'Mary',\n",
       " 'Keith',\n",
       " 'Shakeen',\n",
       " 'Michael',\n",
       " 'William',\n",
       " 'Chi',\n",
       " 'Brian',\n",
       " 'John',\n",
       " 'Lenroy',\n",
       " 'Michael',\n",
       " 'Carnell',\n",
       " 'Jennifer',\n",
       " 'SOLOMON',\n",
       " 'Nakieka',\n",
       " 'Raymond',\n",
       " 'Brandon',\n",
       " 'Chenault',\n",
       " 'Michael',\n",
       " 'MariaElena',\n",
       " 'Mamenasha',\n",
       " 'Tevin',\n",
       " 'James',\n",
       " 'David',\n",
       " 'Randy',\n",
       " 'Elizabeth',\n",
       " 'Marco',\n",
       " 'Noel',\n",
       " 'Anh',\n",
       " 'Michael',\n",
       " 'Desiree',\n",
       " 'Ezzard',\n",
       " 'Tony',\n",
       " 'Adanma',\n",
       " 'Nalitza',\n",
       " 'Denisha',\n",
       " 'Michael',\n",
       " 'Javier',\n",
       " 'Julian',\n",
       " 'Jose',\n",
       " 'Jose',\n",
       " 'John',\n",
       " 'Michelle',\n",
       " 'Jenna',\n",
       " 'Ernest',\n",
       " 'Patrick',\n",
       " 'Carolyn',\n",
       " 'Kaitlin',\n",
       " 'Felicia',\n",
       " 'Robert',\n",
       " 'James',\n",
       " 'William',\n",
       " 'Armond',\n",
       " 'Larry',\n",
       " 'Khira',\n",
       " 'Latoya',\n",
       " 'Shawn',\n",
       " 'Joseph',\n",
       " 'Patricia',\n",
       " 'Edward',\n",
       " 'Charles',\n",
       " 'Robert',\n",
       " 'Michael',\n",
       " 'Jesse',\n",
       " 'Brian',\n",
       " 'Aliya',\n",
       " 'Trina',\n",
       " 'Brittany',\n",
       " 'Kelsey',\n",
       " 'Sophya',\n",
       " 'Annette',\n",
       " 'Helen',\n",
       " 'Elyse',\n",
       " 'Mary',\n",
       " 'Kimeisha',\n",
       " 'Allan',\n",
       " 'Lisa',\n",
       " 'Lyn',\n",
       " 'Emmanuel',\n",
       " 'Lauren',\n",
       " 'Steven',\n",
       " 'Eunice',\n",
       " 'Melissa',\n",
       " 'Jean',\n",
       " 'Susan',\n",
       " 'Pamela',\n",
       " 'Julius',\n",
       " 'Alan',\n",
       " 'Melisa',\n",
       " 'Rebecca',\n",
       " 'Irena',\n",
       " 'Sengova',\n",
       " 'Nkrumah',\n",
       " 'Laura',\n",
       " 'Dawn',\n",
       " 'Laurie',\n",
       " 'Deanna',\n",
       " 'William',\n",
       " 'Helen',\n",
       " 'Vanessa',\n",
       " 'Mary',\n",
       " 'Marsha',\n",
       " 'Nancy',\n",
       " 'Amanda',\n",
       " 'Jane',\n",
       " 'Elisa',\n",
       " 'Julia',\n",
       " 'Thomas',\n",
       " 'Celeste',\n",
       " 'Joanne',\n",
       " 'Angela',\n",
       " 'Ellen',\n",
       " 'Helen',\n",
       " 'Valerie',\n",
       " 'LaNiesha',\n",
       " 'Rebecca',\n",
       " 'Amanda',\n",
       " 'Aveann',\n",
       " 'Claudette',\n",
       " 'William',\n",
       " 'Carole',\n",
       " 'Delores',\n",
       " 'Doris',\n",
       " 'Kate',\n",
       " 'Nancy',\n",
       " 'Christina',\n",
       " 'Janet',\n",
       " 'Kristaq',\n",
       " 'Luljeta',\n",
       " 'Le',\n",
       " 'Richard',\n",
       " 'Mimoza',\n",
       " 'Aaron',\n",
       " ...]"
      ]
     },
     "execution_count": 9,
     "metadata": {},
     "output_type": "execute_result"
    }
   ],
   "source": [
    "firstName = d_2014.name.apply(lambda x: x.split(',')[1])\n",
    "y = [name.split(\" \")[0] for name in firstName]\n",
    "y\n",
    "#[]f_name.apply(lambda x: x.split(',')[1])\n",
    "#first_name\n",
    "\n",
    "#name_split = [name.split(',') for name in names]\n",
    "#newlist = []\n",
    "#for name in name_split:\n",
    " #   first = name[1]\n",
    "  #  newlist.append(first)\n",
    "#y = []\n",
    "#for name in f_name:\n",
    " #   x = name.split(\" \")\n",
    "  #  y.append(x[0])\n",
    "#print(y)\n",
    "\n",
    "\n"
   ]
  },
  {
   "cell_type": "code",
   "execution_count": 10,
   "metadata": {},
   "outputs": [
    {
     "data": {
      "text/plain": [
       "0           Adario\n",
       "1            Baker\n",
       "2            Braga\n",
       "3        Calobrisi\n",
       "4    Castillo-Cook\n",
       "Name: name, dtype: object"
      ]
     },
     "execution_count": 10,
     "metadata": {},
     "output_type": "execute_result"
    }
   ],
   "source": [
    "lastName = d_2014.name.apply(lambda x: x.split(',')[0])\n",
    "#y = [name.split(\" \")[0] for name in firstName]\n",
    "#y\n",
    "lastName.head()"
   ]
  },
  {
   "cell_type": "markdown",
   "metadata": {},
   "source": [
    "create a column called first name and one called gender"
   ]
  },
  {
   "cell_type": "code",
   "execution_count": 11,
   "metadata": {
    "collapsed": true
   },
   "outputs": [],
   "source": [
    "import gender_guesser.detector as gender\n",
    "d = gender.Detector()\n",
    "\n",
    "gender = []\n",
    "\n",
    "for name in y:\n",
    "    gender_it = d.get_gender(name)\n",
    "    gender.append(gender_it)\n",
    "\n",
    "d_2014[\"firstName\"] = y\n",
    "d_2014[\"gender\"] = gender"
   ]
  },
  {
   "cell_type": "markdown",
   "metadata": {},
   "source": [
    "Do the whole data set, create a column of first name and a column of gender, i need to make it match eventually\n",
    "what I used in my D3 csv to avoid hassle when recreating the graphic"
   ]
  },
  {
   "cell_type": "code",
   "execution_count": 12,
   "metadata": {},
   "outputs": [
    {
     "data": {
      "text/html": [
       "<div>\n",
       "<table border=\"1\" class=\"dataframe\">\n",
       "  <thead>\n",
       "    <tr style=\"text-align: right;\">\n",
       "      <th></th>\n",
       "      <th>name</th>\n",
       "      <th>title</th>\n",
       "      <th>DEPARTMENT NAME</th>\n",
       "      <th>salary</th>\n",
       "      <th>retroactive</th>\n",
       "      <th>other</th>\n",
       "      <th>overtime</th>\n",
       "      <th>injured</th>\n",
       "      <th>detail</th>\n",
       "      <th>QUINN</th>\n",
       "      <th>totalSalary</th>\n",
       "      <th>ZIP</th>\n",
       "      <th>firstName</th>\n",
       "      <th>gender</th>\n",
       "    </tr>\n",
       "  </thead>\n",
       "  <tbody>\n",
       "    <tr>\n",
       "      <th>0</th>\n",
       "      <td>Adario,Anthony J</td>\n",
       "      <td>Supvising Claims Agent (Asd)</td>\n",
       "      <td>ASD Human Resources</td>\n",
       "      <td>98538.0</td>\n",
       "      <td>0.0</td>\n",
       "      <td>1843.0</td>\n",
       "      <td>0.0</td>\n",
       "      <td>0.0</td>\n",
       "      <td>0.0</td>\n",
       "      <td>0.0</td>\n",
       "      <td>100381.0</td>\n",
       "      <td>02132</td>\n",
       "      <td>Anthony</td>\n",
       "      <td>male</td>\n",
       "    </tr>\n",
       "    <tr>\n",
       "      <th>1</th>\n",
       "      <td>Baker,Katherine E.</td>\n",
       "      <td>Nurse Case Manager</td>\n",
       "      <td>ASD Human Resources</td>\n",
       "      <td>83942.0</td>\n",
       "      <td>0.0</td>\n",
       "      <td>225.0</td>\n",
       "      <td>0.0</td>\n",
       "      <td>0.0</td>\n",
       "      <td>0.0</td>\n",
       "      <td>0.0</td>\n",
       "      <td>84167.0</td>\n",
       "      <td>02136</td>\n",
       "      <td>Katherine</td>\n",
       "      <td>female</td>\n",
       "    </tr>\n",
       "    <tr>\n",
       "      <th>2</th>\n",
       "      <td>Braga,Ann Hess</td>\n",
       "      <td>HumanResourcesComplianceOffcr</td>\n",
       "      <td>ASD Human Resources</td>\n",
       "      <td>98538.0</td>\n",
       "      <td>0.0</td>\n",
       "      <td>0.0</td>\n",
       "      <td>0.0</td>\n",
       "      <td>0.0</td>\n",
       "      <td>0.0</td>\n",
       "      <td>0.0</td>\n",
       "      <td>98538.0</td>\n",
       "      <td>02126</td>\n",
       "      <td>Ann</td>\n",
       "      <td>female</td>\n",
       "    </tr>\n",
       "    <tr>\n",
       "      <th>3</th>\n",
       "      <td>Calobrisi,Jane Ellen</td>\n",
       "      <td>Personnel Analyst</td>\n",
       "      <td>ASD Human Resources</td>\n",
       "      <td>70074.0</td>\n",
       "      <td>0.0</td>\n",
       "      <td>225.0</td>\n",
       "      <td>0.0</td>\n",
       "      <td>0.0</td>\n",
       "      <td>0.0</td>\n",
       "      <td>0.0</td>\n",
       "      <td>70299.0</td>\n",
       "      <td>02090</td>\n",
       "      <td>Jane</td>\n",
       "      <td>female</td>\n",
       "    </tr>\n",
       "    <tr>\n",
       "      <th>4</th>\n",
       "      <td>Castillo-Cook,Wendolyn M.</td>\n",
       "      <td>Alcholism Coord I</td>\n",
       "      <td>ASD Human Resources</td>\n",
       "      <td>79253.0</td>\n",
       "      <td>0.0</td>\n",
       "      <td>0.0</td>\n",
       "      <td>0.0</td>\n",
       "      <td>0.0</td>\n",
       "      <td>0.0</td>\n",
       "      <td>0.0</td>\n",
       "      <td>79253.0</td>\n",
       "      <td>02121</td>\n",
       "      <td>Wendolyn</td>\n",
       "      <td>unknown</td>\n",
       "    </tr>\n",
       "  </tbody>\n",
       "</table>\n",
       "</div>"
      ],
      "text/plain": [
       "                        name                          title  \\\n",
       "0           Adario,Anthony J   Supvising Claims Agent (Asd)   \n",
       "1         Baker,Katherine E.             Nurse Case Manager   \n",
       "2             Braga,Ann Hess  HumanResourcesComplianceOffcr   \n",
       "3       Calobrisi,Jane Ellen              Personnel Analyst   \n",
       "4  Castillo-Cook,Wendolyn M.              Alcholism Coord I   \n",
       "\n",
       "       DEPARTMENT NAME   salary  retroactive   other  overtime  injured  \\\n",
       "0  ASD Human Resources  98538.0          0.0  1843.0       0.0      0.0   \n",
       "1  ASD Human Resources  83942.0          0.0   225.0       0.0      0.0   \n",
       "2  ASD Human Resources  98538.0          0.0     0.0       0.0      0.0   \n",
       "3  ASD Human Resources  70074.0          0.0   225.0       0.0      0.0   \n",
       "4  ASD Human Resources  79253.0          0.0     0.0       0.0      0.0   \n",
       "\n",
       "   detail  QUINN  totalSalary    ZIP  firstName   gender  \n",
       "0     0.0    0.0     100381.0  02132    Anthony     male  \n",
       "1     0.0    0.0      84167.0  02136  Katherine   female  \n",
       "2     0.0    0.0      98538.0  02126        Ann   female  \n",
       "3     0.0    0.0      70299.0  02090       Jane   female  \n",
       "4     0.0    0.0      79253.0  02121   Wendolyn  unknown  "
      ]
     },
     "execution_count": 12,
     "metadata": {},
     "output_type": "execute_result"
    }
   ],
   "source": [
    "\n",
    "d_2014.head()"
   ]
  },
  {
   "cell_type": "markdown",
   "metadata": {},
   "source": [
    "change the order of the columns\n"
   ]
  },
  {
   "cell_type": "code",
   "execution_count": 13,
   "metadata": {},
   "outputs": [
    {
     "data": {
      "text/plain": [
       "['name',\n",
       " 'title',\n",
       " 'DEPARTMENT NAME',\n",
       " 'salary',\n",
       " 'retroactive',\n",
       " 'other',\n",
       " 'overtime',\n",
       " 'injured',\n",
       " 'detail',\n",
       " 'QUINN',\n",
       " 'totalSalary',\n",
       " 'ZIP',\n",
       " 'firstName',\n",
       " 'gender']"
      ]
     },
     "execution_count": 13,
     "metadata": {},
     "output_type": "execute_result"
    }
   ],
   "source": [
    "cols = list(d_2014.columns.values)\n",
    "cols"
   ]
  },
  {
   "cell_type": "code",
   "execution_count": 14,
   "metadata": {},
   "outputs": [
    {
     "data": {
      "text/html": [
       "<div>\n",
       "<table border=\"1\" class=\"dataframe\">\n",
       "  <thead>\n",
       "    <tr style=\"text-align: right;\">\n",
       "      <th></th>\n",
       "      <th>name</th>\n",
       "      <th>firstName</th>\n",
       "      <th>gender</th>\n",
       "      <th>salary</th>\n",
       "      <th>totalSalary</th>\n",
       "      <th>DEPARTMENT NAME</th>\n",
       "      <th>title</th>\n",
       "      <th>retroactive</th>\n",
       "      <th>other</th>\n",
       "      <th>overtime</th>\n",
       "      <th>injured</th>\n",
       "      <th>detail</th>\n",
       "      <th>QUINN</th>\n",
       "      <th>ZIP</th>\n",
       "    </tr>\n",
       "  </thead>\n",
       "  <tbody>\n",
       "    <tr>\n",
       "      <th>0</th>\n",
       "      <td>Adario,Anthony J</td>\n",
       "      <td>Anthony</td>\n",
       "      <td>male</td>\n",
       "      <td>98538.0</td>\n",
       "      <td>100381.0</td>\n",
       "      <td>ASD Human Resources</td>\n",
       "      <td>Supvising Claims Agent (Asd)</td>\n",
       "      <td>0.0</td>\n",
       "      <td>1843.0</td>\n",
       "      <td>0.0</td>\n",
       "      <td>0.0</td>\n",
       "      <td>0.0</td>\n",
       "      <td>0.0</td>\n",
       "      <td>02132</td>\n",
       "    </tr>\n",
       "    <tr>\n",
       "      <th>1</th>\n",
       "      <td>Baker,Katherine E.</td>\n",
       "      <td>Katherine</td>\n",
       "      <td>female</td>\n",
       "      <td>83942.0</td>\n",
       "      <td>84167.0</td>\n",
       "      <td>ASD Human Resources</td>\n",
       "      <td>Nurse Case Manager</td>\n",
       "      <td>0.0</td>\n",
       "      <td>225.0</td>\n",
       "      <td>0.0</td>\n",
       "      <td>0.0</td>\n",
       "      <td>0.0</td>\n",
       "      <td>0.0</td>\n",
       "      <td>02136</td>\n",
       "    </tr>\n",
       "    <tr>\n",
       "      <th>2</th>\n",
       "      <td>Braga,Ann Hess</td>\n",
       "      <td>Ann</td>\n",
       "      <td>female</td>\n",
       "      <td>98538.0</td>\n",
       "      <td>98538.0</td>\n",
       "      <td>ASD Human Resources</td>\n",
       "      <td>HumanResourcesComplianceOffcr</td>\n",
       "      <td>0.0</td>\n",
       "      <td>0.0</td>\n",
       "      <td>0.0</td>\n",
       "      <td>0.0</td>\n",
       "      <td>0.0</td>\n",
       "      <td>0.0</td>\n",
       "      <td>02126</td>\n",
       "    </tr>\n",
       "    <tr>\n",
       "      <th>3</th>\n",
       "      <td>Calobrisi,Jane Ellen</td>\n",
       "      <td>Jane</td>\n",
       "      <td>female</td>\n",
       "      <td>70074.0</td>\n",
       "      <td>70299.0</td>\n",
       "      <td>ASD Human Resources</td>\n",
       "      <td>Personnel Analyst</td>\n",
       "      <td>0.0</td>\n",
       "      <td>225.0</td>\n",
       "      <td>0.0</td>\n",
       "      <td>0.0</td>\n",
       "      <td>0.0</td>\n",
       "      <td>0.0</td>\n",
       "      <td>02090</td>\n",
       "    </tr>\n",
       "    <tr>\n",
       "      <th>4</th>\n",
       "      <td>Castillo-Cook,Wendolyn M.</td>\n",
       "      <td>Wendolyn</td>\n",
       "      <td>unknown</td>\n",
       "      <td>79253.0</td>\n",
       "      <td>79253.0</td>\n",
       "      <td>ASD Human Resources</td>\n",
       "      <td>Alcholism Coord I</td>\n",
       "      <td>0.0</td>\n",
       "      <td>0.0</td>\n",
       "      <td>0.0</td>\n",
       "      <td>0.0</td>\n",
       "      <td>0.0</td>\n",
       "      <td>0.0</td>\n",
       "      <td>02121</td>\n",
       "    </tr>\n",
       "  </tbody>\n",
       "</table>\n",
       "</div>"
      ],
      "text/plain": [
       "                        name  firstName   gender   salary  totalSalary  \\\n",
       "0           Adario,Anthony J    Anthony     male  98538.0     100381.0   \n",
       "1         Baker,Katherine E.  Katherine   female  83942.0      84167.0   \n",
       "2             Braga,Ann Hess        Ann   female  98538.0      98538.0   \n",
       "3       Calobrisi,Jane Ellen       Jane   female  70074.0      70299.0   \n",
       "4  Castillo-Cook,Wendolyn M.   Wendolyn  unknown  79253.0      79253.0   \n",
       "\n",
       "       DEPARTMENT NAME                          title  retroactive   other  \\\n",
       "0  ASD Human Resources   Supvising Claims Agent (Asd)          0.0  1843.0   \n",
       "1  ASD Human Resources             Nurse Case Manager          0.0   225.0   \n",
       "2  ASD Human Resources  HumanResourcesComplianceOffcr          0.0     0.0   \n",
       "3  ASD Human Resources              Personnel Analyst          0.0   225.0   \n",
       "4  ASD Human Resources              Alcholism Coord I          0.0     0.0   \n",
       "\n",
       "   overtime  injured  detail  QUINN    ZIP  \n",
       "0       0.0      0.0     0.0    0.0  02132  \n",
       "1       0.0      0.0     0.0    0.0  02136  \n",
       "2       0.0      0.0     0.0    0.0  02126  \n",
       "3       0.0      0.0     0.0    0.0  02090  \n",
       "4       0.0      0.0     0.0    0.0  02121  "
      ]
     },
     "execution_count": 14,
     "metadata": {},
     "output_type": "execute_result"
    }
   ],
   "source": [
    "d_2014 = d_2014[[\n",
    " 'name',\n",
    "'firstName',\n",
    " 'gender',\n",
    " 'salary',\n",
    "'totalSalary',\n",
    "'DEPARTMENT NAME',\n",
    " 'title',\n",
    " 'retroactive',\n",
    " 'other',\n",
    " 'overtime',\n",
    " 'injured',\n",
    " 'detail',\n",
    " 'QUINN',\n",
    " 'ZIP', \n",
    " ]]\n",
    "d_2014.head()"
   ]
  },
  {
   "cell_type": "markdown",
   "metadata": {},
   "source": [
    "messing about with the name split \n",
    "\n",
    "name_split = [name.split(',') for name in names]\n",
    "newlist = []\n",
    "for name in name_split:\n",
    "    first = name[1]\n",
    "    newlist.append(first)\n",
    "y = []\n",
    "for name in newlist:\n",
    "    x = name.split(\" \")\n",
    "    y.append(x[0])\n",
    "\n",
    "#add y as a column in the data set\n",
    "\n",
    "d_2016[\"first_names\"] = y\n",
    "d_2016.head()\n"
   ]
  },
  {
   "cell_type": "markdown",
   "metadata": {},
   "source": [
    "messing about\n",
    "\n",
    "import gender_guesser.detector as gender\n",
    "d = gender.Detector()\n",
    "\n",
    "gender = []\n",
    "\n",
    "for name in y:\n",
    "    gender_it = d.get_gender(name)\n",
    "    gender.append(gender_it)\n",
    "d_2016[\"gender\"] = gender\n",
    "d_2016.head()"
   ]
  },
  {
   "cell_type": "markdown",
   "metadata": {},
   "source": [
    "shortdf = d_2016[[\"NAME\",\"first_names\",\"gender\",\"REGULAR\"]] #I can add stuff here later and rerun for my csv, ie department\n",
    "print(shortdf.sort_values(by=['gender'],ascending=True))"
   ]
  },
  {
   "cell_type": "markdown",
   "metadata": {},
   "source": [
    "now I'd like to see how many there are of each type in the new gender column..."
   ]
  },
  {
   "cell_type": "code",
   "execution_count": 15,
   "metadata": {},
   "outputs": [
    {
     "data": {
      "text/plain": [
       "male             9387\n",
       "female           9324\n",
       "unknown          2011\n",
       "mostly_female     984\n",
       "mostly_male       359\n",
       "andy              168\n",
       "Name: gender, dtype: int64"
      ]
     },
     "execution_count": 15,
     "metadata": {},
     "output_type": "execute_result"
    }
   ],
   "source": [
    "d_2014['gender'].value_counts() #andy is androgynous"
   ]
  },
  {
   "cell_type": "code",
   "execution_count": null,
   "metadata": {
    "collapsed": true
   },
   "outputs": [],
   "source": []
  },
  {
   "cell_type": "markdown",
   "metadata": {},
   "source": [
    "df.loc[df['First Season'] > 1990, 'First Season'] = 1"
   ]
  },
  {
   "cell_type": "code",
   "execution_count": 16,
   "metadata": {},
   "outputs": [
    {
     "data": {
      "text/plain": [
       "female     10308\n",
       "male        9746\n",
       "unknown     2011\n",
       "andy         168\n",
       "Name: gender, dtype: int64"
      ]
     },
     "execution_count": 16,
     "metadata": {},
     "output_type": "execute_result"
    }
   ],
   "source": [
    "d_2014.loc[d_2014['gender'] == \"mostly_female\", \"gender\"] = \"female\"\n",
    "d_2014.loc[d_2014['gender'] == \"mostly_male\", \"gender\"] = \"male\"\n",
    "d_2014['gender'].value_counts() #andy is androgynous"
   ]
  },
  {
   "cell_type": "markdown",
   "metadata": {},
   "source": [
    "I'm going to group mostly's into their respective groups"
   ]
  },
  {
   "cell_type": "markdown",
   "metadata": {},
   "source": [
    "im going to sort by top 100 earners to see how many of those have different value counts since\n",
    "that's what I use in my chart\n"
   ]
  },
  {
   "cell_type": "markdown",
   "metadata": {
    "collapsed": true
   },
   "source": [
    "these two women are listed as unknowns, since I looked them up im going to fix in the data set..\n",
    "13129          McCreary,Makeeba   Makeeba                 Communications   \n",
    "6050   Edouard-Vincent,Marice M    Marice  Asst Superintendent-Network A "
   ]
  },
  {
   "cell_type": "code",
   "execution_count": 17,
   "metadata": {},
   "outputs": [
    {
     "data": {
      "text/plain": [
       "female     10309\n",
       "male        9746\n",
       "unknown     2010\n",
       "andy         168\n",
       "Name: gender, dtype: int64"
      ]
     },
     "execution_count": 17,
     "metadata": {},
     "output_type": "execute_result"
    }
   ],
   "source": [
    "d_2014.loc[d_2014['name'] == \"McCreary,Makeeba\", \"gender\"] = \"female\"\n",
    "d_2014.loc[d_2014['name'] == \"Edouard-Vincent,Marice M\", \"gender\"] = \"female\"\n",
    "d_2014['gender'].value_counts()"
   ]
  },
  {
   "cell_type": "code",
   "execution_count": 18,
   "metadata": {},
   "outputs": [
    {
     "data": {
      "text/plain": [
       "name                object\n",
       "firstName           object\n",
       "gender              object\n",
       "salary             float64\n",
       "totalSalary        float64\n",
       "DEPARTMENT NAME     object\n",
       "title               object\n",
       "retroactive        float64\n",
       "other              float64\n",
       "overtime           float64\n",
       "injured            float64\n",
       "detail             float64\n",
       "QUINN              float64\n",
       "ZIP                 object\n",
       "dtype: object"
      ]
     },
     "execution_count": 18,
     "metadata": {},
     "output_type": "execute_result"
    }
   ],
   "source": [
    "d_2014.dtypes\n"
   ]
  },
  {
   "cell_type": "code",
   "execution_count": 19,
   "metadata": {},
   "outputs": [
    {
     "name": "stdout",
     "output_type": "stream",
     "text": [
      "(22233, 14)\n"
     ]
    },
    {
     "data": {
      "text/plain": [
       "Index(['name', 'firstName', 'gender', 'salary', 'totalSalary',\n",
       "       'DEPARTMENT NAME', 'title', 'retroactive', 'other', 'overtime',\n",
       "       'injured', 'detail', 'QUINN', 'ZIP'],\n",
       "      dtype='object')"
      ]
     },
     "execution_count": 19,
     "metadata": {},
     "output_type": "execute_result"
    }
   ],
   "source": [
    "print(d_2014.shape)\n",
    "d_2014.columns\n"
   ]
  },
  {
   "cell_type": "code",
   "execution_count": 20,
   "metadata": {},
   "outputs": [
    {
     "data": {
      "text/html": [
       "<div>\n",
       "<table border=\"1\" class=\"dataframe\">\n",
       "  <thead>\n",
       "    <tr style=\"text-align: right;\">\n",
       "      <th></th>\n",
       "      <th>name</th>\n",
       "      <th>firstName</th>\n",
       "      <th>gender</th>\n",
       "      <th>salary</th>\n",
       "      <th>totalSalary</th>\n",
       "      <th>DEPARTMENT NAME</th>\n",
       "      <th>title</th>\n",
       "      <th>retroactive</th>\n",
       "      <th>other</th>\n",
       "      <th>overtime</th>\n",
       "      <th>injured</th>\n",
       "      <th>detail</th>\n",
       "      <th>QUINN</th>\n",
       "      <th>ZIP</th>\n",
       "    </tr>\n",
       "  </thead>\n",
       "  <tbody>\n",
       "    <tr>\n",
       "      <th>0</th>\n",
       "      <td>Adario,Anthony J</td>\n",
       "      <td>Anthony</td>\n",
       "      <td>male</td>\n",
       "      <td>98538.0</td>\n",
       "      <td>100381.0</td>\n",
       "      <td>ASD Human Resources</td>\n",
       "      <td>Supvising Claims Agent (Asd)</td>\n",
       "      <td>0.0</td>\n",
       "      <td>1843.0</td>\n",
       "      <td>0.0</td>\n",
       "      <td>0.0</td>\n",
       "      <td>0.0</td>\n",
       "      <td>0.0</td>\n",
       "      <td>02132</td>\n",
       "    </tr>\n",
       "    <tr>\n",
       "      <th>1</th>\n",
       "      <td>Baker,Katherine E.</td>\n",
       "      <td>Katherine</td>\n",
       "      <td>female</td>\n",
       "      <td>83942.0</td>\n",
       "      <td>84167.0</td>\n",
       "      <td>ASD Human Resources</td>\n",
       "      <td>Nurse Case Manager</td>\n",
       "      <td>0.0</td>\n",
       "      <td>225.0</td>\n",
       "      <td>0.0</td>\n",
       "      <td>0.0</td>\n",
       "      <td>0.0</td>\n",
       "      <td>0.0</td>\n",
       "      <td>02136</td>\n",
       "    </tr>\n",
       "    <tr>\n",
       "      <th>2</th>\n",
       "      <td>Braga,Ann Hess</td>\n",
       "      <td>Ann</td>\n",
       "      <td>female</td>\n",
       "      <td>98538.0</td>\n",
       "      <td>98538.0</td>\n",
       "      <td>ASD Human Resources</td>\n",
       "      <td>HumanResourcesComplianceOffcr</td>\n",
       "      <td>0.0</td>\n",
       "      <td>0.0</td>\n",
       "      <td>0.0</td>\n",
       "      <td>0.0</td>\n",
       "      <td>0.0</td>\n",
       "      <td>0.0</td>\n",
       "      <td>02126</td>\n",
       "    </tr>\n",
       "    <tr>\n",
       "      <th>3</th>\n",
       "      <td>Calobrisi,Jane Ellen</td>\n",
       "      <td>Jane</td>\n",
       "      <td>female</td>\n",
       "      <td>70074.0</td>\n",
       "      <td>70299.0</td>\n",
       "      <td>ASD Human Resources</td>\n",
       "      <td>Personnel Analyst</td>\n",
       "      <td>0.0</td>\n",
       "      <td>225.0</td>\n",
       "      <td>0.0</td>\n",
       "      <td>0.0</td>\n",
       "      <td>0.0</td>\n",
       "      <td>0.0</td>\n",
       "      <td>02090</td>\n",
       "    </tr>\n",
       "    <tr>\n",
       "      <th>4</th>\n",
       "      <td>Castillo-Cook,Wendolyn M.</td>\n",
       "      <td>Wendolyn</td>\n",
       "      <td>unknown</td>\n",
       "      <td>79253.0</td>\n",
       "      <td>79253.0</td>\n",
       "      <td>ASD Human Resources</td>\n",
       "      <td>Alcholism Coord I</td>\n",
       "      <td>0.0</td>\n",
       "      <td>0.0</td>\n",
       "      <td>0.0</td>\n",
       "      <td>0.0</td>\n",
       "      <td>0.0</td>\n",
       "      <td>0.0</td>\n",
       "      <td>02121</td>\n",
       "    </tr>\n",
       "  </tbody>\n",
       "</table>\n",
       "</div>"
      ],
      "text/plain": [
       "                        name  firstName   gender   salary  totalSalary  \\\n",
       "0           Adario,Anthony J    Anthony     male  98538.0     100381.0   \n",
       "1         Baker,Katherine E.  Katherine   female  83942.0      84167.0   \n",
       "2             Braga,Ann Hess        Ann   female  98538.0      98538.0   \n",
       "3       Calobrisi,Jane Ellen       Jane   female  70074.0      70299.0   \n",
       "4  Castillo-Cook,Wendolyn M.   Wendolyn  unknown  79253.0      79253.0   \n",
       "\n",
       "       DEPARTMENT NAME                          title  retroactive   other  \\\n",
       "0  ASD Human Resources   Supvising Claims Agent (Asd)          0.0  1843.0   \n",
       "1  ASD Human Resources             Nurse Case Manager          0.0   225.0   \n",
       "2  ASD Human Resources  HumanResourcesComplianceOffcr          0.0     0.0   \n",
       "3  ASD Human Resources              Personnel Analyst          0.0   225.0   \n",
       "4  ASD Human Resources              Alcholism Coord I          0.0     0.0   \n",
       "\n",
       "   overtime  injured  detail  QUINN    ZIP  \n",
       "0       0.0      0.0     0.0    0.0  02132  \n",
       "1       0.0      0.0     0.0    0.0  02136  \n",
       "2       0.0      0.0     0.0    0.0  02126  \n",
       "3       0.0      0.0     0.0    0.0  02090  \n",
       "4       0.0      0.0     0.0    0.0  02121  "
      ]
     },
     "execution_count": 20,
     "metadata": {},
     "output_type": "execute_result"
    }
   ],
   "source": [
    "d_2014.head()"
   ]
  },
  {
   "cell_type": "code",
   "execution_count": 21,
   "metadata": {},
   "outputs": [
    {
     "data": {
      "text/plain": [
       "0"
      ]
     },
     "execution_count": 21,
     "metadata": {},
     "output_type": "execute_result"
    }
   ],
   "source": [
    "#Get a sense of how many missing values there are in the dataframe.\n",
    "np.sum([d_2014.salary.isnull()])\n",
    "np.sum([d_2014.gender.isnull()])"
   ]
  },
  {
   "cell_type": "code",
   "execution_count": 22,
   "metadata": {},
   "outputs": [
    {
     "data": {
      "text/html": [
       "<div>\n",
       "<table border=\"1\" class=\"dataframe\">\n",
       "  <thead>\n",
       "    <tr style=\"text-align: right;\">\n",
       "      <th></th>\n",
       "      <th>name</th>\n",
       "      <th>firstName</th>\n",
       "      <th>gender</th>\n",
       "      <th>salary</th>\n",
       "      <th>totalSalary</th>\n",
       "      <th>DEPARTMENT NAME</th>\n",
       "      <th>title</th>\n",
       "      <th>retroactive</th>\n",
       "      <th>other</th>\n",
       "      <th>overtime</th>\n",
       "      <th>injured</th>\n",
       "      <th>detail</th>\n",
       "      <th>QUINN</th>\n",
       "      <th>ZIP</th>\n",
       "    </tr>\n",
       "  </thead>\n",
       "  <tbody>\n",
       "    <tr>\n",
       "      <th>16227</th>\n",
       "      <td>McDonough,John P</td>\n",
       "      <td>John</td>\n",
       "      <td>male</td>\n",
       "      <td>254358.0</td>\n",
       "      <td>259165.0</td>\n",
       "      <td>Superintendent</td>\n",
       "      <td>Superintendent</td>\n",
       "      <td>0.0</td>\n",
       "      <td>4808.0</td>\n",
       "      <td>0.0</td>\n",
       "      <td>0.0</td>\n",
       "      <td>0.0</td>\n",
       "      <td>0.0</td>\n",
       "      <td>02129</td>\n",
       "    </tr>\n",
       "    <tr>\n",
       "      <th>18127</th>\n",
       "      <td>Evans,William B</td>\n",
       "      <td>William</td>\n",
       "      <td>male</td>\n",
       "      <td>186204.0</td>\n",
       "      <td>186204.0</td>\n",
       "      <td>Boston Police Department</td>\n",
       "      <td>Commissioner (Bpd)</td>\n",
       "      <td>0.0</td>\n",
       "      <td>0.0</td>\n",
       "      <td>0.0</td>\n",
       "      <td>0.0</td>\n",
       "      <td>0.0</td>\n",
       "      <td>0.0</td>\n",
       "      <td>02127</td>\n",
       "    </tr>\n",
       "    <tr>\n",
       "      <th>21932</th>\n",
       "      <td>Ruggere,Michael J</td>\n",
       "      <td>Michael</td>\n",
       "      <td>male</td>\n",
       "      <td>183196.0</td>\n",
       "      <td>242423.0</td>\n",
       "      <td>Boston Fire Department</td>\n",
       "      <td>Dep Fire Chief</td>\n",
       "      <td>20912.0</td>\n",
       "      <td>4566.0</td>\n",
       "      <td>33749.0</td>\n",
       "      <td>0.0</td>\n",
       "      <td>0.0</td>\n",
       "      <td>0.0</td>\n",
       "      <td>02188</td>\n",
       "    </tr>\n",
       "    <tr>\n",
       "      <th>21103</th>\n",
       "      <td>Granara,David Richard</td>\n",
       "      <td>David</td>\n",
       "      <td>male</td>\n",
       "      <td>183087.0</td>\n",
       "      <td>214774.0</td>\n",
       "      <td>Boston Fire Department</td>\n",
       "      <td>DepFireChiefAdmn-AdvTechnician</td>\n",
       "      <td>20929.0</td>\n",
       "      <td>10758.0</td>\n",
       "      <td>0.0</td>\n",
       "      <td>0.0</td>\n",
       "      <td>0.0</td>\n",
       "      <td>0.0</td>\n",
       "      <td>02128</td>\n",
       "    </tr>\n",
       "    <tr>\n",
       "      <th>21171</th>\n",
       "      <td>Hasson,John</td>\n",
       "      <td>John</td>\n",
       "      <td>male</td>\n",
       "      <td>182485.0</td>\n",
       "      <td>200466.0</td>\n",
       "      <td>Boston Fire Department</td>\n",
       "      <td>Dep Fire Chief Administration</td>\n",
       "      <td>0.0</td>\n",
       "      <td>17379.0</td>\n",
       "      <td>0.0</td>\n",
       "      <td>602.0</td>\n",
       "      <td>0.0</td>\n",
       "      <td>0.0</td>\n",
       "      <td>02125</td>\n",
       "    </tr>\n",
       "  </tbody>\n",
       "</table>\n",
       "</div>"
      ],
      "text/plain": [
       "                        name firstName gender    salary  totalSalary  \\\n",
       "16227       McDonough,John P      John   male  254358.0     259165.0   \n",
       "18127        Evans,William B   William   male  186204.0     186204.0   \n",
       "21932      Ruggere,Michael J   Michael   male  183196.0     242423.0   \n",
       "21103  Granara,David Richard     David   male  183087.0     214774.0   \n",
       "21171            Hasson,John      John   male  182485.0     200466.0   \n",
       "\n",
       "                DEPARTMENT NAME                           title  retroactive  \\\n",
       "16227            Superintendent                  Superintendent          0.0   \n",
       "18127  Boston Police Department              Commissioner (Bpd)          0.0   \n",
       "21932    Boston Fire Department                  Dep Fire Chief      20912.0   \n",
       "21103    Boston Fire Department  DepFireChiefAdmn-AdvTechnician      20929.0   \n",
       "21171    Boston Fire Department   Dep Fire Chief Administration          0.0   \n",
       "\n",
       "         other  overtime  injured  detail  QUINN    ZIP  \n",
       "16227   4808.0       0.0      0.0     0.0    0.0  02129  \n",
       "18127      0.0       0.0      0.0     0.0    0.0  02127  \n",
       "21932   4566.0   33749.0      0.0     0.0    0.0  02188  \n",
       "21103  10758.0       0.0      0.0     0.0    0.0  02128  \n",
       "21171  17379.0       0.0    602.0     0.0    0.0  02125  "
      ]
     },
     "execution_count": 22,
     "metadata": {},
     "output_type": "execute_result"
    }
   ],
   "source": [
    "salarySorted = d_2014.sort_values(by='salary', ascending=False)\n",
    "salarySorted.head()\n",
    "\n"
   ]
  },
  {
   "cell_type": "code",
   "execution_count": 23,
   "metadata": {
    "collapsed": true
   },
   "outputs": [],
   "source": [
    "#need to fix the 2014 department names to match the d3 names and also format the full names since writtenbadly for tooltip use\n",
    "new_names = {'DEPARTMENT NAME':'dept'}\n",
    "salarySorted = salarySorted.rename(index=str, columns=new_names)"
   ]
  },
  {
   "cell_type": "markdown",
   "metadata": {},
   "source": [
    "so i have what i need above to export to csv and update my graph...START HERE\n",
    "-- after updating, play with bokeh here? do a new sheet to update FBI crime project?"
   ]
  },
  {
   "cell_type": "markdown",
   "metadata": {
    "collapsed": true
   },
   "source": [
    "the csv used for d3(v3) jsI want to update has this: columns are name, firstName, dept, salary, totalSalary(still has $), gender -- is just F or M \n",
    "so make a truncated version of the csv\n",
    "name in this style to be like existing csv:\n",
    "a_data_boston_2014_employee_top_100"
   ]
  },
  {
   "cell_type": "code",
   "execution_count": 24,
   "metadata": {
    "collapsed": true
   },
   "outputs": [],
   "source": [
    "#make csv with just the earlier data columns ie 6 of them newdf = df[(df['column_one']>2004) & (df['column_two']==9)]\n",
    "#AND JUST PICK THE TOP 100 \n",
    "shortForCsv = salarySorted[[\"name\", \"firstName\", \"gender\",\"salary\", \"totalSalary\",\"dept\" ]].head(100)\n",
    "#df1 = df[['a','b']]\n",
    "#df1 = df.ix[:,0:2]\n",
    "#shortForCsv['gender'].value_counts()\n",
    "\n"
   ]
  },
  {
   "cell_type": "code",
   "execution_count": 25,
   "metadata": {},
   "outputs": [
    {
     "data": {
      "text/html": [
       "<div>\n",
       "<table border=\"1\" class=\"dataframe\">\n",
       "  <thead>\n",
       "    <tr style=\"text-align: right;\">\n",
       "      <th></th>\n",
       "      <th>name</th>\n",
       "      <th>firstName</th>\n",
       "      <th>gender</th>\n",
       "      <th>salary</th>\n",
       "      <th>totalSalary</th>\n",
       "      <th>dept</th>\n",
       "      <th>title</th>\n",
       "      <th>retroactive</th>\n",
       "      <th>other</th>\n",
       "      <th>overtime</th>\n",
       "      <th>injured</th>\n",
       "      <th>detail</th>\n",
       "      <th>QUINN</th>\n",
       "      <th>ZIP</th>\n",
       "    </tr>\n",
       "  </thead>\n",
       "  <tbody>\n",
       "    <tr>\n",
       "      <th>16227</th>\n",
       "      <td>McDonough,John P</td>\n",
       "      <td>John</td>\n",
       "      <td>male</td>\n",
       "      <td>254358.0</td>\n",
       "      <td>259165.0</td>\n",
       "      <td>Superintendent</td>\n",
       "      <td>Superintendent</td>\n",
       "      <td>0.0</td>\n",
       "      <td>4808.0</td>\n",
       "      <td>0.0</td>\n",
       "      <td>0.0</td>\n",
       "      <td>0.0</td>\n",
       "      <td>0.0</td>\n",
       "      <td>02129</td>\n",
       "    </tr>\n",
       "    <tr>\n",
       "      <th>18127</th>\n",
       "      <td>Evans,William B</td>\n",
       "      <td>William</td>\n",
       "      <td>male</td>\n",
       "      <td>186204.0</td>\n",
       "      <td>186204.0</td>\n",
       "      <td>Boston Police Department</td>\n",
       "      <td>Commissioner (Bpd)</td>\n",
       "      <td>0.0</td>\n",
       "      <td>0.0</td>\n",
       "      <td>0.0</td>\n",
       "      <td>0.0</td>\n",
       "      <td>0.0</td>\n",
       "      <td>0.0</td>\n",
       "      <td>02127</td>\n",
       "    </tr>\n",
       "    <tr>\n",
       "      <th>21932</th>\n",
       "      <td>Ruggere,Michael J</td>\n",
       "      <td>Michael</td>\n",
       "      <td>male</td>\n",
       "      <td>183196.0</td>\n",
       "      <td>242423.0</td>\n",
       "      <td>Boston Fire Department</td>\n",
       "      <td>Dep Fire Chief</td>\n",
       "      <td>20912.0</td>\n",
       "      <td>4566.0</td>\n",
       "      <td>33749.0</td>\n",
       "      <td>0.0</td>\n",
       "      <td>0.0</td>\n",
       "      <td>0.0</td>\n",
       "      <td>02188</td>\n",
       "    </tr>\n",
       "    <tr>\n",
       "      <th>21103</th>\n",
       "      <td>Granara,David Richard</td>\n",
       "      <td>David</td>\n",
       "      <td>male</td>\n",
       "      <td>183087.0</td>\n",
       "      <td>214774.0</td>\n",
       "      <td>Boston Fire Department</td>\n",
       "      <td>DepFireChiefAdmn-AdvTechnician</td>\n",
       "      <td>20929.0</td>\n",
       "      <td>10758.0</td>\n",
       "      <td>0.0</td>\n",
       "      <td>0.0</td>\n",
       "      <td>0.0</td>\n",
       "      <td>0.0</td>\n",
       "      <td>02128</td>\n",
       "    </tr>\n",
       "    <tr>\n",
       "      <th>21171</th>\n",
       "      <td>Hasson,John</td>\n",
       "      <td>John</td>\n",
       "      <td>male</td>\n",
       "      <td>182485.0</td>\n",
       "      <td>200466.0</td>\n",
       "      <td>Boston Fire Department</td>\n",
       "      <td>Dep Fire Chief Administration</td>\n",
       "      <td>0.0</td>\n",
       "      <td>17379.0</td>\n",
       "      <td>0.0</td>\n",
       "      <td>602.0</td>\n",
       "      <td>0.0</td>\n",
       "      <td>0.0</td>\n",
       "      <td>02125</td>\n",
       "    </tr>\n",
       "  </tbody>\n",
       "</table>\n",
       "</div>"
      ],
      "text/plain": [
       "                        name firstName gender    salary  totalSalary  \\\n",
       "16227       McDonough,John P      John   male  254358.0     259165.0   \n",
       "18127        Evans,William B   William   male  186204.0     186204.0   \n",
       "21932      Ruggere,Michael J   Michael   male  183196.0     242423.0   \n",
       "21103  Granara,David Richard     David   male  183087.0     214774.0   \n",
       "21171            Hasson,John      John   male  182485.0     200466.0   \n",
       "\n",
       "                           dept                           title  retroactive  \\\n",
       "16227            Superintendent                  Superintendent          0.0   \n",
       "18127  Boston Police Department              Commissioner (Bpd)          0.0   \n",
       "21932    Boston Fire Department                  Dep Fire Chief      20912.0   \n",
       "21103    Boston Fire Department  DepFireChiefAdmn-AdvTechnician      20929.0   \n",
       "21171    Boston Fire Department   Dep Fire Chief Administration          0.0   \n",
       "\n",
       "         other  overtime  injured  detail  QUINN    ZIP  \n",
       "16227   4808.0       0.0      0.0     0.0    0.0  02129  \n",
       "18127      0.0       0.0      0.0     0.0    0.0  02127  \n",
       "21932   4566.0   33749.0      0.0     0.0    0.0  02188  \n",
       "21103  10758.0       0.0      0.0     0.0    0.0  02128  \n",
       "21171  17379.0       0.0    602.0     0.0    0.0  02125  "
      ]
     },
     "execution_count": 25,
     "metadata": {},
     "output_type": "execute_result"
    }
   ],
   "source": [
    "salarySorted.head()"
   ]
  },
  {
   "cell_type": "markdown",
   "metadata": {},
   "source": [
    "bring the csv formula lower later.."
   ]
  },
  {
   "cell_type": "markdown",
   "metadata": {
    "collapsed": true
   },
   "source": [
    "I havent done anything about the gender groups yet, I need to make them into M or F and get rid of or \n",
    "check the unknowns and mostly's...'"
   ]
  },
  {
   "cell_type": "code",
   "execution_count": 26,
   "metadata": {},
   "outputs": [
    {
     "data": {
      "text/plain": [
       "male       80\n",
       "female     19\n",
       "unknown     1\n",
       "Name: gender, dtype: int64"
      ]
     },
     "execution_count": 26,
     "metadata": {},
     "output_type": "execute_result"
    }
   ],
   "source": [
    "shortForCsv['gender'].value_counts()"
   ]
  },
  {
   "cell_type": "code",
   "execution_count": 27,
   "metadata": {},
   "outputs": [
    {
     "name": "stdout",
     "output_type": "stream",
     "text": [
      "                     name  firstName   gender    salary  totalSalary  \\\n",
      "16132  Chavda,Kamalkant A  Kamalkant  unknown  143493.0     143493.0   \n",
      "\n",
      "                         dept  \n",
      "16132  Research Assess & Eval  \n"
     ]
    }
   ],
   "source": [
    "unknowns = shortForCsv[(shortForCsv['gender']== \"unknown\")]\n",
    "#MM = shortForCsv[(shortForCsv['gender']== \"mostly_male\")]\n",
    "#MF = shortForCsv[(shortForCsv['gender']== \"mostly_female\")]\n",
    "print(unknowns) \n",
    "#since its a fairly short list Im going to look them up on the intraweb but this is something I should automate or skip those \n",
    "#names, or make my own additional filter using social security names?\n",
    "#i Can also add the ones Ive checked to these lists so they are "
   ]
  },
  {
   "cell_type": "markdown",
   "metadata": {},
   "source": [
    "McCreary - F\n",
    "https://www.bostonpublicschools.org/site/default.aspx?PageType=3&ModuleInstanceID=9715&ViewID=7b97f7ed-8e5e-4120-848f-a8b4987d588f&RenderLoc=0&FlexDataID=7541&PageID=4853\n",
    "\n",
    " Edouard-Vincent,Marice - F\n",
    "https://twitter.com/netsuptb?lang=en\n",
    "\n",
    "McGovern,Ryan J -- M\n",
    "http://www.firehouse.com/news/11252963/after-falling-through-floor-boston-firefighter-thankful-for-minor-injuries\n",
    "\n",
    "Franklin-Hodge,Jascha -- M\n",
    "https://www.boston.gov/departments/innovation-and-technology/jascha-franklin-hodge\n",
    "\n",
    "  Nee,Kelly A  -- F\n",
    "https://www.youtube.com/watch?v=2x7OrSKi_04\n",
    "\n",
    " Driscoll,Mary E      Mary  Asst Superintendent-Network A - F\n",
    " https://www.bc.edu/schools/csom/lynchacademy/alumni/2012/Driscoll.html\n",
    " \n",
    "  Hung,Kelly M     Kelly  Asst Superintendent-Network A  153503.93 -- F\n",
    "  \n",
    "  https://www.bc.edu/schools/csom/lynchacademy/alumni/2014/KHung.html\n",
    "  \n",
    "  Chavda,Kamalkant A\n",
    "  \n",
    "  http://picssr.com/photos/bostonfoundation/interesting/page2?nsid=64189140@N04"
   ]
  },
  {
   "cell_type": "markdown",
   "metadata": {},
   "source": [
    "NEED TO FIX THE WEB LINK ON THE CHARTS PAGE TO GO TO 2016"
   ]
  },
  {
   "cell_type": "markdown",
   "metadata": {},
   "source": [
    "I could look up the mostly and unknowns to confirm their gender -- its just 7 peeps"
   ]
  },
  {
   "cell_type": "code",
   "execution_count": 28,
   "metadata": {},
   "outputs": [
    {
     "data": {
      "text/html": [
       "<div>\n",
       "<table border=\"1\" class=\"dataframe\">\n",
       "  <thead>\n",
       "    <tr style=\"text-align: right;\">\n",
       "      <th></th>\n",
       "      <th>name</th>\n",
       "      <th>firstName</th>\n",
       "      <th>gender</th>\n",
       "      <th>salary</th>\n",
       "      <th>totalSalary</th>\n",
       "      <th>dept</th>\n",
       "    </tr>\n",
       "  </thead>\n",
       "  <tbody>\n",
       "    <tr>\n",
       "      <th>16227</th>\n",
       "      <td>McDonough,John P</td>\n",
       "      <td>John</td>\n",
       "      <td>male</td>\n",
       "      <td>254358.0</td>\n",
       "      <td>259165.0</td>\n",
       "      <td>Superintendent</td>\n",
       "    </tr>\n",
       "    <tr>\n",
       "      <th>18127</th>\n",
       "      <td>Evans,William B</td>\n",
       "      <td>William</td>\n",
       "      <td>male</td>\n",
       "      <td>186204.0</td>\n",
       "      <td>186204.0</td>\n",
       "      <td>Boston Police Department</td>\n",
       "    </tr>\n",
       "    <tr>\n",
       "      <th>21932</th>\n",
       "      <td>Ruggere,Michael J</td>\n",
       "      <td>Michael</td>\n",
       "      <td>male</td>\n",
       "      <td>183196.0</td>\n",
       "      <td>242423.0</td>\n",
       "      <td>Boston Fire Department</td>\n",
       "    </tr>\n",
       "    <tr>\n",
       "      <th>21103</th>\n",
       "      <td>Granara,David Richard</td>\n",
       "      <td>David</td>\n",
       "      <td>male</td>\n",
       "      <td>183087.0</td>\n",
       "      <td>214774.0</td>\n",
       "      <td>Boston Fire Department</td>\n",
       "    </tr>\n",
       "    <tr>\n",
       "      <th>21171</th>\n",
       "      <td>Hasson,John</td>\n",
       "      <td>John</td>\n",
       "      <td>male</td>\n",
       "      <td>182485.0</td>\n",
       "      <td>200466.0</td>\n",
       "      <td>Boston Fire Department</td>\n",
       "    </tr>\n",
       "  </tbody>\n",
       "</table>\n",
       "</div>"
      ],
      "text/plain": [
       "                        name firstName gender    salary  totalSalary  \\\n",
       "16227       McDonough,John P      John   male  254358.0     259165.0   \n",
       "18127        Evans,William B   William   male  186204.0     186204.0   \n",
       "21932      Ruggere,Michael J   Michael   male  183196.0     242423.0   \n",
       "21103  Granara,David Richard     David   male  183087.0     214774.0   \n",
       "21171            Hasson,John      John   male  182485.0     200466.0   \n",
       "\n",
       "                           dept  \n",
       "16227            Superintendent  \n",
       "18127  Boston Police Department  \n",
       "21932    Boston Fire Department  \n",
       "21103    Boston Fire Department  \n",
       "21171    Boston Fire Department  "
      ]
     },
     "execution_count": 28,
     "metadata": {},
     "output_type": "execute_result"
    }
   ],
   "source": [
    "shortForCsv.head()"
   ]
  },
  {
   "cell_type": "markdown",
   "metadata": {},
   "source": [
    "it would be nice to add additioal charts to that page, like for 2016 are the highest paid workers in \n",
    "each dept male or female? not sure how to make a simple graph like that, dot matrix?"
   ]
  },
  {
   "cell_type": "markdown",
   "metadata": {},
   "source": [
    "it seems like tommy chang is top earner but comes up as superintendent, rather than school system. going to take a look at how they label departments in the larger data set.."
   ]
  },
  {
   "cell_type": "code",
   "execution_count": 29,
   "metadata": {},
   "outputs": [
    {
     "name": "stdout",
     "output_type": "stream",
     "text": [
      "male       80\n",
      "female     19\n",
      "unknown     1\n",
      "Name: gender, dtype: int64\n"
     ]
    },
    {
     "data": {
      "text/plain": [
       "female     10309\n",
       "male        9746\n",
       "unknown     2010\n",
       "andy         168\n",
       "Name: gender, dtype: int64"
      ]
     },
     "execution_count": 29,
     "metadata": {},
     "output_type": "execute_result"
    }
   ],
   "source": [
    "print(shortForCsv[\"gender\"].value_counts()) \n",
    "d_2014['gender'].value_counts() \n"
   ]
  },
  {
   "cell_type": "markdown",
   "metadata": {},
   "source": [
    "I'm going to group the schools for the top 100 under Boston Public Schools"
   ]
  },
  {
   "cell_type": "code",
   "execution_count": 30,
   "metadata": {},
   "outputs": [
    {
     "data": {
      "text/html": [
       "<div>\n",
       "<table border=\"1\" class=\"dataframe\">\n",
       "  <thead>\n",
       "    <tr style=\"text-align: right;\">\n",
       "      <th></th>\n",
       "      <th>name</th>\n",
       "      <th>firstName</th>\n",
       "      <th>gender</th>\n",
       "      <th>salary</th>\n",
       "      <th>totalSalary</th>\n",
       "      <th>dept</th>\n",
       "    </tr>\n",
       "  </thead>\n",
       "  <tbody>\n",
       "  </tbody>\n",
       "</table>\n",
       "</div>"
      ],
      "text/plain": [
       "Empty DataFrame\n",
       "Columns: [name, firstName, gender, salary, totalSalary, dept]\n",
       "Index: []"
      ]
     },
     "execution_count": 30,
     "metadata": {},
     "output_type": "execute_result"
    }
   ],
   "source": [
    "#test = shortForCsv[(shortForCsv['dept']== \"Fam & Student Engagemt\")]\n",
    "#test1 = shortForCsv[(shortForCsv['dept']== \"Achievement Gap\")]\n",
    "test2 = shortForCsv[(shortForCsv['dept']== \"Dpt of Innovation & Technology\")]\n",
    "\n",
    "test2\n"
   ]
  },
  {
   "cell_type": "code",
   "execution_count": 31,
   "metadata": {},
   "outputs": [
    {
     "data": {
      "text/plain": [
       "Boston Fire Department      57\n",
       "Boston Public Schools       16\n",
       "Boston Police Department    16\n",
       "Law Department               2\n",
       "Mayor's Office               2\n",
       "Chief Academic Officer       2\n",
       "Assessing Department         1\n",
       "Boston Public Library        1\n",
       "Research Assess & Eval       1\n",
       "Chief Operating Officer      1\n",
       "Property Management          1\n",
       "Name: dept, dtype: int64"
      ]
     },
     "execution_count": 31,
     "metadata": {},
     "output_type": "execute_result"
    }
   ],
   "source": [
    "shortForCsv.loc[shortForCsv['dept'] == \"Asst Superintendent-Network A\", \"dept\"] = \"Boston Public Schools\"\n",
    "shortForCsv.loc[shortForCsv['dept'] == \"BPS Special Education\", \"dept\"] = \"Boston Public Schools\"\n",
    "shortForCsv.loc[shortForCsv['dept'] == \"Fam & Student Engagemt\", \"dept\"] = \"Boston Public Schools\"\n",
    "shortForCsv.loc[shortForCsv['dept'] == \"Achievement Gap\", \"dept\"] = \"Boston Public Schools\"\n",
    "shortForCsv.loc[shortForCsv['dept'] == \"Kennedy, EM Health Academy\", \"dept\"] = \"Boston Public Schools\"\n",
    "shortForCsv.loc[shortForCsv['dept'] == \"BPS Human Resource Team\", \"dept\"] = \"Boston Public Schools\"\n",
    "shortForCsv.loc[shortForCsv['dept'] == \"Superintendent\", \"dept\"] = \"Boston Public Schools\"\n",
    "shortForCsv.loc[shortForCsv['dept'] == \"Asst Superintendent-Network G\", \"dept\"] = \"Boston Public Schools\"\n",
    "shortForCsv.loc[shortForCsv['dept'] == \"Asst Superintendent-Network B\", \"dept\"] = \"Boston Public Schools\"\n",
    "shortForCsv.loc[shortForCsv['dept'] == \"BPS Boston Latin\", \"dept\"] = \"Boston Public Schools\"\n",
    "shortForCsv.loc[shortForCsv['dept'] == \"Asst Superintendent-Network E\", \"dept\"] = \"Boston Public Schools\"\n",
    "shortForCsv.loc[shortForCsv['dept'] == \"Asst Superintendent-Network F\", \"dept\"] = \"Boston Public Schools\"\n",
    "shortForCsv.loc[shortForCsv['dept'] == \"Asst Superintendent-Network D\", \"dept\"] = \"Boston Public Schools\"\n",
    "shortForCsv.loc[shortForCsv['dept'] == \"BPS Equity\", \"dept\"] = \"Boston Public Schools\"\n",
    "shortForCsv.loc[shortForCsv['dept'] == \"BPS English High\", \"dept\"] = \"Boston Public Schools\"\n",
    "shortForCsv.loc[shortForCsv['dept'] == \"BPS Murphy Elementary\", \"dept\"] = \"Boston Public Schools\"\n",
    "shortForCsv.loc[shortForCsv['dept'] == \"BPS Brighton High\", \"dept\"] = \"Boston Public Schools\"\n",
    "\n",
    "\n",
    "\n",
    "\n",
    "#put school chief chang in new school dept group not needed\n",
    "#shortForCsv.loc[shortForCsv['name'] == \"Chang,Tommy\", \"dept\"] = \"Boston Public Schools\"\n",
    "shortForCsv.loc[shortForCsv['name'] == \"Chavda,Kamalkant A\", \"gender\"] = \"male\"\n",
    "\n",
    "\n",
    "\n",
    "\n",
    "shortForCsv[\"dept\"].value_counts()"
   ]
  },
  {
   "cell_type": "code",
   "execution_count": 32,
   "metadata": {},
   "outputs": [
    {
     "data": {
      "text/plain": [
       "male      81\n",
       "female    19\n",
       "Name: gender, dtype: int64"
      ]
     },
     "execution_count": 32,
     "metadata": {},
     "output_type": "execute_result"
    }
   ],
   "source": [
    "shortForCsv['gender'].value_counts()"
   ]
  },
  {
   "cell_type": "code",
   "execution_count": 33,
   "metadata": {},
   "outputs": [
    {
     "ename": "KeyError",
     "evalue": "'dept'",
     "output_type": "error",
     "traceback": [
      "\u001b[0;31m---------------------------------------------------------------------------\u001b[0m",
      "\u001b[0;31mKeyError\u001b[0m                                  Traceback (most recent call last)",
      "\u001b[0;32m~/anaconda3/lib/python3.6/site-packages/pandas/indexes/base.py\u001b[0m in \u001b[0;36mget_loc\u001b[0;34m(self, key, method, tolerance)\u001b[0m\n\u001b[1;32m   2133\u001b[0m             \u001b[0;32mtry\u001b[0m\u001b[0;34m:\u001b[0m\u001b[0;34m\u001b[0m\u001b[0m\n\u001b[0;32m-> 2134\u001b[0;31m                 \u001b[0;32mreturn\u001b[0m \u001b[0mself\u001b[0m\u001b[0;34m.\u001b[0m\u001b[0m_engine\u001b[0m\u001b[0;34m.\u001b[0m\u001b[0mget_loc\u001b[0m\u001b[0;34m(\u001b[0m\u001b[0mkey\u001b[0m\u001b[0;34m)\u001b[0m\u001b[0;34m\u001b[0m\u001b[0m\n\u001b[0m\u001b[1;32m   2135\u001b[0m             \u001b[0;32mexcept\u001b[0m \u001b[0mKeyError\u001b[0m\u001b[0;34m:\u001b[0m\u001b[0;34m\u001b[0m\u001b[0m\n",
      "\u001b[0;32mpandas/index.pyx\u001b[0m in \u001b[0;36mpandas.index.IndexEngine.get_loc (pandas/index.c:4433)\u001b[0;34m()\u001b[0m\n",
      "\u001b[0;32mpandas/index.pyx\u001b[0m in \u001b[0;36mpandas.index.IndexEngine.get_loc (pandas/index.c:4279)\u001b[0;34m()\u001b[0m\n",
      "\u001b[0;32mpandas/src/hashtable_class_helper.pxi\u001b[0m in \u001b[0;36mpandas.hashtable.PyObjectHashTable.get_item (pandas/hashtable.c:13742)\u001b[0;34m()\u001b[0m\n",
      "\u001b[0;32mpandas/src/hashtable_class_helper.pxi\u001b[0m in \u001b[0;36mpandas.hashtable.PyObjectHashTable.get_item (pandas/hashtable.c:13696)\u001b[0;34m()\u001b[0m\n",
      "\u001b[0;31mKeyError\u001b[0m: 'dept'",
      "\nDuring handling of the above exception, another exception occurred:\n",
      "\u001b[0;31mKeyError\u001b[0m                                  Traceback (most recent call last)",
      "\u001b[0;32m<ipython-input-33-ed99a099db2c>\u001b[0m in \u001b[0;36m<module>\u001b[0;34m()\u001b[0m\n\u001b[0;32m----> 1\u001b[0;31m \u001b[0mb\u001b[0m \u001b[0;34m=\u001b[0m \u001b[0md_2014\u001b[0m\u001b[0;34m[\u001b[0m\u001b[0;34m(\u001b[0m\u001b[0md_2014\u001b[0m\u001b[0;34m[\u001b[0m\u001b[0;34m'dept'\u001b[0m\u001b[0;34m]\u001b[0m\u001b[0;34m==\u001b[0m \u001b[0;34m\"Superintendent\"\u001b[0m\u001b[0;34m)\u001b[0m\u001b[0;34m]\u001b[0m\u001b[0;34m\u001b[0m\u001b[0m\n\u001b[0m\u001b[1;32m      2\u001b[0m \u001b[0mb\u001b[0m\u001b[0;34m\u001b[0m\u001b[0m\n\u001b[1;32m      3\u001b[0m \u001b[0;31m#could check to see if all these people are in BPS to change the category overall..\u001b[0m\u001b[0;34m\u001b[0m\u001b[0;34m\u001b[0m\u001b[0m\n",
      "\u001b[0;32m~/anaconda3/lib/python3.6/site-packages/pandas/core/frame.py\u001b[0m in \u001b[0;36m__getitem__\u001b[0;34m(self, key)\u001b[0m\n\u001b[1;32m   2057\u001b[0m             \u001b[0;32mreturn\u001b[0m \u001b[0mself\u001b[0m\u001b[0;34m.\u001b[0m\u001b[0m_getitem_multilevel\u001b[0m\u001b[0;34m(\u001b[0m\u001b[0mkey\u001b[0m\u001b[0;34m)\u001b[0m\u001b[0;34m\u001b[0m\u001b[0m\n\u001b[1;32m   2058\u001b[0m         \u001b[0;32melse\u001b[0m\u001b[0;34m:\u001b[0m\u001b[0;34m\u001b[0m\u001b[0m\n\u001b[0;32m-> 2059\u001b[0;31m             \u001b[0;32mreturn\u001b[0m \u001b[0mself\u001b[0m\u001b[0;34m.\u001b[0m\u001b[0m_getitem_column\u001b[0m\u001b[0;34m(\u001b[0m\u001b[0mkey\u001b[0m\u001b[0;34m)\u001b[0m\u001b[0;34m\u001b[0m\u001b[0m\n\u001b[0m\u001b[1;32m   2060\u001b[0m \u001b[0;34m\u001b[0m\u001b[0m\n\u001b[1;32m   2061\u001b[0m     \u001b[0;32mdef\u001b[0m \u001b[0m_getitem_column\u001b[0m\u001b[0;34m(\u001b[0m\u001b[0mself\u001b[0m\u001b[0;34m,\u001b[0m \u001b[0mkey\u001b[0m\u001b[0;34m)\u001b[0m\u001b[0;34m:\u001b[0m\u001b[0;34m\u001b[0m\u001b[0m\n",
      "\u001b[0;32m~/anaconda3/lib/python3.6/site-packages/pandas/core/frame.py\u001b[0m in \u001b[0;36m_getitem_column\u001b[0;34m(self, key)\u001b[0m\n\u001b[1;32m   2064\u001b[0m         \u001b[0;31m# get column\u001b[0m\u001b[0;34m\u001b[0m\u001b[0;34m\u001b[0m\u001b[0m\n\u001b[1;32m   2065\u001b[0m         \u001b[0;32mif\u001b[0m \u001b[0mself\u001b[0m\u001b[0;34m.\u001b[0m\u001b[0mcolumns\u001b[0m\u001b[0;34m.\u001b[0m\u001b[0mis_unique\u001b[0m\u001b[0;34m:\u001b[0m\u001b[0;34m\u001b[0m\u001b[0m\n\u001b[0;32m-> 2066\u001b[0;31m             \u001b[0;32mreturn\u001b[0m \u001b[0mself\u001b[0m\u001b[0;34m.\u001b[0m\u001b[0m_get_item_cache\u001b[0m\u001b[0;34m(\u001b[0m\u001b[0mkey\u001b[0m\u001b[0;34m)\u001b[0m\u001b[0;34m\u001b[0m\u001b[0m\n\u001b[0m\u001b[1;32m   2067\u001b[0m \u001b[0;34m\u001b[0m\u001b[0m\n\u001b[1;32m   2068\u001b[0m         \u001b[0;31m# duplicate columns & possible reduce dimensionality\u001b[0m\u001b[0;34m\u001b[0m\u001b[0;34m\u001b[0m\u001b[0m\n",
      "\u001b[0;32m~/anaconda3/lib/python3.6/site-packages/pandas/core/generic.py\u001b[0m in \u001b[0;36m_get_item_cache\u001b[0;34m(self, item)\u001b[0m\n\u001b[1;32m   1384\u001b[0m         \u001b[0mres\u001b[0m \u001b[0;34m=\u001b[0m \u001b[0mcache\u001b[0m\u001b[0;34m.\u001b[0m\u001b[0mget\u001b[0m\u001b[0;34m(\u001b[0m\u001b[0mitem\u001b[0m\u001b[0;34m)\u001b[0m\u001b[0;34m\u001b[0m\u001b[0m\n\u001b[1;32m   1385\u001b[0m         \u001b[0;32mif\u001b[0m \u001b[0mres\u001b[0m \u001b[0;32mis\u001b[0m \u001b[0;32mNone\u001b[0m\u001b[0;34m:\u001b[0m\u001b[0;34m\u001b[0m\u001b[0m\n\u001b[0;32m-> 1386\u001b[0;31m             \u001b[0mvalues\u001b[0m \u001b[0;34m=\u001b[0m \u001b[0mself\u001b[0m\u001b[0;34m.\u001b[0m\u001b[0m_data\u001b[0m\u001b[0;34m.\u001b[0m\u001b[0mget\u001b[0m\u001b[0;34m(\u001b[0m\u001b[0mitem\u001b[0m\u001b[0;34m)\u001b[0m\u001b[0;34m\u001b[0m\u001b[0m\n\u001b[0m\u001b[1;32m   1387\u001b[0m             \u001b[0mres\u001b[0m \u001b[0;34m=\u001b[0m \u001b[0mself\u001b[0m\u001b[0;34m.\u001b[0m\u001b[0m_box_item_values\u001b[0m\u001b[0;34m(\u001b[0m\u001b[0mitem\u001b[0m\u001b[0;34m,\u001b[0m \u001b[0mvalues\u001b[0m\u001b[0;34m)\u001b[0m\u001b[0;34m\u001b[0m\u001b[0m\n\u001b[1;32m   1388\u001b[0m             \u001b[0mcache\u001b[0m\u001b[0;34m[\u001b[0m\u001b[0mitem\u001b[0m\u001b[0;34m]\u001b[0m \u001b[0;34m=\u001b[0m \u001b[0mres\u001b[0m\u001b[0;34m\u001b[0m\u001b[0m\n",
      "\u001b[0;32m~/anaconda3/lib/python3.6/site-packages/pandas/core/internals.py\u001b[0m in \u001b[0;36mget\u001b[0;34m(self, item, fastpath)\u001b[0m\n\u001b[1;32m   3541\u001b[0m \u001b[0;34m\u001b[0m\u001b[0m\n\u001b[1;32m   3542\u001b[0m             \u001b[0;32mif\u001b[0m \u001b[0;32mnot\u001b[0m \u001b[0misnull\u001b[0m\u001b[0;34m(\u001b[0m\u001b[0mitem\u001b[0m\u001b[0;34m)\u001b[0m\u001b[0;34m:\u001b[0m\u001b[0;34m\u001b[0m\u001b[0m\n\u001b[0;32m-> 3543\u001b[0;31m                 \u001b[0mloc\u001b[0m \u001b[0;34m=\u001b[0m \u001b[0mself\u001b[0m\u001b[0;34m.\u001b[0m\u001b[0mitems\u001b[0m\u001b[0;34m.\u001b[0m\u001b[0mget_loc\u001b[0m\u001b[0;34m(\u001b[0m\u001b[0mitem\u001b[0m\u001b[0;34m)\u001b[0m\u001b[0;34m\u001b[0m\u001b[0m\n\u001b[0m\u001b[1;32m   3544\u001b[0m             \u001b[0;32melse\u001b[0m\u001b[0;34m:\u001b[0m\u001b[0;34m\u001b[0m\u001b[0m\n\u001b[1;32m   3545\u001b[0m                 \u001b[0mindexer\u001b[0m \u001b[0;34m=\u001b[0m \u001b[0mnp\u001b[0m\u001b[0;34m.\u001b[0m\u001b[0marange\u001b[0m\u001b[0;34m(\u001b[0m\u001b[0mlen\u001b[0m\u001b[0;34m(\u001b[0m\u001b[0mself\u001b[0m\u001b[0;34m.\u001b[0m\u001b[0mitems\u001b[0m\u001b[0;34m)\u001b[0m\u001b[0;34m)\u001b[0m\u001b[0;34m[\u001b[0m\u001b[0misnull\u001b[0m\u001b[0;34m(\u001b[0m\u001b[0mself\u001b[0m\u001b[0;34m.\u001b[0m\u001b[0mitems\u001b[0m\u001b[0;34m)\u001b[0m\u001b[0;34m]\u001b[0m\u001b[0;34m\u001b[0m\u001b[0m\n",
      "\u001b[0;32m~/anaconda3/lib/python3.6/site-packages/pandas/indexes/base.py\u001b[0m in \u001b[0;36mget_loc\u001b[0;34m(self, key, method, tolerance)\u001b[0m\n\u001b[1;32m   2134\u001b[0m                 \u001b[0;32mreturn\u001b[0m \u001b[0mself\u001b[0m\u001b[0;34m.\u001b[0m\u001b[0m_engine\u001b[0m\u001b[0;34m.\u001b[0m\u001b[0mget_loc\u001b[0m\u001b[0;34m(\u001b[0m\u001b[0mkey\u001b[0m\u001b[0;34m)\u001b[0m\u001b[0;34m\u001b[0m\u001b[0m\n\u001b[1;32m   2135\u001b[0m             \u001b[0;32mexcept\u001b[0m \u001b[0mKeyError\u001b[0m\u001b[0;34m:\u001b[0m\u001b[0;34m\u001b[0m\u001b[0m\n\u001b[0;32m-> 2136\u001b[0;31m                 \u001b[0;32mreturn\u001b[0m \u001b[0mself\u001b[0m\u001b[0;34m.\u001b[0m\u001b[0m_engine\u001b[0m\u001b[0;34m.\u001b[0m\u001b[0mget_loc\u001b[0m\u001b[0;34m(\u001b[0m\u001b[0mself\u001b[0m\u001b[0;34m.\u001b[0m\u001b[0m_maybe_cast_indexer\u001b[0m\u001b[0;34m(\u001b[0m\u001b[0mkey\u001b[0m\u001b[0;34m)\u001b[0m\u001b[0;34m)\u001b[0m\u001b[0;34m\u001b[0m\u001b[0m\n\u001b[0m\u001b[1;32m   2137\u001b[0m \u001b[0;34m\u001b[0m\u001b[0m\n\u001b[1;32m   2138\u001b[0m         \u001b[0mindexer\u001b[0m \u001b[0;34m=\u001b[0m \u001b[0mself\u001b[0m\u001b[0;34m.\u001b[0m\u001b[0mget_indexer\u001b[0m\u001b[0;34m(\u001b[0m\u001b[0;34m[\u001b[0m\u001b[0mkey\u001b[0m\u001b[0;34m]\u001b[0m\u001b[0;34m,\u001b[0m \u001b[0mmethod\u001b[0m\u001b[0;34m=\u001b[0m\u001b[0mmethod\u001b[0m\u001b[0;34m,\u001b[0m \u001b[0mtolerance\u001b[0m\u001b[0;34m=\u001b[0m\u001b[0mtolerance\u001b[0m\u001b[0;34m)\u001b[0m\u001b[0;34m\u001b[0m\u001b[0m\n",
      "\u001b[0;32mpandas/index.pyx\u001b[0m in \u001b[0;36mpandas.index.IndexEngine.get_loc (pandas/index.c:4433)\u001b[0;34m()\u001b[0m\n",
      "\u001b[0;32mpandas/index.pyx\u001b[0m in \u001b[0;36mpandas.index.IndexEngine.get_loc (pandas/index.c:4279)\u001b[0;34m()\u001b[0m\n",
      "\u001b[0;32mpandas/src/hashtable_class_helper.pxi\u001b[0m in \u001b[0;36mpandas.hashtable.PyObjectHashTable.get_item (pandas/hashtable.c:13742)\u001b[0;34m()\u001b[0m\n",
      "\u001b[0;32mpandas/src/hashtable_class_helper.pxi\u001b[0m in \u001b[0;36mpandas.hashtable.PyObjectHashTable.get_item (pandas/hashtable.c:13696)\u001b[0;34m()\u001b[0m\n",
      "\u001b[0;31mKeyError\u001b[0m: 'dept'"
     ]
    }
   ],
   "source": [
    "b = d_2014[(d_2014['dept']== \"Superintendent\")]\n",
    "b\n",
    "#could check to see if all these people are in BPS to change the category overall.."
   ]
  },
  {
   "cell_type": "code",
   "execution_count": null,
   "metadata": {},
   "outputs": [],
   "source": [
    "#Generate histograms using the format df.YOUR_CHOICE_OF_COLUMN_NAME.hist(bins=YOUR_CHOICE_OF_BIN_SIZE)\n",
    "\n",
    "shortForCsv.salary.hist(bins=20)\n",
    "plt.xlabel('salaries')\n",
    "plt.ylabel('Frequency')\n",
    "plt.title('salaries');\n",
    "\n",
    "plt.show();\n",
    "\n"
   ]
  },
  {
   "cell_type": "code",
   "execution_count": null,
   "metadata": {},
   "outputs": [],
   "source": [
    "\n",
    "shortForCsv[shortForCsv.gender == \"female\"].salary.hist(bins=5)\n",
    "plt.xlabel('salaries')\n",
    "plt.ylabel('Frequency')\n",
    "plt.title('salaries');\n",
    "\n",
    "plt.show();\n",
    "\n",
    "\n"
   ]
  },
  {
   "cell_type": "code",
   "execution_count": null,
   "metadata": {},
   "outputs": [],
   "source": [
    "shortForCsv[shortForCsv.gender == \"male\"].salary.hist(bins=5)\n",
    "plt.xlabel('salaries')\n",
    "plt.ylabel('Frequency')\n",
    "plt.title('salaries');\n",
    "\n",
    "plt.show();\n",
    "\n",
    "\n",
    "\n"
   ]
  },
  {
   "cell_type": "code",
   "execution_count": null,
   "metadata": {},
   "outputs": [],
   "source": [
    "#d_2015\n",
    "d_2014[d_2014.gender == \"male\"].salary.hist(bins=15)\n",
    "plt.xlabel('salaries')\n",
    "plt.ylabel('Frequency')\n",
    "plt.title('salaries');\n",
    "\n",
    "plt.show();\n",
    "\n",
    "\n",
    "\n"
   ]
  },
  {
   "cell_type": "code",
   "execution_count": null,
   "metadata": {},
   "outputs": [],
   "source": [
    "#d_2015\n",
    "d_2014[d_2014.gender == \"female\"].salary.hist(bins=15)\n",
    "plt.xlabel('salaries')\n",
    "plt.ylabel('Frequency')\n",
    "plt.title('salaries');\n",
    "\n",
    "plt.show();\n",
    "\n",
    "\n",
    "\n"
   ]
  },
  {
   "cell_type": "code",
   "execution_count": null,
   "metadata": {
    "collapsed": true
   },
   "outputs": [],
   "source": [
    "shortForCsv.to_csv(\"top100_2014\", index=False)"
   ]
  },
  {
   "cell_type": "code",
   "execution_count": 34,
   "metadata": {},
   "outputs": [
    {
     "data": {
      "text/html": [
       "<div>\n",
       "<table border=\"1\" class=\"dataframe\">\n",
       "  <thead>\n",
       "    <tr style=\"text-align: right;\">\n",
       "      <th></th>\n",
       "      <th>name</th>\n",
       "      <th>firstName</th>\n",
       "      <th>gender</th>\n",
       "      <th>salary</th>\n",
       "      <th>totalSalary</th>\n",
       "      <th>dept</th>\n",
       "    </tr>\n",
       "  </thead>\n",
       "  <tbody>\n",
       "    <tr>\n",
       "      <th>16227</th>\n",
       "      <td>McDonough,John P</td>\n",
       "      <td>John</td>\n",
       "      <td>male</td>\n",
       "      <td>254358.0</td>\n",
       "      <td>259165.0</td>\n",
       "      <td>Boston Public Schools</td>\n",
       "    </tr>\n",
       "    <tr>\n",
       "      <th>18127</th>\n",
       "      <td>Evans,William B</td>\n",
       "      <td>William</td>\n",
       "      <td>male</td>\n",
       "      <td>186204.0</td>\n",
       "      <td>186204.0</td>\n",
       "      <td>Boston Police Department</td>\n",
       "    </tr>\n",
       "    <tr>\n",
       "      <th>21932</th>\n",
       "      <td>Ruggere,Michael J</td>\n",
       "      <td>Michael</td>\n",
       "      <td>male</td>\n",
       "      <td>183196.0</td>\n",
       "      <td>242423.0</td>\n",
       "      <td>Boston Fire Department</td>\n",
       "    </tr>\n",
       "    <tr>\n",
       "      <th>21103</th>\n",
       "      <td>Granara,David Richard</td>\n",
       "      <td>David</td>\n",
       "      <td>male</td>\n",
       "      <td>183087.0</td>\n",
       "      <td>214774.0</td>\n",
       "      <td>Boston Fire Department</td>\n",
       "    </tr>\n",
       "    <tr>\n",
       "      <th>21171</th>\n",
       "      <td>Hasson,John</td>\n",
       "      <td>John</td>\n",
       "      <td>male</td>\n",
       "      <td>182485.0</td>\n",
       "      <td>200466.0</td>\n",
       "      <td>Boston Fire Department</td>\n",
       "    </tr>\n",
       "  </tbody>\n",
       "</table>\n",
       "</div>"
      ],
      "text/plain": [
       "                        name firstName gender    salary  totalSalary  \\\n",
       "16227       McDonough,John P      John   male  254358.0     259165.0   \n",
       "18127        Evans,William B   William   male  186204.0     186204.0   \n",
       "21932      Ruggere,Michael J   Michael   male  183196.0     242423.0   \n",
       "21103  Granara,David Richard     David   male  183087.0     214774.0   \n",
       "21171            Hasson,John      John   male  182485.0     200466.0   \n",
       "\n",
       "                           dept  \n",
       "16227     Boston Public Schools  \n",
       "18127  Boston Police Department  \n",
       "21932    Boston Fire Department  \n",
       "21103    Boston Fire Department  \n",
       "21171    Boston Fire Department  "
      ]
     },
     "execution_count": 34,
     "metadata": {},
     "output_type": "execute_result"
    }
   ],
   "source": [
    "shortForCsv.head()"
   ]
  },
  {
   "cell_type": "code",
   "execution_count": 35,
   "metadata": {},
   "outputs": [
    {
     "ename": "TypeError",
     "evalue": "Could not convert malemalemalemalemalefemalemalemalefemalemalemalefemalemalemalemalemalemalemalemalefemalemalemalemalemalemalemalemalefemalemalemalemalemalemalemalemalemalemalemalemalemalemalemalemalemalemalemalemalefemalemalemalemalemalemalemalemalemalemalemalemalemalemalemalemalemalefemalemalefemalemalefemalemalemalemalemalemalefemalemalemalefemalefemalemalemalemalefemalemalemalefemalemalemalemalemalefemalefemalemalemalemalefemalefemalemalefemalemale to numeric",
     "output_type": "error",
     "traceback": [
      "\u001b[0;31m---------------------------------------------------------------------------\u001b[0m",
      "\u001b[0;31mValueError\u001b[0m                                Traceback (most recent call last)",
      "\u001b[0;32m~/anaconda3/lib/python3.6/site-packages/pandas/core/nanops.py\u001b[0m in \u001b[0;36m_ensure_numeric\u001b[0;34m(x)\u001b[0m\n\u001b[1;32m    751\u001b[0m         \u001b[0;32mtry\u001b[0m\u001b[0;34m:\u001b[0m\u001b[0;34m\u001b[0m\u001b[0m\n\u001b[0;32m--> 752\u001b[0;31m             \u001b[0mx\u001b[0m \u001b[0;34m=\u001b[0m \u001b[0mfloat\u001b[0m\u001b[0;34m(\u001b[0m\u001b[0mx\u001b[0m\u001b[0;34m)\u001b[0m\u001b[0;34m\u001b[0m\u001b[0m\n\u001b[0m\u001b[1;32m    753\u001b[0m         \u001b[0;32mexcept\u001b[0m \u001b[0mException\u001b[0m\u001b[0;34m:\u001b[0m\u001b[0;34m\u001b[0m\u001b[0m\n",
      "\u001b[0;31mValueError\u001b[0m: could not convert string to float: 'malemalemalemalemalefemalemalemalefemalemalemalefemalemalemalemalemalemalemalemalefemalemalemalemalemalemalemalemalefemalemalemalemalemalemalemalemalemalemalemalemalemalemalemalemalemalemalemalemalefemalemalemalemalemalemalemalemalemalemalemalemalemalemalemalemalemalefemalemalefemalemalefemalemalemalemalemalemalefemalemalemalefemalefemalemalemalemalefemalemalemalefemalemalemalemalemalefemalefemalemalemalemalefemalefemalemalefemalemale'",
      "\nDuring handling of the above exception, another exception occurred:\n",
      "\u001b[0;31mValueError\u001b[0m                                Traceback (most recent call last)",
      "\u001b[0;32m~/anaconda3/lib/python3.6/site-packages/pandas/core/nanops.py\u001b[0m in \u001b[0;36m_ensure_numeric\u001b[0;34m(x)\u001b[0m\n\u001b[1;32m    754\u001b[0m             \u001b[0;32mtry\u001b[0m\u001b[0;34m:\u001b[0m\u001b[0;34m\u001b[0m\u001b[0m\n\u001b[0;32m--> 755\u001b[0;31m                 \u001b[0mx\u001b[0m \u001b[0;34m=\u001b[0m \u001b[0mcomplex\u001b[0m\u001b[0;34m(\u001b[0m\u001b[0mx\u001b[0m\u001b[0;34m)\u001b[0m\u001b[0;34m\u001b[0m\u001b[0m\n\u001b[0m\u001b[1;32m    756\u001b[0m             \u001b[0;32mexcept\u001b[0m \u001b[0mException\u001b[0m\u001b[0;34m:\u001b[0m\u001b[0;34m\u001b[0m\u001b[0m\n",
      "\u001b[0;31mValueError\u001b[0m: complex() arg is a malformed string",
      "\nDuring handling of the above exception, another exception occurred:\n",
      "\u001b[0;31mTypeError\u001b[0m                                 Traceback (most recent call last)",
      "\u001b[0;32m~/anaconda3/lib/python3.6/site-packages/pandas/core/nanops.py\u001b[0m in \u001b[0;36mf\u001b[0;34m(values, axis, skipna, **kwds)\u001b[0m\n\u001b[1;32m    105\u001b[0m                 \u001b[0;32melse\u001b[0m\u001b[0;34m:\u001b[0m\u001b[0;34m\u001b[0m\u001b[0m\n\u001b[0;32m--> 106\u001b[0;31m                     \u001b[0mresult\u001b[0m \u001b[0;34m=\u001b[0m \u001b[0malt\u001b[0m\u001b[0;34m(\u001b[0m\u001b[0mvalues\u001b[0m\u001b[0;34m,\u001b[0m \u001b[0maxis\u001b[0m\u001b[0;34m=\u001b[0m\u001b[0maxis\u001b[0m\u001b[0;34m,\u001b[0m \u001b[0mskipna\u001b[0m\u001b[0;34m=\u001b[0m\u001b[0mskipna\u001b[0m\u001b[0;34m,\u001b[0m \u001b[0;34m**\u001b[0m\u001b[0mkwds\u001b[0m\u001b[0;34m)\u001b[0m\u001b[0;34m\u001b[0m\u001b[0m\n\u001b[0m\u001b[1;32m    107\u001b[0m             \u001b[0;32mexcept\u001b[0m \u001b[0mException\u001b[0m\u001b[0;34m:\u001b[0m\u001b[0;34m\u001b[0m\u001b[0m\n",
      "\u001b[0;32m~/anaconda3/lib/python3.6/site-packages/pandas/core/nanops.py\u001b[0m in \u001b[0;36mnanmean\u001b[0;34m(values, axis, skipna)\u001b[0m\n\u001b[1;32m    298\u001b[0m     \u001b[0mcount\u001b[0m \u001b[0;34m=\u001b[0m \u001b[0m_get_counts\u001b[0m\u001b[0;34m(\u001b[0m\u001b[0mmask\u001b[0m\u001b[0;34m,\u001b[0m \u001b[0maxis\u001b[0m\u001b[0;34m,\u001b[0m \u001b[0mdtype\u001b[0m\u001b[0;34m=\u001b[0m\u001b[0mdtype_count\u001b[0m\u001b[0;34m)\u001b[0m\u001b[0;34m\u001b[0m\u001b[0m\n\u001b[0;32m--> 299\u001b[0;31m     \u001b[0mthe_sum\u001b[0m \u001b[0;34m=\u001b[0m \u001b[0m_ensure_numeric\u001b[0m\u001b[0;34m(\u001b[0m\u001b[0mvalues\u001b[0m\u001b[0;34m.\u001b[0m\u001b[0msum\u001b[0m\u001b[0;34m(\u001b[0m\u001b[0maxis\u001b[0m\u001b[0;34m,\u001b[0m \u001b[0mdtype\u001b[0m\u001b[0;34m=\u001b[0m\u001b[0mdtype_sum\u001b[0m\u001b[0;34m)\u001b[0m\u001b[0;34m)\u001b[0m\u001b[0;34m\u001b[0m\u001b[0m\n\u001b[0m\u001b[1;32m    300\u001b[0m \u001b[0;34m\u001b[0m\u001b[0m\n",
      "\u001b[0;32m~/anaconda3/lib/python3.6/site-packages/pandas/core/nanops.py\u001b[0m in \u001b[0;36m_ensure_numeric\u001b[0;34m(x)\u001b[0m\n\u001b[1;32m    756\u001b[0m             \u001b[0;32mexcept\u001b[0m \u001b[0mException\u001b[0m\u001b[0;34m:\u001b[0m\u001b[0;34m\u001b[0m\u001b[0m\n\u001b[0;32m--> 757\u001b[0;31m                 \u001b[0;32mraise\u001b[0m \u001b[0mTypeError\u001b[0m\u001b[0;34m(\u001b[0m\u001b[0;34m'Could not convert %s to numeric'\u001b[0m \u001b[0;34m%\u001b[0m \u001b[0mstr\u001b[0m\u001b[0;34m(\u001b[0m\u001b[0mx\u001b[0m\u001b[0;34m)\u001b[0m\u001b[0;34m)\u001b[0m\u001b[0;34m\u001b[0m\u001b[0m\n\u001b[0m\u001b[1;32m    758\u001b[0m     \u001b[0;32mreturn\u001b[0m \u001b[0mx\u001b[0m\u001b[0;34m\u001b[0m\u001b[0m\n",
      "\u001b[0;31mTypeError\u001b[0m: Could not convert malemalemalemalemalefemalemalemalefemalemalemalefemalemalemalemalemalemalemalemalefemalemalemalemalemalemalemalemalefemalemalemalemalemalemalemalemalemalemalemalemalemalemalemalemalemalemalemalemalefemalemalemalemalemalemalemalemalemalemalemalemalemalemalemalemalemalefemalemalefemalemalefemalemalemalemalemalemalefemalemalemalefemalefemalemalemalemalefemalemalemalefemalemalemalemalemalefemalefemalemalemalemalefemalefemalemalefemalemale to numeric",
      "\nDuring handling of the above exception, another exception occurred:\n",
      "\u001b[0;31mValueError\u001b[0m                                Traceback (most recent call last)",
      "\u001b[0;32m~/anaconda3/lib/python3.6/site-packages/pandas/core/nanops.py\u001b[0m in \u001b[0;36m_ensure_numeric\u001b[0;34m(x)\u001b[0m\n\u001b[1;32m    751\u001b[0m         \u001b[0;32mtry\u001b[0m\u001b[0;34m:\u001b[0m\u001b[0;34m\u001b[0m\u001b[0m\n\u001b[0;32m--> 752\u001b[0;31m             \u001b[0mx\u001b[0m \u001b[0;34m=\u001b[0m \u001b[0mfloat\u001b[0m\u001b[0;34m(\u001b[0m\u001b[0mx\u001b[0m\u001b[0;34m)\u001b[0m\u001b[0;34m\u001b[0m\u001b[0m\n\u001b[0m\u001b[1;32m    753\u001b[0m         \u001b[0;32mexcept\u001b[0m \u001b[0mException\u001b[0m\u001b[0;34m:\u001b[0m\u001b[0;34m\u001b[0m\u001b[0m\n",
      "\u001b[0;31mValueError\u001b[0m: could not convert string to float: 'malemalemalemalemalefemalemalemalefemalemalemalefemalemalemalemalemalemalemalemalefemalemalemalemalemalemalemalemalefemalemalemalemalemalemalemalemalemalemalemalemalemalemalemalemalemalemalemalemalefemalemalemalemalemalemalemalemalemalemalemalemalemalemalemalemalemalefemalemalefemalemalefemalemalemalemalemalemalefemalemalemalefemalefemalemalemalemalefemalemalemalefemalemalemalemalemalefemalefemalemalemalemalefemalefemalemalefemalemale'",
      "\nDuring handling of the above exception, another exception occurred:\n",
      "\u001b[0;31mValueError\u001b[0m                                Traceback (most recent call last)",
      "\u001b[0;32m~/anaconda3/lib/python3.6/site-packages/pandas/core/nanops.py\u001b[0m in \u001b[0;36m_ensure_numeric\u001b[0;34m(x)\u001b[0m\n\u001b[1;32m    754\u001b[0m             \u001b[0;32mtry\u001b[0m\u001b[0;34m:\u001b[0m\u001b[0;34m\u001b[0m\u001b[0m\n\u001b[0;32m--> 755\u001b[0;31m                 \u001b[0mx\u001b[0m \u001b[0;34m=\u001b[0m \u001b[0mcomplex\u001b[0m\u001b[0;34m(\u001b[0m\u001b[0mx\u001b[0m\u001b[0;34m)\u001b[0m\u001b[0;34m\u001b[0m\u001b[0m\n\u001b[0m\u001b[1;32m    756\u001b[0m             \u001b[0;32mexcept\u001b[0m \u001b[0mException\u001b[0m\u001b[0;34m:\u001b[0m\u001b[0;34m\u001b[0m\u001b[0m\n",
      "\u001b[0;31mValueError\u001b[0m: complex() arg is a malformed string",
      "\nDuring handling of the above exception, another exception occurred:\n",
      "\u001b[0;31mTypeError\u001b[0m                                 Traceback (most recent call last)",
      "\u001b[0;32m<ipython-input-35-db8e8d6efaaf>\u001b[0m in \u001b[0;36m<module>\u001b[0;34m()\u001b[0m\n\u001b[1;32m      2\u001b[0m \u001b[0;31m#x = shortForCsv[\"dept\"]\u001b[0m\u001b[0;34m\u001b[0m\u001b[0;34m\u001b[0m\u001b[0m\n\u001b[1;32m      3\u001b[0m \u001b[0;31m#y = shortForCsv[\"gender\"]\u001b[0m\u001b[0;34m\u001b[0m\u001b[0;34m\u001b[0m\u001b[0m\n\u001b[0;32m----> 4\u001b[0;31m \u001b[0msns\u001b[0m\u001b[0;34m.\u001b[0m\u001b[0mlmplot\u001b[0m\u001b[0;34m(\u001b[0m\u001b[0;34m\"dept\"\u001b[0m\u001b[0;34m,\u001b[0m \u001b[0;34m\"gender\"\u001b[0m\u001b[0;34m,\u001b[0m \u001b[0mdata\u001b[0m\u001b[0;34m=\u001b[0m\u001b[0mshortForCsv\u001b[0m\u001b[0;34m,\u001b[0m \u001b[0mfit_reg\u001b[0m\u001b[0;34m=\u001b[0m\u001b[0;32mFalse\u001b[0m\u001b[0;34m)\u001b[0m\u001b[0;34m\u001b[0m\u001b[0m\n\u001b[0m\u001b[1;32m      5\u001b[0m \u001b[0;31m#ax = sns.stripplot(x=shortForCsv[\"dept\"])\u001b[0m\u001b[0;34m\u001b[0m\u001b[0;34m\u001b[0m\u001b[0m\n\u001b[1;32m      6\u001b[0m \u001b[0;34m\u001b[0m\u001b[0m\n",
      "\u001b[0;32m~/anaconda3/lib/python3.6/site-packages/seaborn/linearmodels.py\u001b[0m in \u001b[0;36mlmplot\u001b[0;34m(x, y, data, hue, col, row, palette, col_wrap, size, aspect, markers, sharex, sharey, hue_order, col_order, row_order, legend, legend_out, x_estimator, x_bins, x_ci, scatter, fit_reg, ci, n_boot, units, order, logistic, lowess, robust, logx, x_partial, y_partial, truncate, x_jitter, y_jitter, scatter_kws, line_kws)\u001b[0m\n\u001b[1;32m    566\u001b[0m     \u001b[0;32mif\u001b[0m \u001b[0msharex\u001b[0m\u001b[0;34m:\u001b[0m\u001b[0;34m\u001b[0m\u001b[0m\n\u001b[1;32m    567\u001b[0m         \u001b[0;32mfor\u001b[0m \u001b[0max\u001b[0m \u001b[0;32min\u001b[0m \u001b[0mfacets\u001b[0m\u001b[0;34m.\u001b[0m\u001b[0maxes\u001b[0m\u001b[0;34m.\u001b[0m\u001b[0mflat\u001b[0m\u001b[0;34m:\u001b[0m\u001b[0;34m\u001b[0m\u001b[0m\n\u001b[0;32m--> 568\u001b[0;31m             \u001b[0max\u001b[0m\u001b[0;34m.\u001b[0m\u001b[0mscatter\u001b[0m\u001b[0;34m(\u001b[0m\u001b[0mdata\u001b[0m\u001b[0;34m[\u001b[0m\u001b[0mx\u001b[0m\u001b[0;34m]\u001b[0m\u001b[0;34m,\u001b[0m \u001b[0mnp\u001b[0m\u001b[0;34m.\u001b[0m\u001b[0mones\u001b[0m\u001b[0;34m(\u001b[0m\u001b[0mlen\u001b[0m\u001b[0;34m(\u001b[0m\u001b[0mdata\u001b[0m\u001b[0;34m)\u001b[0m\u001b[0;34m)\u001b[0m \u001b[0;34m*\u001b[0m \u001b[0mdata\u001b[0m\u001b[0;34m[\u001b[0m\u001b[0my\u001b[0m\u001b[0;34m]\u001b[0m\u001b[0;34m.\u001b[0m\u001b[0mmean\u001b[0m\u001b[0;34m(\u001b[0m\u001b[0;34m)\u001b[0m\u001b[0;34m)\u001b[0m\u001b[0;34m.\u001b[0m\u001b[0mremove\u001b[0m\u001b[0;34m(\u001b[0m\u001b[0;34m)\u001b[0m\u001b[0;34m\u001b[0m\u001b[0m\n\u001b[0m\u001b[1;32m    569\u001b[0m \u001b[0;34m\u001b[0m\u001b[0m\n\u001b[1;32m    570\u001b[0m     \u001b[0;31m# Draw the regression plot on each facet\u001b[0m\u001b[0;34m\u001b[0m\u001b[0;34m\u001b[0m\u001b[0m\n",
      "\u001b[0;32m~/anaconda3/lib/python3.6/site-packages/pandas/core/generic.py\u001b[0m in \u001b[0;36mstat_func\u001b[0;34m(self, axis, skipna, level, numeric_only, **kwargs)\u001b[0m\n\u001b[1;32m   5630\u001b[0m                                       skipna=skipna)\n\u001b[1;32m   5631\u001b[0m         return self._reduce(f, name, axis=axis, skipna=skipna,\n\u001b[0;32m-> 5632\u001b[0;31m                             numeric_only=numeric_only)\n\u001b[0m\u001b[1;32m   5633\u001b[0m \u001b[0;34m\u001b[0m\u001b[0m\n\u001b[1;32m   5634\u001b[0m     \u001b[0;32mreturn\u001b[0m \u001b[0mset_function_name\u001b[0m\u001b[0;34m(\u001b[0m\u001b[0mstat_func\u001b[0m\u001b[0;34m,\u001b[0m \u001b[0mname\u001b[0m\u001b[0;34m,\u001b[0m \u001b[0mcls\u001b[0m\u001b[0;34m)\u001b[0m\u001b[0;34m\u001b[0m\u001b[0m\n",
      "\u001b[0;32m~/anaconda3/lib/python3.6/site-packages/pandas/core/series.py\u001b[0m in \u001b[0;36m_reduce\u001b[0;34m(self, op, name, axis, skipna, numeric_only, filter_type, **kwds)\u001b[0m\n\u001b[1;32m   2318\u001b[0m                                           'numeric_only.'.format(name))\n\u001b[1;32m   2319\u001b[0m             \u001b[0;32mwith\u001b[0m \u001b[0mnp\u001b[0m\u001b[0;34m.\u001b[0m\u001b[0merrstate\u001b[0m\u001b[0;34m(\u001b[0m\u001b[0mall\u001b[0m\u001b[0;34m=\u001b[0m\u001b[0;34m'ignore'\u001b[0m\u001b[0;34m)\u001b[0m\u001b[0;34m:\u001b[0m\u001b[0;34m\u001b[0m\u001b[0m\n\u001b[0;32m-> 2320\u001b[0;31m                 \u001b[0;32mreturn\u001b[0m \u001b[0mop\u001b[0m\u001b[0;34m(\u001b[0m\u001b[0mdelegate\u001b[0m\u001b[0;34m,\u001b[0m \u001b[0mskipna\u001b[0m\u001b[0;34m=\u001b[0m\u001b[0mskipna\u001b[0m\u001b[0;34m,\u001b[0m \u001b[0;34m**\u001b[0m\u001b[0mkwds\u001b[0m\u001b[0;34m)\u001b[0m\u001b[0;34m\u001b[0m\u001b[0m\n\u001b[0m\u001b[1;32m   2321\u001b[0m \u001b[0;34m\u001b[0m\u001b[0m\n\u001b[1;32m   2322\u001b[0m         return delegate._reduce(op=op, name=name, axis=axis, skipna=skipna,\n",
      "\u001b[0;32m~/anaconda3/lib/python3.6/site-packages/pandas/core/nanops.py\u001b[0m in \u001b[0;36m_f\u001b[0;34m(*args, **kwargs)\u001b[0m\n\u001b[1;32m     48\u001b[0m             \u001b[0;32mtry\u001b[0m\u001b[0;34m:\u001b[0m\u001b[0;34m\u001b[0m\u001b[0m\n\u001b[1;32m     49\u001b[0m                 \u001b[0;32mwith\u001b[0m \u001b[0mnp\u001b[0m\u001b[0;34m.\u001b[0m\u001b[0merrstate\u001b[0m\u001b[0;34m(\u001b[0m\u001b[0minvalid\u001b[0m\u001b[0;34m=\u001b[0m\u001b[0;34m'ignore'\u001b[0m\u001b[0;34m)\u001b[0m\u001b[0;34m:\u001b[0m\u001b[0;34m\u001b[0m\u001b[0m\n\u001b[0;32m---> 50\u001b[0;31m                     \u001b[0;32mreturn\u001b[0m \u001b[0mf\u001b[0m\u001b[0;34m(\u001b[0m\u001b[0;34m*\u001b[0m\u001b[0margs\u001b[0m\u001b[0;34m,\u001b[0m \u001b[0;34m**\u001b[0m\u001b[0mkwargs\u001b[0m\u001b[0;34m)\u001b[0m\u001b[0;34m\u001b[0m\u001b[0m\n\u001b[0m\u001b[1;32m     51\u001b[0m             \u001b[0;32mexcept\u001b[0m \u001b[0mValueError\u001b[0m \u001b[0;32mas\u001b[0m \u001b[0me\u001b[0m\u001b[0;34m:\u001b[0m\u001b[0;34m\u001b[0m\u001b[0m\n\u001b[1;32m     52\u001b[0m                 \u001b[0;31m# we want to transform an object array\u001b[0m\u001b[0;34m\u001b[0m\u001b[0;34m\u001b[0m\u001b[0m\n",
      "\u001b[0;32m~/anaconda3/lib/python3.6/site-packages/pandas/core/nanops.py\u001b[0m in \u001b[0;36mf\u001b[0;34m(values, axis, skipna, **kwds)\u001b[0m\n\u001b[1;32m    107\u001b[0m             \u001b[0;32mexcept\u001b[0m \u001b[0mException\u001b[0m\u001b[0;34m:\u001b[0m\u001b[0;34m\u001b[0m\u001b[0m\n\u001b[1;32m    108\u001b[0m                 \u001b[0;32mtry\u001b[0m\u001b[0;34m:\u001b[0m\u001b[0;34m\u001b[0m\u001b[0m\n\u001b[0;32m--> 109\u001b[0;31m                     \u001b[0mresult\u001b[0m \u001b[0;34m=\u001b[0m \u001b[0malt\u001b[0m\u001b[0;34m(\u001b[0m\u001b[0mvalues\u001b[0m\u001b[0;34m,\u001b[0m \u001b[0maxis\u001b[0m\u001b[0;34m=\u001b[0m\u001b[0maxis\u001b[0m\u001b[0;34m,\u001b[0m \u001b[0mskipna\u001b[0m\u001b[0;34m=\u001b[0m\u001b[0mskipna\u001b[0m\u001b[0;34m,\u001b[0m \u001b[0;34m**\u001b[0m\u001b[0mkwds\u001b[0m\u001b[0;34m)\u001b[0m\u001b[0;34m\u001b[0m\u001b[0m\n\u001b[0m\u001b[1;32m    110\u001b[0m                 \u001b[0;32mexcept\u001b[0m \u001b[0mValueError\u001b[0m \u001b[0;32mas\u001b[0m \u001b[0me\u001b[0m\u001b[0;34m:\u001b[0m\u001b[0;34m\u001b[0m\u001b[0m\n\u001b[1;32m    111\u001b[0m                     \u001b[0;31m# we want to transform an object array\u001b[0m\u001b[0;34m\u001b[0m\u001b[0;34m\u001b[0m\u001b[0m\n",
      "\u001b[0;32m~/anaconda3/lib/python3.6/site-packages/pandas/core/nanops.py\u001b[0m in \u001b[0;36mnanmean\u001b[0;34m(values, axis, skipna)\u001b[0m\n\u001b[1;32m    297\u001b[0m         \u001b[0mdtype_count\u001b[0m \u001b[0;34m=\u001b[0m \u001b[0mdtype\u001b[0m\u001b[0;34m\u001b[0m\u001b[0m\n\u001b[1;32m    298\u001b[0m     \u001b[0mcount\u001b[0m \u001b[0;34m=\u001b[0m \u001b[0m_get_counts\u001b[0m\u001b[0;34m(\u001b[0m\u001b[0mmask\u001b[0m\u001b[0;34m,\u001b[0m \u001b[0maxis\u001b[0m\u001b[0;34m,\u001b[0m \u001b[0mdtype\u001b[0m\u001b[0;34m=\u001b[0m\u001b[0mdtype_count\u001b[0m\u001b[0;34m)\u001b[0m\u001b[0;34m\u001b[0m\u001b[0m\n\u001b[0;32m--> 299\u001b[0;31m     \u001b[0mthe_sum\u001b[0m \u001b[0;34m=\u001b[0m \u001b[0m_ensure_numeric\u001b[0m\u001b[0;34m(\u001b[0m\u001b[0mvalues\u001b[0m\u001b[0;34m.\u001b[0m\u001b[0msum\u001b[0m\u001b[0;34m(\u001b[0m\u001b[0maxis\u001b[0m\u001b[0;34m,\u001b[0m \u001b[0mdtype\u001b[0m\u001b[0;34m=\u001b[0m\u001b[0mdtype_sum\u001b[0m\u001b[0;34m)\u001b[0m\u001b[0;34m)\u001b[0m\u001b[0;34m\u001b[0m\u001b[0m\n\u001b[0m\u001b[1;32m    300\u001b[0m \u001b[0;34m\u001b[0m\u001b[0m\n\u001b[1;32m    301\u001b[0m     \u001b[0;32mif\u001b[0m \u001b[0maxis\u001b[0m \u001b[0;32mis\u001b[0m \u001b[0;32mnot\u001b[0m \u001b[0;32mNone\u001b[0m \u001b[0;32mand\u001b[0m \u001b[0mgetattr\u001b[0m\u001b[0;34m(\u001b[0m\u001b[0mthe_sum\u001b[0m\u001b[0;34m,\u001b[0m \u001b[0;34m'ndim'\u001b[0m\u001b[0;34m,\u001b[0m \u001b[0;32mFalse\u001b[0m\u001b[0;34m)\u001b[0m\u001b[0;34m:\u001b[0m\u001b[0;34m\u001b[0m\u001b[0m\n",
      "\u001b[0;32m~/anaconda3/lib/python3.6/site-packages/pandas/core/nanops.py\u001b[0m in \u001b[0;36m_ensure_numeric\u001b[0;34m(x)\u001b[0m\n\u001b[1;32m    755\u001b[0m                 \u001b[0mx\u001b[0m \u001b[0;34m=\u001b[0m \u001b[0mcomplex\u001b[0m\u001b[0;34m(\u001b[0m\u001b[0mx\u001b[0m\u001b[0;34m)\u001b[0m\u001b[0;34m\u001b[0m\u001b[0m\n\u001b[1;32m    756\u001b[0m             \u001b[0;32mexcept\u001b[0m \u001b[0mException\u001b[0m\u001b[0;34m:\u001b[0m\u001b[0;34m\u001b[0m\u001b[0m\n\u001b[0;32m--> 757\u001b[0;31m                 \u001b[0;32mraise\u001b[0m \u001b[0mTypeError\u001b[0m\u001b[0;34m(\u001b[0m\u001b[0;34m'Could not convert %s to numeric'\u001b[0m \u001b[0;34m%\u001b[0m \u001b[0mstr\u001b[0m\u001b[0;34m(\u001b[0m\u001b[0mx\u001b[0m\u001b[0;34m)\u001b[0m\u001b[0;34m)\u001b[0m\u001b[0;34m\u001b[0m\u001b[0m\n\u001b[0m\u001b[1;32m    758\u001b[0m     \u001b[0;32mreturn\u001b[0m \u001b[0mx\u001b[0m\u001b[0;34m\u001b[0m\u001b[0m\n\u001b[1;32m    759\u001b[0m \u001b[0;34m\u001b[0m\u001b[0m\n",
      "\u001b[0;31mTypeError\u001b[0m: Could not convert malemalemalemalemalefemalemalemalefemalemalemalefemalemalemalemalemalemalemalemalefemalemalemalemalemalemalemalemalefemalemalemalemalemalemalemalemalemalemalemalemalemalemalemalemalemalemalemalemalefemalemalemalemalemalemalemalemalemalemalemalemalemalemalemalemalemalefemalemalefemalemalefemalemalemalemalemalemalefemalemalemalefemalefemalemalemalemalefemalemalemalefemalemalemalemalemalefemalefemalemalemalemalefemalefemalemalefemalemale to numeric"
     ]
    }
   ],
   "source": [
    "import seaborn as sns\n",
    "#x = shortForCsv[\"dept\"]\n",
    "#y = shortForCsv[\"gender\"]\n",
    "sns.lmplot(\"dept\", \"gender\", data=shortForCsv, fit_reg=False)\n",
    "#ax = sns.stripplot(x=shortForCsv[\"dept\"])\n",
    "\n",
    "#d_2016[\"firstName\"] = y\n",
    "#d_2016[\"gender\"] = gender"
   ]
  },
  {
   "cell_type": "code",
   "execution_count": null,
   "metadata": {
    "collapsed": true
   },
   "outputs": [],
   "source": []
  },
  {
   "cell_type": "code",
   "execution_count": null,
   "metadata": {
    "collapsed": true
   },
   "outputs": [],
   "source": []
  },
  {
   "cell_type": "markdown",
   "metadata": {},
   "source": [
    "Im going to add mostly female and mostly males to females and males respectively, and group androgynous and unknown into one group...maybe ill use them later "
   ]
  },
  {
   "cell_type": "markdown",
   "metadata": {},
   "source": [
    "#trying a second gender dectector\n",
    "#couldn't geet it to work..\n",
    "#import gender_guesser.detector as gender\n",
    "import gender_detector.gender_detector as gender2\n",
    "#detector = gender_detector('us') # It can also be ar, uk, uy.\n",
    "gender2.guess('Marcos') # => 'male'\n",
    "#from gender_detector import GenderDetector\n",
    "#detector = GenderDetector('us') # It can also be ar, uk, uy.\n",
    "#detector.guess('Marcos') # => 'male'"
   ]
  },
  {
   "cell_type": "code",
   "execution_count": null,
   "metadata": {
    "collapsed": true
   },
   "outputs": [],
   "source": [
    "max(pay_2016.regular)"
   ]
  },
  {
   "cell_type": "code",
   "execution_count": null,
   "metadata": {
    "collapsed": true
   },
   "outputs": [],
   "source": [
    "min(pay_2016.regular)"
   ]
  },
  {
   "cell_type": "code",
   "execution_count": null,
   "metadata": {
    "collapsed": true
   },
   "outputs": [],
   "source": [
    "x = pay_2016.iloc[:, 0:1]  #all rows, column 1"
   ]
  },
  {
   "cell_type": "code",
   "execution_count": null,
   "metadata": {
    "collapsed": true
   },
   "outputs": [],
   "source": [
    "x\n"
   ]
  },
  {
   "cell_type": "code",
   "execution_count": null,
   "metadata": {
    "collapsed": true
   },
   "outputs": [],
   "source": [
    "plt.plot(x)\n",
    "plt.show()"
   ]
  },
  {
   "cell_type": "code",
   "execution_count": null,
   "metadata": {
    "collapsed": true
   },
   "outputs": [],
   "source": [
    "print x.mean(), x.max(), x.min(), x.mode()"
   ]
  },
  {
   "cell_type": "code",
   "execution_count": null,
   "metadata": {
    "collapsed": true
   },
   "outputs": [],
   "source": [
    "print birds[\"speed_2d\"].mean(), birds[\"speed_2d\"].max(), birds[\"speed_2d\"].min(), birds[\"speed_2d\"].mode()"
   ]
  },
  {
   "cell_type": "markdown",
   "metadata": {},
   "source": [
    "We'll get started by simply plotting the latitude and longitude of a flight\n",
    "trajectory for a single bird in a standard two dimensional plot.\n",
    "Latitude and longitude are coordinates along the surface of a sphere,\n",
    "where a standard 2-D plot is a plane\n",
    "so we would expect very strong distortions\n",
    "for the flight trajectories.\n",
    "This is especially true because the trajectories\n",
    "cover a large spatial region.\n",
    "We're doing this however, primarily to have a quick way to look at the data\n",
    "and develop more intuition about it.\n",
    "We'll be doing an actual cartographic projection later in this case study.\n"
   ]
  },
  {
   "cell_type": "markdown",
   "metadata": {},
   "source": [
    "ACCESS ONE COLUMN"
   ]
  },
  {
   "cell_type": "code",
   "execution_count": null,
   "metadata": {
    "collapsed": true
   },
   "outputs": [],
   "source": [
    "#so grab flight trajectories of single bird \n",
    "#birds[bird_name == \"Eric\"] WRONG! maybe works in np or somewhere?\n",
    "#makes a boolean\n",
    "ix = birds.bird_name == \"Eric\" #for pandas this is how to access column\n"
   ]
  },
  {
   "cell_type": "code",
   "execution_count": null,
   "metadata": {
    "collapsed": true
   },
   "outputs": [],
   "source": [
    "#one_bird = birds[\"latitude\"][\"longitude\", \"bird_name\"]\n",
    "#so hes using the ix seems to only grab values if they are True, ie Eric\n",
    "x, y = birds.longitude[ix], birds.latitude[ix]"
   ]
  },
  {
   "cell_type": "code",
   "execution_count": null,
   "metadata": {
    "collapsed": true
   },
   "outputs": [],
   "source": [
    "birds.longitude[ix].head()"
   ]
  },
  {
   "cell_type": "code",
   "execution_count": null,
   "metadata": {
    "collapsed": true
   },
   "outputs": [],
   "source": [
    "plt.subplot(211)\n",
    "plt.plot(x,y,\"ob\")\n",
    "plt.subplot(212)\n",
    "plt.plot(x,y,) #just shows default is prettier\n",
    "plt.show()"
   ]
  },
  {
   "cell_type": "markdown",
   "metadata": {},
   "source": [
    "plot more birds...\n"
   ]
  },
  {
   "cell_type": "code",
   "execution_count": null,
   "metadata": {
    "collapsed": true
   },
   "outputs": [],
   "source": [
    "birds.bird_name.tail(10)"
   ]
  },
  {
   "cell_type": "markdown",
   "metadata": {},
   "source": [
    "using unique..."
   ]
  },
  {
   "cell_type": "code",
   "execution_count": null,
   "metadata": {
    "collapsed": true
   },
   "outputs": [],
   "source": [
    "#but he does something better than this\n",
    "#ia = birds.bird_name == \"Sanne\"\n",
    "#ic = birds.bird_name == \"Nico\"\n",
    "names = pd.unique(birds.bird_name)\n",
    "names"
   ]
  },
  {
   "cell_type": "code",
   "execution_count": null,
   "metadata": {
    "collapsed": true
   },
   "outputs": [],
   "source": [
    "#having trouble with this, see how he does it below\n",
    "#he skips making a new dict or list and just puts them in the graph\n",
    "#latlong = {}\n",
    "#for i in names:\n",
    " #   ix = birds.bird_name == i\n",
    "  #  x = birds.latitude[ix], \n",
    "   # y = birds.longitude[ix]\n",
    "    #latlong[x] == y\n",
    "\n",
    "#latlong"
   ]
  },
  {
   "cell_type": "code",
   "execution_count": null,
   "metadata": {
    "collapsed": true
   },
   "outputs": [],
   "source": [
    "#his example WOW! very cool...\n",
    "#plt.figure(figsize=(7,7)) # he puts the figure creation outside the loop\n",
    "#even though  i dont it so blocked it out\n",
    "for name in names:\n",
    "    ix = birds.bird_name == name\n",
    "    x,y = birds.longitude[ix], birds.latitude[ix] #be aware the order you put them in, I had them opposite\n",
    "    plt.plot(x, y, \".\", label=name) #so for the legend to work, have to add the label here! otherwise it just says longitdue...guess the last label available to it\n",
    "plt.xlabel(\"Longitude\")\n",
    "plt.ylabel(\"Latitude\") #make sure labels match the data ie x to x and y to latitude\n",
    "plt.legend(loc=\"lower right\")\n",
    "plt.show() #im putting this down here and imagine it will work?"
   ]
  },
  {
   "cell_type": "code",
   "execution_count": null,
   "metadata": {
    "collapsed": true
   },
   "outputs": [],
   "source": [
    "a,b = birds.latitude[ia], birds.longitude[ia]\n",
    "c,d = birds.latitude[ic], birds.longitude[ic]"
   ]
  },
  {
   "cell_type": "code",
   "execution_count": null,
   "metadata": {
    "collapsed": true
   },
   "outputs": [],
   "source": [
    "plt.plot(x, y) #this also is quite different from the above, wonder why?\n",
    "plt.plot(a, b)\n",
    "plt.plot(c, d)\n",
    "plt.show()"
   ]
  },
  {
   "cell_type": "markdown",
   "metadata": {},
   "source": [
    "* Learn how to examine 2D flight speed of the birds\n",
    "* Learn how to deal with data entries that are not numeric\n",
    "* The data also contain estimates of two dimensional speeds of the birds.\n",
    "That is how fast they were flying on a 2D\n",
    "plane that is a local approximation to the curved surface of the earth.\n",
    "Let's look at the speed data in a little bit more detail."
   ]
  },
  {
   "cell_type": "code",
   "execution_count": null,
   "metadata": {
    "collapsed": true
   },
   "outputs": [],
   "source": [
    "ix = birds.bird_name == \"Eric\"\n",
    "speed = birds.speed_2d[ix]\n",
    "speed\n"
   ]
  },
  {
   "cell_type": "markdown",
   "metadata": {},
   "source": [
    "hist doesnt like it when there are null values so the below\n",
    "doesnt run..until they are eliminated..he starts by doing first 10 rows only, so good idea..."
   ]
  },
  {
   "cell_type": "code",
   "execution_count": null,
   "metadata": {
    "collapsed": true
   },
   "outputs": [],
   "source": [
    "plt.hist(speed[:10]) \n",
    "plt.show()"
   ]
  },
  {
   "cell_type": "markdown",
   "metadata": {},
   "source": [
    "are there non number objects? ..below are useful tests using numpy"
   ]
  },
  {
   "cell_type": "code",
   "execution_count": null,
   "metadata": {
    "collapsed": true
   },
   "outputs": [],
   "source": [
    "np.isnan(speed) #i dont see any trues but this is a good way to look\n",
    "np.isnan(speed).any()#this is much better since it tell us that there is a null value\n",
    "np.sum(np.isnan(speed)) #sum all the isnans... I got alot more than him??"
   ]
  },
  {
   "cell_type": "markdown",
   "metadata": {},
   "source": [
    "turn a list to its opposite with ~"
   ]
  },
  {
   "cell_type": "code",
   "execution_count": null,
   "metadata": {
    "collapsed": true
   },
   "outputs": [],
   "source": [
    "ind = np.isnan(speed)\n",
    "ind #ind is a true and false list..the NANs are true\n",
    "~ind #interesting way to get the mirror opposite of ind, the non nans are now TRUE"
   ]
  },
  {
   "cell_type": "code",
   "execution_count": null,
   "metadata": {
    "collapsed": true
   },
   "outputs": [],
   "source": [
    "#this looks the same as dropna which is less work! interesting to use that idea thought\n",
    "ind = np.isnan(speed)\n",
    "plt.hist(speed[~ind])\n",
    "plt.show()"
   ]
  },
  {
   "cell_type": "code",
   "execution_count": null,
   "metadata": {
    "collapsed": true
   },
   "outputs": [],
   "source": [
    "#kind of weird looking though..?\n",
    "# I used dropna here, \n",
    "u = speed.dropna()\n",
    "plt.hist(u)\n",
    "plt.show()"
   ]
  },
  {
   "cell_type": "markdown",
   "metadata": {},
   "source": [
    "add x label, y label, and make the bins normalized"
   ]
  },
  {
   "cell_type": "markdown",
   "metadata": {},
   "source": [
    "\n",
    "### it looks alot better adding more bins\n",
    "* the y axis is normalized, meaning\n",
    "that an integral over the histogram would be equal to 1.\n",
    "* numpy.linspace(start, stop, num=50, endpoint=True, retstep=False, dtype=None)[source]\n",
    "Return evenly spaced numbers over a specified interval."
   ]
  },
  {
   "cell_type": "code",
   "execution_count": null,
   "metadata": {
    "collapsed": true
   },
   "outputs": [],
   "source": [
    "ind = np.isnan(speed)\n",
    "plt.hist(speed[~ind], bins = np.linspace(0,30,20), normed = True)\n",
    "#i see in docs normed has been deprecated so swapping that with \"density\",\n",
    "#which doesnt work in python 2\n",
    "plt.xlabel(\"2D Speed (m/s)\")\n",
    "plt.ylabel(\"Frequency\")\n",
    "plt.show()"
   ]
  },
  {
   "cell_type": "markdown",
   "metadata": {},
   "source": [
    "### Pandas \n",
    "provide some planning functions as well,\n",
    "although less customizable than PLT plots,\n",
    "they readily deal with things like NaNs.\n",
    "However you want to make sure that you always\n",
    "examine your data carefully and look for the presence of NaNs\n",
    "before preparing your plots.\n",
    "Let's look at how we would make the histogram using pandas."
   ]
  },
  {
   "cell_type": "markdown",
   "metadata": {},
   "source": [
    "pandas uses the kind and range argument for kind and bin number...all of the nan issue happens under the hood"
   ]
  },
  {
   "cell_type": "code",
   "execution_count": null,
   "metadata": {
    "collapsed": true
   },
   "outputs": [],
   "source": [
    "birds.speed_2d.plot(kind='hist', range = [0,30]);\n",
    "plt.xlabel(\"2D Speed\");\n",
    "plt.show()"
   ]
  },
  {
   "cell_type": "markdown",
   "metadata": {},
   "source": [
    "## * Learn how deal with timestamped data using datetime\n",
    "## * Learn how to measure elapsed time"
   ]
  },
  {
   "cell_type": "markdown",
   "metadata": {},
   "source": [
    "year month and day, are all strings, we're going to  convert them into so-called daytime object, that\n",
    "supports our arithmetic operations."
   ]
  },
  {
   "cell_type": "code",
   "execution_count": null,
   "metadata": {
    "collapsed": true
   },
   "outputs": [],
   "source": [
    "birds.date_time[0:3] "
   ]
  },
  {
   "cell_type": "code",
   "execution_count": null,
   "metadata": {
    "collapsed": true
   },
   "outputs": [],
   "source": [
    "import datetime"
   ]
  },
  {
   "cell_type": "code",
   "execution_count": null,
   "metadata": {
    "collapsed": true
   },
   "outputs": [],
   "source": [
    "datetime.datetime.today()"
   ]
  },
  {
   "cell_type": "code",
   "execution_count": null,
   "metadata": {
    "collapsed": true
   },
   "outputs": [],
   "source": [
    "time_1 = datetime.datetime.today()"
   ]
  },
  {
   "cell_type": "code",
   "execution_count": null,
   "metadata": {
    "collapsed": true
   },
   "outputs": [],
   "source": [
    "time_2 = datetime.datetime.today()\n",
    "time_2"
   ]
  },
  {
   "cell_type": "code",
   "execution_count": null,
   "metadata": {
    "collapsed": true
   },
   "outputs": [],
   "source": [
    "time_2 - time_1 \n"
   ]
  },
  {
   "cell_type": "markdown",
   "metadata": {},
   "source": [
    "the above is called a date time time delta object. he said they all end i 00 but mine doesnt, thogh the data set does"
   ]
  },
  {
   "cell_type": "code",
   "execution_count": null,
   "metadata": {
    "collapsed": true
   },
   "outputs": [],
   "source": [
    "date_str = birds.date_time[0]"
   ]
  },
  {
   "cell_type": "code",
   "execution_count": null,
   "metadata": {
    "collapsed": true
   },
   "outputs": [],
   "source": [
    "print date_str, type(date_str)"
   ]
  },
  {
   "cell_type": "markdown",
   "metadata": {},
   "source": [
    "get rid of the last three characters"
   ]
  },
  {
   "cell_type": "code",
   "execution_count": null,
   "metadata": {
    "collapsed": true
   },
   "outputs": [],
   "source": [
    "date_str[:-3]"
   ]
  },
  {
   "cell_type": "markdown",
   "metadata": {},
   "source": [
    "a long way to strip and prep this\n",
    "this has two arguments, the string you are working on, then the format you want for that string -- it is picky though, if you don't peel off those last 3 digits it won't do it!"
   ]
  },
  {
   "cell_type": "code",
   "execution_count": null,
   "metadata": {
    "collapsed": true
   },
   "outputs": [],
   "source": [
    "datetime.datetime.strptime(date_str[:-3],\"%Y-%m-%d %H:%M:%S\")"
   ]
  },
  {
   "cell_type": "markdown",
   "metadata": {},
   "source": [
    "the ooutput above is a datetime object, we can go over every row and create a new datetime object for each row"
   ]
  },
  {
   "cell_type": "code",
   "execution_count": null,
   "metadata": {
    "collapsed": true
   },
   "outputs": [],
   "source": [
    "#this was taking along time to run so might be messed up\n",
    "\n",
    "timestamps = []\n",
    "done = []\n",
    "for date in birds.date_time:\n",
    "    new_date = datetime.datetime.strptime(date_str[:-3],\"%Y-%m-%d %H:%M:%S\")\n",
    "    new_time = str(new_date)\n",
    "    timestamps.append(new_time)\n"
   ]
  },
  {
   "cell_type": "code",
   "execution_count": null,
   "metadata": {
    "collapsed": true
   },
   "outputs": [],
   "source": [
    "x = str(timestamps[0])"
   ]
  },
  {
   "cell_type": "code",
   "execution_count": null,
   "metadata": {
    "collapsed": true
   },
   "outputs": [],
   "source": [
    "x"
   ]
  },
  {
   "cell_type": "markdown",
   "metadata": {},
   "source": []
  },
  {
   "cell_type": "code",
   "execution_count": null,
   "metadata": {
    "collapsed": true
   },
   "outputs": [],
   "source": []
  }
 ],
 "metadata": {
  "kernelspec": {
   "display_name": "Python 3",
   "language": "python",
   "name": "python3"
  },
  "language_info": {
   "codemirror_mode": {
    "name": "ipython",
    "version": 3
   },
   "file_extension": ".py",
   "mimetype": "text/x-python",
   "name": "python",
   "nbconvert_exporter": "python",
   "pygments_lexer": "ipython3",
   "version": "3.6.0"
  }
 },
 "nbformat": 4,
 "nbformat_minor": 2
}
