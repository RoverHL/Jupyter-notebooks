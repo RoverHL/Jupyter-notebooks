{
 "cells": [
  {
   "cell_type": "code",
   "execution_count": 47,
   "metadata": {},
   "outputs": [],
   "source": [
    "\n",
    "import warnings\n",
    "import numpy as np\n",
    "import pandas as pd\n",
    "import matplotlib\n",
    "import matplotlib.pyplot as plt\n",
    "\n",
    "from datetime import datetime\n",
    "import re\n",
    "\n",
    "\n",
    "\n",
    "\n",
    "\n",
    "\n",
    "\n",
    "\n"
   ]
  },
  {
   "cell_type": "markdown",
   "metadata": {},
   "source": [
    "# Analysis of tweets from City Year handles, who sent the most-favorited tweets, ranking of number of followers\n",
    "\n",
    "-- tweets are from late 2016 to late Sept 2018, and were obtained from twitter api for free,  so twitter doesnt guarantee completeness like it does for paid access"
   ]
  },
  {
   "cell_type": "code",
   "execution_count": 48,
   "metadata": {},
   "outputs": [],
   "source": [
    "\n",
    "allDF = pd.read_csv (\"tweets_until_late_Sept.csv\") \n",
    "#csv created from from using squlite and python twitter api access code published as open source code on curiositybits.com \n"
   ]
  },
  {
   "cell_type": "code",
   "execution_count": 49,
   "metadata": {},
   "outputs": [
    {
     "data": {
      "text/plain": [
       "Index([u'rowid', u'query', u'user_type', u'tweet_id', u'inserted_date',\n",
       "       u'truncated', u'language', u'possibly_sensitive', u'coordinates',\n",
       "       u'retweeted_status', u'withheld_in_countries', u'withheld_scope',\n",
       "       u'created_at_text', u'created_at', u'month', u'year', u'content',\n",
       "       u'from_user_screen_name', u'from_user_followers_count',\n",
       "       u'from_user_friends_count', u'from_user_listed_count',\n",
       "       u'from_user_favourites_count', u'from_user_statuses_count',\n",
       "       u'from_user_description', u'from_user_location',\n",
       "       u'from_user_created_at', u'retweet_count', u'favorite_count',\n",
       "       u'entities_urls', u'entities_urls_count', u'entities_hashtags',\n",
       "       u'entities_hashtags_count', u'entities_mentions',\n",
       "       u'entities_mentions_count', u'in_reply_to_screen_name',\n",
       "       u'in_reply_to_status_id', u'source', u'entities_expanded_urls',\n",
       "       u'json_output', u'entities_media_count', u'media_expanded_url',\n",
       "       u'media_url', u'media_type', u'video_link', u'photo_link', u'twitpic',\n",
       "       u'num_characters', u'num_words'],\n",
       "      dtype='object')"
      ]
     },
     "execution_count": 49,
     "metadata": {},
     "output_type": "execute_result"
    }
   ],
   "source": [
    "allDF.columns"
   ]
  },
  {
   "cell_type": "code",
   "execution_count": 50,
   "metadata": {},
   "outputs": [],
   "source": [
    "newDF = allDF"
   ]
  },
  {
   "cell_type": "code",
   "execution_count": 51,
   "metadata": {},
   "outputs": [],
   "source": [
    "\n",
    "#get rid of retweets, ie only content created by a city year handle not stuff handles retweeted from other sources\n",
    "\n",
    "newDF = allDF[allDF[\"retweeted_status\"].isnull()] #.dropna(axis=1)\n",
    "\n",
    "\n"
   ]
  },
  {
   "cell_type": "code",
   "execution_count": 52,
   "metadata": {},
   "outputs": [],
   "source": [
    "columns = ['rowid',\n",
    " 'query',\n",
    " 'user_type',\n",
    " 'inserted_date',\n",
    " 'truncated',\n",
    " 'language',\n",
    " 'possibly_sensitive',\n",
    " 'retweeted_status',\n",
    " 'withheld_in_countries',\n",
    " 'withheld_scope',\n",
    " 'created_at',\n",
    " 'from_user_listed_count',\n",
    " 'from_user_favourites_count',\n",
    " 'from_user_statuses_count',\n",
    " 'from_user_description',\n",
    " 'from_user_location',\n",
    " 'from_user_created_at',\n",
    " 'entities_urls',\n",
    " 'entities_urls_count',\n",
    " 'entities_hashtags',\n",
    " 'entities_hashtags_count',\n",
    " 'entities_mentions',\n",
    " 'entities_mentions_count',\n",
    " 'in_reply_to_screen_name',\n",
    " 'in_reply_to_status_id',\n",
    " 'source',\n",
    " 'entities_expanded_urls',\n",
    " 'json_output',\n",
    " 'media_url',\n",
    " 'video_link',\n",
    " 'photo_link',\n",
    " 'twitpic',\n",
    " 'num_characters',\n",
    " 'num_words',\n",
    "'coordinates',\n",
    "           'entities_media_count',\n",
    "           'media_expanded_url',\n",
    "           'media_type'\n",
    "           \n",
    "          ]\n",
    "newDF.drop(columns, inplace=True, axis=1)\n",
    "\n",
    "\n"
   ]
  },
  {
   "cell_type": "code",
   "execution_count": 53,
   "metadata": {},
   "outputs": [],
   "source": [
    "timestamps = pd.to_datetime(newDF['created_at_text'], errors='coerce')"
   ]
  },
  {
   "cell_type": "code",
   "execution_count": 54,
   "metadata": {},
   "outputs": [
    {
     "name": "stderr",
     "output_type": "stream",
     "text": [
      "/Users/hw/anaconda3/envs/python2/lib/python2.7/site-packages/ipykernel_launcher.py:1: SettingWithCopyWarning: \n",
      "A value is trying to be set on a copy of a slice from a DataFrame.\n",
      "Try using .loc[row_indexer,col_indexer] = value instead\n",
      "\n",
      "See the caveats in the documentation: http://pandas.pydata.org/pandas-docs/stable/indexing.html#indexing-view-versus-copy\n",
      "  \"\"\"Entry point for launching an IPython kernel.\n"
     ]
    }
   ],
   "source": [
    "newDF[\"timestamp\"] = pd.Series(timestamps, index = allDF.index)  \n",
    "\n"
   ]
  },
  {
   "cell_type": "code",
   "execution_count": 55,
   "metadata": {},
   "outputs": [
    {
     "data": {
      "text/plain": [
       "Timestamp('2018-09-25 17:33:23')"
      ]
     },
     "execution_count": 55,
     "metadata": {},
     "output_type": "execute_result"
    }
   ],
   "source": [
    "max(newDF.timestamp)"
   ]
  },
  {
   "cell_type": "code",
   "execution_count": 56,
   "metadata": {},
   "outputs": [
    {
     "data": {
      "text/plain": [
       "Timestamp('2014-04-21 20:43:05')"
      ]
     },
     "execution_count": 56,
     "metadata": {},
     "output_type": "execute_result"
    }
   ],
   "source": [
    "min(newDF.timestamp)"
   ]
  },
  {
   "cell_type": "code",
   "execution_count": 57,
   "metadata": {},
   "outputs": [
    {
     "data": {
      "text/plain": [
       "['tweet_id',\n",
       " 'created_at_text',\n",
       " 'month',\n",
       " 'year',\n",
       " 'content',\n",
       " 'from_user_screen_name',\n",
       " 'from_user_followers_count',\n",
       " 'from_user_friends_count',\n",
       " 'retweet_count',\n",
       " 'favorite_count',\n",
       " 'timestamp']"
      ]
     },
     "execution_count": 57,
     "metadata": {},
     "output_type": "execute_result"
    }
   ],
   "source": [
    "list(newDF)"
   ]
  },
  {
   "cell_type": "code",
   "execution_count": 58,
   "metadata": {},
   "outputs": [],
   "source": [
    "followers = newDF[['from_user_screen_name', 'from_user_followers_count', 'timestamp']].copy()\n"
   ]
  },
  {
   "cell_type": "code",
   "execution_count": 59,
   "metadata": {},
   "outputs": [],
   "source": [
    "\n",
    "groupedFollowers = followers.groupby('from_user_screen_name', as_index=False).max()"
   ]
  },
  {
   "cell_type": "code",
   "execution_count": 60,
   "metadata": {},
   "outputs": [],
   "source": [
    "#sort by followers count\n",
    "groupedFollowers = groupedFollowers.sort_values(by=\"from_user_followers_count\",ascending=False)\n"
   ]
  },
  {
   "cell_type": "markdown",
   "metadata": {},
   "source": [
    "## Rank City Year twitter handles by follower count"
   ]
  },
  {
   "cell_type": "code",
   "execution_count": 61,
   "metadata": {},
   "outputs": [
    {
     "data": {
      "text/html": [
       "<div>\n",
       "<style scoped>\n",
       "    .dataframe tbody tr th:only-of-type {\n",
       "        vertical-align: middle;\n",
       "    }\n",
       "\n",
       "    .dataframe tbody tr th {\n",
       "        vertical-align: top;\n",
       "    }\n",
       "\n",
       "    .dataframe thead th {\n",
       "        text-align: right;\n",
       "    }\n",
       "</style>\n",
       "<table border=\"1\" class=\"dataframe\">\n",
       "  <thead>\n",
       "    <tr style=\"text-align: right;\">\n",
       "      <th></th>\n",
       "      <th>from_user_screen_name</th>\n",
       "      <th>from_user_followers_count</th>\n",
       "    </tr>\n",
       "  </thead>\n",
       "  <tbody>\n",
       "    <tr>\n",
       "      <th>2</th>\n",
       "      <td>CityYear</td>\n",
       "      <td>31711</td>\n",
       "    </tr>\n",
       "    <tr>\n",
       "      <th>12</th>\n",
       "      <td>CityYearLA</td>\n",
       "      <td>15001</td>\n",
       "    </tr>\n",
       "    <tr>\n",
       "      <th>4</th>\n",
       "      <td>CityYearBoston</td>\n",
       "      <td>7320</td>\n",
       "    </tr>\n",
       "    <tr>\n",
       "      <th>7</th>\n",
       "      <td>CityYearDC</td>\n",
       "      <td>5430</td>\n",
       "    </tr>\n",
       "    <tr>\n",
       "      <th>25</th>\n",
       "      <td>CityYearUK</td>\n",
       "      <td>5201</td>\n",
       "    </tr>\n",
       "    <tr>\n",
       "      <th>15</th>\n",
       "      <td>CityYearMiami</td>\n",
       "      <td>5102</td>\n",
       "    </tr>\n",
       "    <tr>\n",
       "      <th>18</th>\n",
       "      <td>CityYearNewYork</td>\n",
       "      <td>4821</td>\n",
       "    </tr>\n",
       "    <tr>\n",
       "      <th>21</th>\n",
       "      <td>CityYearPhilly</td>\n",
       "      <td>4321</td>\n",
       "    </tr>\n",
       "    <tr>\n",
       "      <th>6</th>\n",
       "      <td>CityYearChicago</td>\n",
       "      <td>4047</td>\n",
       "    </tr>\n",
       "    <tr>\n",
       "      <th>13</th>\n",
       "      <td>CityYearMKE</td>\n",
       "      <td>3951</td>\n",
       "    </tr>\n",
       "    <tr>\n",
       "      <th>23</th>\n",
       "      <td>CityYearSeattle</td>\n",
       "      <td>3026</td>\n",
       "    </tr>\n",
       "    <tr>\n",
       "      <th>5</th>\n",
       "      <td>CityYearCLE</td>\n",
       "      <td>2988</td>\n",
       "    </tr>\n",
       "    <tr>\n",
       "      <th>20</th>\n",
       "      <td>CityYearPVD</td>\n",
       "      <td>2636</td>\n",
       "    </tr>\n",
       "    <tr>\n",
       "      <th>1</th>\n",
       "      <td>CareForce</td>\n",
       "      <td>2583</td>\n",
       "    </tr>\n",
       "    <tr>\n",
       "      <th>9</th>\n",
       "      <td>CityYearDetroit</td>\n",
       "      <td>2237</td>\n",
       "    </tr>\n",
       "    <tr>\n",
       "      <th>19</th>\n",
       "      <td>CityYearOrlando</td>\n",
       "      <td>2218</td>\n",
       "    </tr>\n",
       "    <tr>\n",
       "      <th>16</th>\n",
       "      <td>CityYearNH</td>\n",
       "      <td>2041</td>\n",
       "    </tr>\n",
       "    <tr>\n",
       "      <th>3</th>\n",
       "      <td>CityYearBR</td>\n",
       "      <td>1764</td>\n",
       "    </tr>\n",
       "    <tr>\n",
       "      <th>10</th>\n",
       "      <td>CityYearJAX</td>\n",
       "      <td>1742</td>\n",
       "    </tr>\n",
       "    <tr>\n",
       "      <th>24</th>\n",
       "      <td>CityYearTulsa</td>\n",
       "      <td>1663</td>\n",
       "    </tr>\n",
       "    <tr>\n",
       "      <th>8</th>\n",
       "      <td>CityYearDenver</td>\n",
       "      <td>1611</td>\n",
       "    </tr>\n",
       "    <tr>\n",
       "      <th>22</th>\n",
       "      <td>CityYearSAC</td>\n",
       "      <td>1458</td>\n",
       "    </tr>\n",
       "    <tr>\n",
       "      <th>17</th>\n",
       "      <td>CityYearNOLA</td>\n",
       "      <td>1430</td>\n",
       "    </tr>\n",
       "    <tr>\n",
       "      <th>11</th>\n",
       "      <td>CityYearKC</td>\n",
       "      <td>1083</td>\n",
       "    </tr>\n",
       "    <tr>\n",
       "      <th>14</th>\n",
       "      <td>CityYearMemphis</td>\n",
       "      <td>553</td>\n",
       "    </tr>\n",
       "    <tr>\n",
       "      <th>26</th>\n",
       "      <td>CityYear_NOLA</td>\n",
       "      <td>192</td>\n",
       "    </tr>\n",
       "    <tr>\n",
       "      <th>0</th>\n",
       "      <td>CYSA_MLK</td>\n",
       "      <td>64</td>\n",
       "    </tr>\n",
       "  </tbody>\n",
       "</table>\n",
       "</div>"
      ],
      "text/plain": [
       "   from_user_screen_name  from_user_followers_count\n",
       "2               CityYear                      31711\n",
       "12            CityYearLA                      15001\n",
       "4         CityYearBoston                       7320\n",
       "7             CityYearDC                       5430\n",
       "25            CityYearUK                       5201\n",
       "15         CityYearMiami                       5102\n",
       "18       CityYearNewYork                       4821\n",
       "21        CityYearPhilly                       4321\n",
       "6        CityYearChicago                       4047\n",
       "13           CityYearMKE                       3951\n",
       "23       CityYearSeattle                       3026\n",
       "5            CityYearCLE                       2988\n",
       "20           CityYearPVD                       2636\n",
       "1              CareForce                       2583\n",
       "9        CityYearDetroit                       2237\n",
       "19       CityYearOrlando                       2218\n",
       "16            CityYearNH                       2041\n",
       "3             CityYearBR                       1764\n",
       "10           CityYearJAX                       1742\n",
       "24         CityYearTulsa                       1663\n",
       "8         CityYearDenver                       1611\n",
       "22           CityYearSAC                       1458\n",
       "17          CityYearNOLA                       1430\n",
       "11            CityYearKC                       1083\n",
       "14       CityYearMemphis                        553\n",
       "26         CityYear_NOLA                        192\n",
       "0               CYSA_MLK                         64"
      ]
     },
     "execution_count": 61,
     "metadata": {},
     "output_type": "execute_result"
    }
   ],
   "source": [
    "#get rid of extra column and make a graph\n",
    "graphFollowers = groupedFollowers.drop('timestamp', 1)\n",
    "\n",
    "graphFollowers"
   ]
  },
  {
   "cell_type": "code",
   "execution_count": 62,
   "metadata": {},
   "outputs": [],
   "source": [
    "#change column names\n",
    "graphFollowers.columns = ['twitter_handle', 'followers']"
   ]
  },
  {
   "cell_type": "markdown",
   "metadata": {},
   "source": [
    "## Graph City Year twitter handles by follower count"
   ]
  },
  {
   "cell_type": "code",
   "execution_count": 63,
   "metadata": {},
   "outputs": [
    {
     "data": {
      "image/png": "[encoded data removed]",
      "text/plain": [
       "<Figure size 1440x1440 with 1 Axes>"
      ]
     },
     "metadata": {},
     "output_type": "display_data"
    }
   ],
   "source": [
    "objects = graphFollowers.twitter_handle\n",
    "y_pos = np.arange(len(objects))\n",
    "performance = graphFollowers.followers\n",
    "plt.figure(figsize=(20,20)) #figure size \n",
    "plt.barh(y_pos, performance, align='center', alpha=0.5)\n",
    "plt.yticks(y_pos, objects)\n",
    "plt.xlabel('Twitter Followers')\n",
    "plt.title('City Year Handles by Twitter Follower Count')\n",
    "\n",
    "plt.show()"
   ]
  },
  {
   "cell_type": "code",
   "execution_count": 64,
   "metadata": {},
   "outputs": [],
   "source": [
    "liked = newDF[['from_user_screen_name', 'favorite_count', 'timestamp']].copy()\n",
    "#liked.head()\n",
    "\n"
   ]
  },
  {
   "cell_type": "code",
   "execution_count": 65,
   "metadata": {},
   "outputs": [],
   "source": [
    "\n",
    "groupedLiked = liked.groupby('from_user_screen_name', as_index=False).max()"
   ]
  },
  {
   "cell_type": "code",
   "execution_count": 66,
   "metadata": {},
   "outputs": [],
   "source": [
    "#sort by favorite count\n",
    "groupedLiked = groupedLiked.sort_values(by=\"favorite_count\",ascending=False)\n"
   ]
  },
  {
   "cell_type": "code",
   "execution_count": 67,
   "metadata": {},
   "outputs": [],
   "source": [
    "#get rid of extra column and make a graph\n",
    "graphLiked = groupedLiked.drop('timestamp', 1)\n",
    "\n",
    "#graphLiked.head()"
   ]
  },
  {
   "cell_type": "code",
   "execution_count": 68,
   "metadata": {},
   "outputs": [],
   "source": [
    "graphLiked.columns = ['twitter_handle', 'favorited count']"
   ]
  },
  {
   "cell_type": "markdown",
   "metadata": {},
   "source": [
    "## Most tweet-likes for each handle, ie take all the tweets and likes and pick out the max likes for each handle on a tweet"
   ]
  },
  {
   "cell_type": "code",
   "execution_count": 69,
   "metadata": {},
   "outputs": [
    {
     "data": {
      "image/png": "[encoded data removed]",
      "text/plain": [
       "<Figure size 1440x1440 with 1 Axes>"
      ]
     },
     "metadata": {},
     "output_type": "display_data"
    }
   ],
   "source": [
    "objects2 = graphLiked.twitter_handle\n",
    "y_pos = np.arange(len(objects2))\n",
    "performance2 = graphLiked['favorited count']\n",
    "plt.figure(figsize=(20,20)) #figure size \n",
    "plt.barh(y_pos, performance2, align='center', alpha=0.5)\n",
    "plt.yticks(y_pos, objects2)\n",
    "plt.xlabel('Number of Times Liked')\n",
    "plt.title('Most-Likes for a Tweet for Each Handle')\n",
    " \n",
    "plt.show()"
   ]
  },
  {
   "cell_type": "markdown",
   "metadata": {},
   "source": [
    "#  the top 10 tweeted across all the handles, ie who most often sends the top tweeted "
   ]
  },
  {
   "cell_type": "code",
   "execution_count": 91,
   "metadata": {},
   "outputs": [],
   "source": [
    "\n",
    "groupedMostLiked = liked.sort_values(by=\"favorite_count\",ascending=False)\n",
    "#there are 2383 entries, some are 0"
   ]
  },
  {
   "cell_type": "code",
   "execution_count": 92,
   "metadata": {},
   "outputs": [],
   "source": [
    "#get rid of extra column and make a graph\n",
    "groupedMostLiked = groupedMostLiked.drop('timestamp', 1)"
   ]
  },
  {
   "cell_type": "code",
   "execution_count": 88,
   "metadata": {},
   "outputs": [],
   "source": [
    "groupedMostLiked.columns = ['twitter_handle', 'favorited count']\n",
    "top10 = groupedMostLiked.head(10)"
   ]
  },
  {
   "cell_type": "code",
   "execution_count": 94,
   "metadata": {},
   "outputs": [
    {
     "data": {
      "image/png": "[encoded data removed]",
      "text/plain": [
       "<Figure size 1440x720 with 1 Axes>"
      ]
     },
     "metadata": {},
     "output_type": "display_data"
    }
   ],
   "source": [
    "objects3 = top10.twitter_handle\n",
    "y_pos = np.arange(len(objects3))\n",
    "performance3 = top10['favorited count']\n",
    "plt.figure(figsize=(20,10)) #figure size \n",
    "plt.barh(y_pos, performance3, align='center', alpha=0.5)\n",
    "plt.yticks(y_pos, objects3)\n",
    "plt.xlabel('Number of Times Liked')\n",
    "plt.title('Most-Liked Tweets All Handles')\n",
    " \n",
    "plt.show()"
   ]
  },
  {
   "cell_type": "code",
   "execution_count": 95,
   "metadata": {},
   "outputs": [
    {
     "data": {
      "text/plain": [
       "['tweet_id',\n",
       " 'created_at_text',\n",
       " 'month',\n",
       " 'year',\n",
       " 'content',\n",
       " 'from_user_screen_name',\n",
       " 'from_user_followers_count',\n",
       " 'from_user_friends_count',\n",
       " 'retweet_count',\n",
       " 'favorite_count',\n",
       " 'timestamp']"
      ]
     },
     "execution_count": 95,
     "metadata": {},
     "output_type": "execute_result"
    }
   ],
   "source": [
    "list(newDF)"
   ]
  },
  {
   "cell_type": "markdown",
   "metadata": {},
   "source": [
    "# most retweeted tweets produced by city year handles (more detail continues  in other notebook)"
   ]
  },
  {
   "cell_type": "code",
   "execution_count": 97,
   "metadata": {},
   "outputs": [],
   "source": [
    "retweeted = newDF[['from_user_screen_name', 'retweet_count', 'timestamp','content']].copy()\n",
    "\n"
   ]
  },
  {
   "cell_type": "code",
   "execution_count": 102,
   "metadata": {},
   "outputs": [],
   "source": [
    "\n",
    "groupedMostRetweeted = retweeted.sort_values(by=\"retweet_count\",ascending=False)\n",
    "#print(groupedMostRetweeted.head(10)) #there are 2383 entries, some are 0\n"
   ]
  },
  {
   "cell_type": "code",
   "execution_count": 103,
   "metadata": {},
   "outputs": [],
   "source": [
    "#get rid of extra column and make a graph\n",
    "groupedMostRetweeted = groupedMostRetweeted.drop('timestamp', 1)"
   ]
  },
  {
   "cell_type": "code",
   "execution_count": 104,
   "metadata": {},
   "outputs": [
    {
     "name": "stdout",
     "output_type": "stream",
     "text": [
      "       twitter handle  times retweeted  \\\n",
      "3            CityYear               44   \n",
      "149          CityYear               41   \n",
      "171          CityYear               39   \n",
      "4270  CityYearNewYork               35   \n",
      "54           CityYear               30   \n",
      "5042     CityYearNOLA               24   \n",
      "5225         CityYear               22   \n",
      "4272  CityYearNewYork               21   \n",
      "2095   CityYearBoston               16   \n",
      "2138   CityYearBoston               15   \n",
      "\n",
      "                                                content  \n",
      "3     .@BarackObama shares our belief in the power o...  \n",
      "149   Dr. King dedicated his life to fighting for eq...  \n",
      "171   At City Year we believe in the power of young ...  \n",
      "4270  “I know that many of you are drawn to City Yea...  \n",
      "54    Happy #PrideMonth We believe a culture of incl...  \n",
      "5042  “Intelligence plus character-that is the goal ...  \n",
      "5225  We will never forget Senator John McCain’s lif...  \n",
      "4272  “As an actress and an activist, Mariska has he...  \n",
      "2095  “What’s special about Boston is right here at ...  \n",
      "2138  Thank you Mayor @marty_walsh for showing your ...  \n"
     ]
    }
   ],
   "source": [
    "groupedMostRetweeted.columns = ['twitter handle', 'times retweeted','content']\n",
    "top10retweets = groupedMostRetweeted.head(10)\n",
    "print(top10retweets)"
   ]
  },
  {
   "cell_type": "code",
   "execution_count": 105,
   "metadata": {},
   "outputs": [
    {
     "data": {
      "image/png": "[encoded data removed]",
      "text/plain": [
       "<Figure size 432x288 with 1 Axes>"
      ]
     },
     "metadata": {},
     "output_type": "display_data"
    }
   ],
   "source": [
    "objects4 = top10retweets['twitter handle']\n",
    "y_pos = np.arange(len(objects3))\n",
    "performance4 = top10retweets['times retweeted']\n",
    " \n",
    "plt.barh(y_pos, performance4, align='center', alpha=0.5)\n",
    "plt.yticks(y_pos, objects4)\n",
    "plt.xlabel('Number of Times Retweeted')\n",
    "plt.title('Most-Retweeted Tweets of All Time')\n",
    " \n",
    "plt.show()"
   ]
  }
 ],
 "metadata": {
  "kernelspec": {
   "display_name": "Python 2",
   "language": "python",
   "name": "python2"
  },
  "language_info": {
   "codemirror_mode": {
    "name": "ipython",
    "version": 2
   },
   "file_extension": ".py",
   "mimetype": "text/x-python",
   "name": "python",
   "nbconvert_exporter": "python",
   "pygments_lexer": "ipython2",
   "version": "2.7.15"
  }
 },
 "nbformat": 4,
 "nbformat_minor": 2
}
